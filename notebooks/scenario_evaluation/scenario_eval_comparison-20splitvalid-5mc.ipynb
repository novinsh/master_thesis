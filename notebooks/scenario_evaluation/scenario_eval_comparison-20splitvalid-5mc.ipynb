{
 "cells": [
  {
   "cell_type": "code",
   "execution_count": 1,
   "metadata": {},
   "outputs": [],
   "source": [
    "%load_ext autoreload\n",
    "%autoreload 2\n",
    "\n",
    "import numpy as np\n",
    "import pandas as pd\n",
    "import timesynth as ts\n",
    "from matplotlib import pyplot as plt\n",
    "from sklearn.preprocessing import MinMaxScaler, StandardScaler\n",
    "\n",
    "plt.rcParams['figure.figsize'] = [17, 4]\n",
    "np.random.seed(100)\n",
    "\n",
    "import os\n",
    "import sys\n",
    "module_path = os.path.abspath(os.path.join(\"../../\"))\n",
    "if module_path not in sys.path:\n",
    "    sys.path.append(module_path)"
   ]
  },
  {
   "cell_type": "code",
   "execution_count": 2,
   "metadata": {},
   "outputs": [
    {
     "data": {
      "text/html": [
       "<div>\n",
       "<style scoped>\n",
       "    .dataframe tbody tr th:only-of-type {\n",
       "        vertical-align: middle;\n",
       "    }\n",
       "\n",
       "    .dataframe tbody tr th {\n",
       "        vertical-align: top;\n",
       "    }\n",
       "\n",
       "    .dataframe thead th {\n",
       "        text-align: right;\n",
       "    }\n",
       "</style>\n",
       "<table border=\"1\" class=\"dataframe\">\n",
       "  <thead>\n",
       "    <tr style=\"text-align: right;\">\n",
       "      <th></th>\n",
       "      <th>wf1</th>\n",
       "      <th>wf2</th>\n",
       "      <th>wf3</th>\n",
       "      <th>wf4</th>\n",
       "      <th>wf5</th>\n",
       "      <th>wf6</th>\n",
       "      <th>wf7</th>\n",
       "      <th>wf8</th>\n",
       "      <th>wf9</th>\n",
       "      <th>wf10</th>\n",
       "    </tr>\n",
       "    <tr>\n",
       "      <th>datetime</th>\n",
       "      <th></th>\n",
       "      <th></th>\n",
       "      <th></th>\n",
       "      <th></th>\n",
       "      <th></th>\n",
       "      <th></th>\n",
       "      <th></th>\n",
       "      <th></th>\n",
       "      <th></th>\n",
       "      <th></th>\n",
       "    </tr>\n",
       "  </thead>\n",
       "  <tbody>\n",
       "    <tr>\n",
       "      <th>2012-01-01 01:00:00</th>\n",
       "      <td>0.000000</td>\n",
       "      <td>0.596273</td>\n",
       "      <td>0.425465</td>\n",
       "      <td>0.378229</td>\n",
       "      <td>0.273678</td>\n",
       "      <td>0.268101</td>\n",
       "      <td>0.000000</td>\n",
       "      <td>0.000000</td>\n",
       "      <td>0.0</td>\n",
       "      <td>0.594361</td>\n",
       "    </tr>\n",
       "    <tr>\n",
       "      <th>2012-01-01 02:00:00</th>\n",
       "      <td>0.054879</td>\n",
       "      <td>0.411180</td>\n",
       "      <td>0.363851</td>\n",
       "      <td>0.063012</td>\n",
       "      <td>0.086796</td>\n",
       "      <td>0.034542</td>\n",
       "      <td>0.014708</td>\n",
       "      <td>0.014954</td>\n",
       "      <td>0.0</td>\n",
       "      <td>0.569679</td>\n",
       "    </tr>\n",
       "    <tr>\n",
       "      <th>2012-01-01 03:00:00</th>\n",
       "      <td>0.110234</td>\n",
       "      <td>0.167243</td>\n",
       "      <td>0.297129</td>\n",
       "      <td>0.036704</td>\n",
       "      <td>0.006811</td>\n",
       "      <td>0.020621</td>\n",
       "      <td>0.035098</td>\n",
       "      <td>0.071785</td>\n",
       "      <td>0.0</td>\n",
       "      <td>0.330539</td>\n",
       "    </tr>\n",
       "    <tr>\n",
       "      <th>2012-01-01 04:00:00</th>\n",
       "      <td>0.165116</td>\n",
       "      <td>0.037326</td>\n",
       "      <td>0.235438</td>\n",
       "      <td>0.034342</td>\n",
       "      <td>0.018646</td>\n",
       "      <td>0.001867</td>\n",
       "      <td>0.045055</td>\n",
       "      <td>0.066796</td>\n",
       "      <td>0.0</td>\n",
       "      <td>0.211308</td>\n",
       "    </tr>\n",
       "    <tr>\n",
       "      <th>2012-01-01 05:00:00</th>\n",
       "      <td>0.156940</td>\n",
       "      <td>0.051206</td>\n",
       "      <td>0.120904</td>\n",
       "      <td>0.033554</td>\n",
       "      <td>0.034812</td>\n",
       "      <td>0.015174</td>\n",
       "      <td>0.050160</td>\n",
       "      <td>0.034797</td>\n",
       "      <td>0.0</td>\n",
       "      <td>0.172140</td>\n",
       "    </tr>\n",
       "  </tbody>\n",
       "</table>\n",
       "</div>"
      ],
      "text/plain": [
       "                          wf1       wf2       wf3       wf4       wf5  \\\n",
       "datetime                                                                \n",
       "2012-01-01 01:00:00  0.000000  0.596273  0.425465  0.378229  0.273678   \n",
       "2012-01-01 02:00:00  0.054879  0.411180  0.363851  0.063012  0.086796   \n",
       "2012-01-01 03:00:00  0.110234  0.167243  0.297129  0.036704  0.006811   \n",
       "2012-01-01 04:00:00  0.165116  0.037326  0.235438  0.034342  0.018646   \n",
       "2012-01-01 05:00:00  0.156940  0.051206  0.120904  0.033554  0.034812   \n",
       "\n",
       "                          wf6       wf7       wf8  wf9      wf10  \n",
       "datetime                                                          \n",
       "2012-01-01 01:00:00  0.268101  0.000000  0.000000  0.0  0.594361  \n",
       "2012-01-01 02:00:00  0.034542  0.014708  0.014954  0.0  0.569679  \n",
       "2012-01-01 03:00:00  0.020621  0.035098  0.071785  0.0  0.330539  \n",
       "2012-01-01 04:00:00  0.001867  0.045055  0.066796  0.0  0.211308  \n",
       "2012-01-01 05:00:00  0.015174  0.050160  0.034797  0.0  0.172140  "
      ]
     },
     "metadata": {},
     "output_type": "display_data"
    },
    {
     "name": "stdout",
     "output_type": "stream",
     "text": [
      "first date: 2012-01-01 01:00:00\n",
      "last date: 2013-12-01 00:00:00\n"
     ]
    }
   ],
   "source": [
    "data_directory = '../../data/GEFCom2014-W_V2/Wind/Task 15/'\n",
    "df_power = pd.read_pickle(os.path.join(data_directory,\"df_power.pkl\"))\n",
    "display(df_power.head())\n",
    "print(\"first date: %s\"% df_power.index[0])\n",
    "print(\"last date: %s\" % df_power.index[-1])"
   ]
  },
  {
   "cell_type": "code",
   "execution_count": 3,
   "metadata": {},
   "outputs": [
    {
     "data": {
      "text/html": [
       "<div>\n",
       "<style scoped>\n",
       "    .dataframe tbody tr th:only-of-type {\n",
       "        vertical-align: middle;\n",
       "    }\n",
       "\n",
       "    .dataframe tbody tr th {\n",
       "        vertical-align: top;\n",
       "    }\n",
       "\n",
       "    .dataframe thead tr th {\n",
       "        text-align: left;\n",
       "    }\n",
       "\n",
       "    .dataframe thead tr:last-of-type th {\n",
       "        text-align: right;\n",
       "    }\n",
       "</style>\n",
       "<table border=\"1\" class=\"dataframe\">\n",
       "  <thead>\n",
       "    <tr>\n",
       "      <th></th>\n",
       "      <th colspan=\"4\" halign=\"left\">1</th>\n",
       "      <th colspan=\"4\" halign=\"left\">2</th>\n",
       "      <th colspan=\"2\" halign=\"left\">3</th>\n",
       "      <th>...</th>\n",
       "      <th colspan=\"2\" halign=\"left\">8</th>\n",
       "      <th colspan=\"4\" halign=\"left\">9</th>\n",
       "      <th colspan=\"4\" halign=\"left\">10</th>\n",
       "    </tr>\n",
       "    <tr>\n",
       "      <th></th>\n",
       "      <th>U10</th>\n",
       "      <th>V10</th>\n",
       "      <th>U100</th>\n",
       "      <th>V100</th>\n",
       "      <th>U10</th>\n",
       "      <th>V10</th>\n",
       "      <th>U100</th>\n",
       "      <th>V100</th>\n",
       "      <th>U10</th>\n",
       "      <th>V10</th>\n",
       "      <th>...</th>\n",
       "      <th>U100</th>\n",
       "      <th>V100</th>\n",
       "      <th>U10</th>\n",
       "      <th>V10</th>\n",
       "      <th>U100</th>\n",
       "      <th>V100</th>\n",
       "      <th>U10</th>\n",
       "      <th>V10</th>\n",
       "      <th>U100</th>\n",
       "      <th>V100</th>\n",
       "    </tr>\n",
       "    <tr>\n",
       "      <th>datetime</th>\n",
       "      <th></th>\n",
       "      <th></th>\n",
       "      <th></th>\n",
       "      <th></th>\n",
       "      <th></th>\n",
       "      <th></th>\n",
       "      <th></th>\n",
       "      <th></th>\n",
       "      <th></th>\n",
       "      <th></th>\n",
       "      <th></th>\n",
       "      <th></th>\n",
       "      <th></th>\n",
       "      <th></th>\n",
       "      <th></th>\n",
       "      <th></th>\n",
       "      <th></th>\n",
       "      <th></th>\n",
       "      <th></th>\n",
       "      <th></th>\n",
       "      <th></th>\n",
       "    </tr>\n",
       "  </thead>\n",
       "  <tbody>\n",
       "    <tr>\n",
       "      <th>2012-01-01 01:00:00</th>\n",
       "      <td>2.124600</td>\n",
       "      <td>-2.681966</td>\n",
       "      <td>2.864280</td>\n",
       "      <td>-3.666076</td>\n",
       "      <td>-0.171642</td>\n",
       "      <td>-5.466031</td>\n",
       "      <td>-0.112594</td>\n",
       "      <td>-7.101347</td>\n",
       "      <td>2.193217</td>\n",
       "      <td>-4.649168</td>\n",
       "      <td>...</td>\n",
       "      <td>-0.625438</td>\n",
       "      <td>0.298533</td>\n",
       "      <td>1.903254</td>\n",
       "      <td>-1.495002</td>\n",
       "      <td>2.516723</td>\n",
       "      <td>-2.078063</td>\n",
       "      <td>1.655790</td>\n",
       "      <td>-4.649593</td>\n",
       "      <td>2.024257</td>\n",
       "      <td>-5.992232</td>\n",
       "    </tr>\n",
       "    <tr>\n",
       "      <th>2012-01-01 02:00:00</th>\n",
       "      <td>2.521695</td>\n",
       "      <td>-1.796960</td>\n",
       "      <td>3.344859</td>\n",
       "      <td>-2.464761</td>\n",
       "      <td>-0.088859</td>\n",
       "      <td>-4.643205</td>\n",
       "      <td>-0.014100</td>\n",
       "      <td>-5.896778</td>\n",
       "      <td>2.970141</td>\n",
       "      <td>-3.944314</td>\n",
       "      <td>...</td>\n",
       "      <td>0.024957</td>\n",
       "      <td>0.797498</td>\n",
       "      <td>2.173296</td>\n",
       "      <td>-0.643641</td>\n",
       "      <td>2.837109</td>\n",
       "      <td>-1.006914</td>\n",
       "      <td>2.178609</td>\n",
       "      <td>-4.184944</td>\n",
       "      <td>2.623141</td>\n",
       "      <td>-5.318086</td>\n",
       "    </tr>\n",
       "    <tr>\n",
       "      <th>2012-01-01 03:00:00</th>\n",
       "      <td>2.672210</td>\n",
       "      <td>-0.822516</td>\n",
       "      <td>3.508448</td>\n",
       "      <td>-1.214093</td>\n",
       "      <td>-0.246014</td>\n",
       "      <td>-3.613395</td>\n",
       "      <td>-0.225238</td>\n",
       "      <td>-4.489369</td>\n",
       "      <td>3.238855</td>\n",
       "      <td>-3.144486</td>\n",
       "      <td>...</td>\n",
       "      <td>0.674786</td>\n",
       "      <td>1.626758</td>\n",
       "      <td>2.312744</td>\n",
       "      <td>0.136595</td>\n",
       "      <td>3.034096</td>\n",
       "      <td>-0.015490</td>\n",
       "      <td>2.228633</td>\n",
       "      <td>-3.242442</td>\n",
       "      <td>2.645217</td>\n",
       "      <td>-4.052232</td>\n",
       "    </tr>\n",
       "    <tr>\n",
       "      <th>2012-01-01 04:00:00</th>\n",
       "      <td>2.457504</td>\n",
       "      <td>-0.143642</td>\n",
       "      <td>3.215233</td>\n",
       "      <td>-0.355546</td>\n",
       "      <td>-0.680738</td>\n",
       "      <td>-2.919615</td>\n",
       "      <td>-0.772046</td>\n",
       "      <td>-3.598824</td>\n",
       "      <td>3.260990</td>\n",
       "      <td>-2.228816</td>\n",
       "      <td>...</td>\n",
       "      <td>0.936869</td>\n",
       "      <td>2.625774</td>\n",
       "      <td>2.217565</td>\n",
       "      <td>0.797156</td>\n",
       "      <td>2.941829</td>\n",
       "      <td>0.823531</td>\n",
       "      <td>2.077232</td>\n",
       "      <td>-2.345085</td>\n",
       "      <td>2.432947</td>\n",
       "      <td>-2.913831</td>\n",
       "    </tr>\n",
       "    <tr>\n",
       "      <th>2012-01-01 05:00:00</th>\n",
       "      <td>2.245898</td>\n",
       "      <td>0.389576</td>\n",
       "      <td>2.957678</td>\n",
       "      <td>0.332701</td>\n",
       "      <td>-1.261106</td>\n",
       "      <td>-2.619786</td>\n",
       "      <td>-1.487537</td>\n",
       "      <td>-3.244667</td>\n",
       "      <td>2.940038</td>\n",
       "      <td>-2.040145</td>\n",
       "      <td>...</td>\n",
       "      <td>0.720637</td>\n",
       "      <td>3.501676</td>\n",
       "      <td>1.900598</td>\n",
       "      <td>1.285656</td>\n",
       "      <td>2.559177</td>\n",
       "      <td>1.471102</td>\n",
       "      <td>1.814716</td>\n",
       "      <td>-1.577625</td>\n",
       "      <td>2.097844</td>\n",
       "      <td>-1.976100</td>\n",
       "    </tr>\n",
       "  </tbody>\n",
       "</table>\n",
       "<p>5 rows × 40 columns</p>\n",
       "</div>"
      ],
      "text/plain": [
       "                            1                                       2  \\\n",
       "                          U10       V10      U100      V100       U10   \n",
       "datetime                                                                \n",
       "2012-01-01 01:00:00  2.124600 -2.681966  2.864280 -3.666076 -0.171642   \n",
       "2012-01-01 02:00:00  2.521695 -1.796960  3.344859 -2.464761 -0.088859   \n",
       "2012-01-01 03:00:00  2.672210 -0.822516  3.508448 -1.214093 -0.246014   \n",
       "2012-01-01 04:00:00  2.457504 -0.143642  3.215233 -0.355546 -0.680738   \n",
       "2012-01-01 05:00:00  2.245898  0.389576  2.957678  0.332701 -1.261106   \n",
       "\n",
       "                                                          3            ...  \\\n",
       "                          V10      U100      V100       U10       V10  ...   \n",
       "datetime                                                               ...   \n",
       "2012-01-01 01:00:00 -5.466031 -0.112594 -7.101347  2.193217 -4.649168  ...   \n",
       "2012-01-01 02:00:00 -4.643205 -0.014100 -5.896778  2.970141 -3.944314  ...   \n",
       "2012-01-01 03:00:00 -3.613395 -0.225238 -4.489369  3.238855 -3.144486  ...   \n",
       "2012-01-01 04:00:00 -2.919615 -0.772046 -3.598824  3.260990 -2.228816  ...   \n",
       "2012-01-01 05:00:00 -2.619786 -1.487537 -3.244667  2.940038 -2.040145  ...   \n",
       "\n",
       "                            8                   9                      \\\n",
       "                         U100      V100       U10       V10      U100   \n",
       "datetime                                                                \n",
       "2012-01-01 01:00:00 -0.625438  0.298533  1.903254 -1.495002  2.516723   \n",
       "2012-01-01 02:00:00  0.024957  0.797498  2.173296 -0.643641  2.837109   \n",
       "2012-01-01 03:00:00  0.674786  1.626758  2.312744  0.136595  3.034096   \n",
       "2012-01-01 04:00:00  0.936869  2.625774  2.217565  0.797156  2.941829   \n",
       "2012-01-01 05:00:00  0.720637  3.501676  1.900598  1.285656  2.559177   \n",
       "\n",
       "                                     10                                \n",
       "                         V100       U10       V10      U100      V100  \n",
       "datetime                                                               \n",
       "2012-01-01 01:00:00 -2.078063  1.655790 -4.649593  2.024257 -5.992232  \n",
       "2012-01-01 02:00:00 -1.006914  2.178609 -4.184944  2.623141 -5.318086  \n",
       "2012-01-01 03:00:00 -0.015490  2.228633 -3.242442  2.645217 -4.052232  \n",
       "2012-01-01 04:00:00  0.823531  2.077232 -2.345085  2.432947 -2.913831  \n",
       "2012-01-01 05:00:00  1.471102  1.814716 -1.577625  2.097844 -1.976100  \n",
       "\n",
       "[5 rows x 40 columns]"
      ]
     },
     "metadata": {},
     "output_type": "display_data"
    },
    {
     "name": "stdout",
     "output_type": "stream",
     "text": [
      "first date: 2012-01-01 01:00:00\n",
      "last date: 2013-12-01 00:00:00\n"
     ]
    }
   ],
   "source": [
    "df_wind = pd.read_pickle(os.path.join(data_directory,\"df_wind.pkl\"))\n",
    "display(df_wind.head())\n",
    "print(\"first date: %s\"% df_wind.index[0])\n",
    "print(\"last date: %s\" % df_wind.index[-1])"
   ]
  },
  {
   "cell_type": "code",
   "execution_count": 4,
   "metadata": {},
   "outputs": [
    {
     "data": {
      "text/html": [
       "<div>\n",
       "<style scoped>\n",
       "    .dataframe tbody tr th:only-of-type {\n",
       "        vertical-align: middle;\n",
       "    }\n",
       "\n",
       "    .dataframe tbody tr th {\n",
       "        vertical-align: top;\n",
       "    }\n",
       "\n",
       "    .dataframe thead th {\n",
       "        text-align: right;\n",
       "    }\n",
       "</style>\n",
       "<table border=\"1\" class=\"dataframe\">\n",
       "  <thead>\n",
       "    <tr style=\"text-align: right;\">\n",
       "      <th></th>\n",
       "      <th>wf1</th>\n",
       "      <th>U10</th>\n",
       "      <th>V10</th>\n",
       "      <th>U100</th>\n",
       "      <th>V100</th>\n",
       "    </tr>\n",
       "    <tr>\n",
       "      <th>datetime</th>\n",
       "      <th></th>\n",
       "      <th></th>\n",
       "      <th></th>\n",
       "      <th></th>\n",
       "      <th></th>\n",
       "    </tr>\n",
       "  </thead>\n",
       "  <tbody>\n",
       "    <tr>\n",
       "      <th>2012-01-01 01:00:00</th>\n",
       "      <td>0.000000</td>\n",
       "      <td>2.124600</td>\n",
       "      <td>-2.681966</td>\n",
       "      <td>2.864280</td>\n",
       "      <td>-3.666076</td>\n",
       "    </tr>\n",
       "    <tr>\n",
       "      <th>2012-01-01 02:00:00</th>\n",
       "      <td>0.054879</td>\n",
       "      <td>2.521695</td>\n",
       "      <td>-1.796960</td>\n",
       "      <td>3.344859</td>\n",
       "      <td>-2.464761</td>\n",
       "    </tr>\n",
       "    <tr>\n",
       "      <th>2012-01-01 03:00:00</th>\n",
       "      <td>0.110234</td>\n",
       "      <td>2.672210</td>\n",
       "      <td>-0.822516</td>\n",
       "      <td>3.508448</td>\n",
       "      <td>-1.214093</td>\n",
       "    </tr>\n",
       "    <tr>\n",
       "      <th>2012-01-01 04:00:00</th>\n",
       "      <td>0.165116</td>\n",
       "      <td>2.457504</td>\n",
       "      <td>-0.143642</td>\n",
       "      <td>3.215233</td>\n",
       "      <td>-0.355546</td>\n",
       "    </tr>\n",
       "    <tr>\n",
       "      <th>2012-01-01 05:00:00</th>\n",
       "      <td>0.156940</td>\n",
       "      <td>2.245898</td>\n",
       "      <td>0.389576</td>\n",
       "      <td>2.957678</td>\n",
       "      <td>0.332701</td>\n",
       "    </tr>\n",
       "  </tbody>\n",
       "</table>\n",
       "</div>"
      ],
      "text/plain": [
       "                          wf1       U10       V10      U100      V100\n",
       "datetime                                                             \n",
       "2012-01-01 01:00:00  0.000000  2.124600 -2.681966  2.864280 -3.666076\n",
       "2012-01-01 02:00:00  0.054879  2.521695 -1.796960  3.344859 -2.464761\n",
       "2012-01-01 03:00:00  0.110234  2.672210 -0.822516  3.508448 -1.214093\n",
       "2012-01-01 04:00:00  0.165116  2.457504 -0.143642  3.215233 -0.355546\n",
       "2012-01-01 05:00:00  0.156940  2.245898  0.389576  2.957678  0.332701"
      ]
     },
     "metadata": {},
     "output_type": "display_data"
    },
    {
     "name": "stdout",
     "output_type": "stream",
     "text": [
      "first date: 2012-01-01 01:00:00\n",
      "last date: 2013-12-01 00:00:00\n"
     ]
    }
   ],
   "source": [
    "df_merged = {} \n",
    "for i in range(10):\n",
    "    df_merged[f'{i+1}'] = pd.merge(df_power[f'wf{i+1}'], df_wind[f'{i+1}'], how='inner', left_index=True, right_index=True)\n",
    "    # date = pd.to_datetime(df_merged.index)\n",
    "    # df_merged['hod'] = date.hour # hour of the day\n",
    "    # df_merged['dow'] = date.dayofweek # day of week\n",
    "    # df_merged['month'] = date.month\n",
    "    # df_merged['year'] = date.year\n",
    "display(df_merged['1'].head())\n",
    "print(\"first date: %s\"% df_merged['1'].index[0])\n",
    "print(\"last date: %s\" % df_merged['1'].index[-1])"
   ]
  },
  {
   "cell_type": "code",
   "execution_count": 5,
   "metadata": {},
   "outputs": [
    {
     "data": {
      "image/png": "[encoded data removed]",
      "text/plain": [
       "<Figure size 1224x144 with 1 Axes>"
      ]
     },
     "metadata": {
      "needs_background": "light"
     },
     "output_type": "display_data"
    },
    {
     "data": {
      "image/png": "[encoded data removed]",
      "text/plain": [
       "<Figure size 1224x144 with 1 Axes>"
      ]
     },
     "metadata": {
      "needs_background": "light"
     },
     "output_type": "display_data"
    },
    {
     "data": {
      "image/png": "[encoded data removed]",
      "text/plain": [
       "<Figure size 1224x144 with 1 Axes>"
      ]
     },
     "metadata": {
      "needs_background": "light"
     },
     "output_type": "display_data"
    },
    {
     "name": "stdout",
     "output_type": "stream",
     "text": [
      " train:  (7319, 5)\n",
      "   dev:  (7296, 5)\n",
      "warmup:  (24, 5)\n",
      "  test:  (721, 5)\n"
     ]
    },
    {
     "name": "stderr",
     "output_type": "stream",
     "text": [
      "/opt/anaconda3/envs/thesis/lib/python3.7/site-packages/pandas/core/frame.py:4034: SettingWithCopyWarning: \n",
      "A value is trying to be set on a copy of a slice from a DataFrame\n",
      "\n",
      "See the caveats in the documentation: http://pandas.pydata.org/pandas-docs/stable/indexing.html#indexing-view-versus-copy\n",
      "  downcast=downcast, **kwargs)\n"
     ]
    }
   ],
   "source": [
    "wf_no = 1 # select only one wind_farm\n",
    "train = df_merged[f'{wf_no}'].loc['2012-01-01 00:00:00':'2012-10-31 23:00:00'] # first year has 24 hours less\n",
    "dev = df_merged[f'{wf_no}'].loc['2013-01-01 00:00:00':'2013-10-31 23:00:00']\n",
    "test_beg = pd.Timestamp('2013-11-01 00:00:00')\n",
    "# test = df_merged['1'].loc[test_beg:test_beg+pd.Timedelta('47H')]\n",
    "test_duration = pd.Timedelta('47H')\n",
    "test = df_merged[f'{wf_no}'].loc[test_beg: '2013-12-01 00:00:00']\n",
    "test_warmup = df_merged[f'{wf_no}'].loc[test_beg-(test_duration//2+pd.Timedelta('1H')):test_beg-pd.Timedelta('1H')]\n",
    "xxx = df_merged[f'{wf_no}'].loc[test_beg-test_duration:test_beg] # when want to visualize\n",
    "\n",
    "# visualize\n",
    "train[f'wf{wf_no}'].plot(figsize=(17,2), title='Train', color='blue')\n",
    "plt.grid(alpha=0.25)\n",
    "plt.show()\n",
    "#\n",
    "dev[f'wf{wf_no}'].plot(figsize=(17,2), title='Validation/Development', color='green')\n",
    "plt.grid(alpha=0.25)\n",
    "plt.show()\n",
    "#\n",
    "test_warmup[f'wf{wf_no}'].plot(figsize=(17,2), color='red', title='Test')\n",
    "test.loc[test_beg:test_beg+test_duration, f'wf{wf_no}'].plot(color='blue')\n",
    "plt.legend(['Test warmup (24 hours)', 'Test (48 hours)'])\n",
    "plt.grid(alpha=0.25)\n",
    "plt.show()\n",
    "\n",
    "# dimensions\n",
    "print(\" train: \", train.shape)\n",
    "print(\"   dev: \", dev.shape)\n",
    "print(\"warmup: \", test_warmup.shape)\n",
    "print(\"  test: \", test.shape)\n",
    "\n",
    "# check for NaNs\n",
    "# display(train.isna().sum())\n",
    "# display(dev.isna().sum())\n",
    "# display(test_warmup.isna().sum())\n",
    "# display(test.isna().sum())\n",
    "\n",
    "# fill NaNs with ffill as they are not too many\n",
    "dev.fillna(method='ffill', inplace=True)\n",
    "test.fillna(method='ffill', inplace=True)\n",
    "\n",
    "# double check for NaNs\n",
    "# display(dev.isna().sum())\n",
    "# display(test.isna().sum())"
   ]
  },
  {
   "cell_type": "code",
   "execution_count": 6,
   "metadata": {},
   "outputs": [
    {
     "name": "stderr",
     "output_type": "stream",
     "text": [
      "/opt/anaconda3/envs/thesis/lib/python3.7/site-packages/pandas/plotting/_tools.py:307: MatplotlibDeprecationWarning: \n",
      "The rowNum attribute was deprecated in Matplotlib 3.2 and will be removed two minor releases later. Use ax.get_subplotspec().rowspan.start instead.\n",
      "  layout[ax.rowNum, ax.colNum] = ax.get_visible()\n",
      "/opt/anaconda3/envs/thesis/lib/python3.7/site-packages/pandas/plotting/_tools.py:307: MatplotlibDeprecationWarning: \n",
      "The colNum attribute was deprecated in Matplotlib 3.2 and will be removed two minor releases later. Use ax.get_subplotspec().colspan.start instead.\n",
      "  layout[ax.rowNum, ax.colNum] = ax.get_visible()\n",
      "/opt/anaconda3/envs/thesis/lib/python3.7/site-packages/pandas/plotting/_tools.py:313: MatplotlibDeprecationWarning: \n",
      "The rowNum attribute was deprecated in Matplotlib 3.2 and will be removed two minor releases later. Use ax.get_subplotspec().rowspan.start instead.\n",
      "  if not layout[ax.rowNum + 1, ax.colNum]:\n",
      "/opt/anaconda3/envs/thesis/lib/python3.7/site-packages/pandas/plotting/_tools.py:313: MatplotlibDeprecationWarning: \n",
      "The colNum attribute was deprecated in Matplotlib 3.2 and will be removed two minor releases later. Use ax.get_subplotspec().colspan.start instead.\n",
      "  if not layout[ax.rowNum + 1, ax.colNum]:\n"
     ]
    },
    {
     "data": {
      "image/png": "[encoded data removed]",
      "text/plain": [
       "<Figure size 1224x288 with 6 Axes>"
      ]
     },
     "metadata": {
      "needs_background": "light"
     },
     "output_type": "display_data"
    }
   ],
   "source": [
    "# Look at the distribution of Train-Dev-Test\n",
    "ax = train.hist(density=True, bins=50, range=(0,1), alpha=0.75)\n",
    "dev.hist(density=True, bins=50, range=(0,1), alpha=0.5, ax=ax.flatten()[:-1])\n",
    "test.hist(density=True, bins=50, range=(0,1), ax=ax.flatten()[:-1], alpha=0.5)\n",
    "plt.show()"
   ]
  },
  {
   "cell_type": "code",
   "execution_count": 7,
   "metadata": {},
   "outputs": [],
   "source": [
    "horizon=48\n",
    "n_input=4\n",
    "debug = False\n",
    "n_features = train.shape[1]"
   ]
  },
  {
   "cell_type": "code",
   "execution_count": 8,
   "metadata": {},
   "outputs": [
    {
     "name": "stderr",
     "output_type": "stream",
     "text": [
      "Using TensorFlow backend.\n"
     ]
    }
   ],
   "source": [
    "import keras.backend as K\n",
    "from models.RNN_v2 import (ModelRNNNonBayesian, \n",
    "                           ModelRNNEpistemic, \n",
    "                           ModelRNNAleatoric,\n",
    "                           ModelRNNAleatoricEpistemic)\n",
    "\n"
   ]
  },
  {
   "cell_type": "code",
   "execution_count": 9,
   "metadata": {
    "scrolled": false
   },
   "outputs": [
    {
     "name": "stdout",
     "output_type": "stream",
     "text": [
      "Model: \"model_rnn_nonbayesian\"\n",
      "_________________________________________________________________\n",
      "Layer (type)                 Output Shape              Param #   \n",
      "=================================================================\n",
      "input_1 (InputLayer)         (None, 4, 5)              0         \n",
      "_________________________________________________________________\n",
      "gru_1 (GRU)                  (None, 100)               31800     \n",
      "_________________________________________________________________\n",
      "mean (Dense)                 (None, 1)                 101       \n",
      "=================================================================\n",
      "Total params: 31,901\n",
      "Trainable params: 31,901\n",
      "Non-trainable params: 0\n",
      "_________________________________________________________________\n",
      "None\n",
      "Loaded the model weights from file!\n"
     ]
    }
   ],
   "source": [
    "modelRNNNonBayesian = ModelRNNNonBayesian(\"model_rnn_nonbayesian\", n_input, n_features)\n",
    "modelRNNNonBayesian.load_weights(\"../saved_models/model_rnn_nonbayesian.h5\")"
   ]
  },
  {
   "cell_type": "code",
   "execution_count": 10,
   "metadata": {},
   "outputs": [
    {
     "name": "stdout",
     "output_type": "stream",
     "text": [
      "Model: \"model_rnn_epistemic\"\n",
      "_________________________________________________________________\n",
      "Layer (type)                 Output Shape              Param #   \n",
      "=================================================================\n",
      "input_2 (InputLayer)         (None, 4, 5)              0         \n",
      "_________________________________________________________________\n",
      "gru_2 (GRU)                  (None, 100)               31800     \n",
      "_________________________________________________________________\n",
      "mean (Dense)                 (None, 1)                 101       \n",
      "=================================================================\n",
      "Total params: 31,901\n",
      "Trainable params: 31,901\n",
      "Non-trainable params: 0\n",
      "_________________________________________________________________\n",
      "None\n",
      "Loaded the model weights from file!\n"
     ]
    }
   ],
   "source": [
    "modelRNNEpistemic = ModelRNNEpistemic(\"model_rnn_epistemic\", n_input, n_features)\n",
    "modelRNNEpistemic.load_weights('../saved_models/model_rnn_epistemic.h5')"
   ]
  },
  {
   "cell_type": "code",
   "execution_count": 11,
   "metadata": {
    "scrolled": true
   },
   "outputs": [
    {
     "name": "stdout",
     "output_type": "stream",
     "text": [
      "Model: \"model_rnn_aleatoric\"\n",
      "__________________________________________________________________________________________________\n",
      "Layer (type)                    Output Shape         Param #     Connected to                     \n",
      "==================================================================================================\n",
      "input_3 (InputLayer)            (None, 4, 5)         0                                            \n",
      "__________________________________________________________________________________________________\n",
      "gru_3 (GRU)                     (None, 100)          31800       input_3[0][0]                    \n",
      "__________________________________________________________________________________________________\n",
      "mean (Dense)                    (None, 1)            101         gru_3[0][0]                      \n",
      "__________________________________________________________________________________________________\n",
      "log_var (Dense)                 (None, 1)            101         gru_3[0][0]                      \n",
      "==================================================================================================\n",
      "Total params: 32,002\n",
      "Trainable params: 32,002\n",
      "Non-trainable params: 0\n",
      "__________________________________________________________________________________________________\n",
      "None\n",
      "Loaded the model weights from file!\n"
     ]
    }
   ],
   "source": [
    "modelRNNAleatoric = ModelRNNAleatoric(\"model_rnn_aleatoric\", n_input, n_features)\n",
    "modelRNNAleatoric.load_weights('../saved_models/model_rnn_aleatoric.h5')"
   ]
  },
  {
   "cell_type": "code",
   "execution_count": 12,
   "metadata": {},
   "outputs": [
    {
     "name": "stdout",
     "output_type": "stream",
     "text": [
      "Model: \"model_rnn_alep\"\n",
      "__________________________________________________________________________________________________\n",
      "Layer (type)                    Output Shape         Param #     Connected to                     \n",
      "==================================================================================================\n",
      "input_4 (InputLayer)            (None, 4, 5)         0                                            \n",
      "__________________________________________________________________________________________________\n",
      "gru_4 (GRU)                     (None, 100)          31800       input_4[0][0]                    \n",
      "__________________________________________________________________________________________________\n",
      "mean (Dense)                    (None, 1)            101         gru_4[0][0]                      \n",
      "__________________________________________________________________________________________________\n",
      "log_var (Dense)                 (None, 1)            101         gru_4[0][0]                      \n",
      "==================================================================================================\n",
      "Total params: 32,002\n",
      "Trainable params: 32,002\n",
      "Non-trainable params: 0\n",
      "__________________________________________________________________________________________________\n",
      "None\n",
      "Loaded the model weights from file!\n"
     ]
    }
   ],
   "source": [
    "modelRNNALEP = ModelRNNAleatoricEpistemic(\"model_rnn_alep\", n_input, n_features)\n",
    "modelRNNALEP.load_weights('../saved_models/model_rnn_alep.h5')"
   ]
  },
  {
   "cell_type": "code",
   "execution_count": 13,
   "metadata": {},
   "outputs": [],
   "source": [
    "import itertools\n",
    "def energy_score_new(y, y_trajs, beta=1):\n",
    "    assert len(y.shape) == 2\n",
    "    assert len(y_trajs.shape) == 2\n",
    "    \n",
    "    def ed_cacl(x,y):\n",
    "        N = y.shape[1]\n",
    "        M = x.shape[1]\n",
    "        val = np.sum([np.linalg.norm(x-y[:,i].reshape(-1,1), ord=2, axis=0) for i in range(N)])\n",
    "        return val / (N*M)\n",
    "\n",
    "    def ei_calc(x):\n",
    "        M = x.shape[1]\n",
    "        val = np.sum([np.linalg.norm(x[:,i]-x[:,j], ord=2) if i != j else 0 \\\n",
    "                      for i, j in itertools.product(*[range(M), range(M)])])\n",
    "        return  val / (M*M)\n",
    "\n",
    "    ED = ed_cacl(y, y_trajs)\n",
    "    EI_x = ei_calc(y_trajs)\n",
    "    EI_y = ei_calc(y) if y.shape[1] >= 1 else 0\n",
    "#     print(ED)\n",
    "#     print(EI_x)\n",
    "#     print(EI_y)\n",
    "        \n",
    "    return ED-0.5*EI_x-0.5*EI_y "
   ]
  },
  {
   "cell_type": "code",
   "execution_count": 14,
   "metadata": {},
   "outputs": [],
   "source": [
    "def retrieve_trajectories(model):\n",
    "    trajs_means = []\n",
    "    nr_trajectories = model.mcSimulation.get_nr_trajectories()\n",
    "    nr_scenarios_per_traj = model.mcSimulation.get_nr_senarios_per_trajectory()\n",
    "    for j in range(nr_trajectories):\n",
    "        means = []\n",
    "        for i in range(nr_scenarios_per_traj):\n",
    "            means.append(np.mean([m.mu for m in model.mcSimulation.trajectories[j].leadTimeScenarios[i].scenarios]))\n",
    "        trajs_means.append(means)\n",
    "    return np.array(trajs_means)\n",
    "\n",
    "def plot_trajectories(trajs_means, warmup, test):\n",
    "    plt.figure(figsize=(17,3))\n",
    "    n_wu = len(warmup) if warmup is not None else 0\n",
    "    horizon=trajs_means.shape[1]\n",
    "    if warmup is not None:\n",
    "        plt.plot(warmup[:,0], color='red', linestyle='-', linewidth=2, label='Warmup sequence')\n",
    "    plt.plot(range(n_wu,n_wu+horizon), test[:,0], color='blue', linewidth=2, alpha=0.4, label='Observation')\n",
    "    plt.plot(range(n_wu,n_wu+horizon), trajs_means.T, color='orangered', linewidth=2, alpha=0.4)\n",
    "    plt.plot([], color='orangered', linewidth=2, alpha=0.4, label='Forecast')\n",
    "    plt.xlim([0,horizon])\n",
    "    plt.ylim([0,1])\n",
    "    plt.xlabel('Leadtime')\n",
    "    plt.grid(alpha=0.25)\n",
    "    plt.legend(bbox_to_anchor=(1.02, 1), loc=\"upper left\", borderaxespad=0)\n",
    "    plt.title('')\n",
    "    plt.show()\n"
   ]
  },
  {
   "cell_type": "code",
   "execution_count": 15,
   "metadata": {},
   "outputs": [],
   "source": [
    "from utility.visualization import plot_forecast_dense\n",
    "from sklearn.metrics import mean_squared_error, mean_absolute_error\n",
    "from utility.probabilistic_forecast import ProbabilisticForecast\n",
    "from tqdm.auto import tqdm\n",
    "\n",
    "def cross_validation_scenarios(model, density=False, scenarios=True, debug=True):\n",
    "    plt.rcParams['figure.figsize'] = [10, 3]\n",
    "    n_splits=20\n",
    "    tscv = TimeSeriesSplit(n_splits=n_splits)\n",
    "    errors_es = []\n",
    "    errors_mse = []\n",
    "    model_stds = []\n",
    "    yreal_dev = [] # for final evaluation\n",
    "    for tr_idx, te_idx in tqdm(tscv.split(dev), total=n_splits):\n",
    "        X = dev.values[tr_idx,:]\n",
    "        y = dev.values[tr_idx[-1]+1:tr_idx[-1]+1+horizon,:]\n",
    "        if density:\n",
    "            yhat = model.forecast(warmup=X[-n_input:], test=y, nr_simulations=10)\n",
    "            # visualize\n",
    "            if debug:\n",
    "                plot_forecast_dense(X[-horizon:,0], y[:,0], yhat, horizon=horizon, \n",
    "                                    alphas=[0.05, 0.15, 0.25, 0.35, 0.5], figsize=(17,3))\n",
    "                #plot_vis1(yhat.median(), yhat.std(), y, expressive=False)\n",
    "                #plot_vis2(yhat.median(), yhat.std(), y, expressive=False)\n",
    "            model_stds.append(np.mean(yhat.std()))\n",
    "            errors_mse.append(mean_squared_error(y[:,0], yhat.median()))\n",
    "            yreal_dev.append(y)\n",
    "            plt.figure(figsize=(10,4))\n",
    "            plt.subplot(1,2,1)\n",
    "            plt.boxplot(errors_mse)\n",
    "            plt.title('MSE average: %2.4f' % np.mean(errors_mse))\n",
    "            #\n",
    "            plt.subplot(1,2,2)\n",
    "            plt.boxplot(model_stds)\n",
    "            plt.title('STD average: %2.4f' % np.mean(model_stds))\n",
    "            plt.show()\n",
    "        #\n",
    "        if scenarios:\n",
    "            n_sims = 10\n",
    "            # horizon = len(traj_test)\n",
    "            warmup=X[-n_input:]\n",
    "            test=y\n",
    "            y_sfalepRNN = model.scenario_forecast(test_warmup=warmup.reshape(-1,n_input,5), test=test.reshape(-1,5,1), horizon=horizon, n_sims=n_sims)\n",
    "            trajs_means = retrieve_trajectories(model)\n",
    "            errors_es.append( energy_score_new(test[:,0].reshape(-1,1), trajs_means.T) )\n",
    "            if debug:\n",
    "                plot_trajectories(trajs_means, warmup, test)\n",
    "                \n",
    "    return errors_es, errors_mse, model_stds, yreal_dev"
   ]
  },
  {
   "cell_type": "code",
   "execution_count": 16,
   "metadata": {
    "scrolled": true
   },
   "outputs": [
    {
     "data": {
      "application/vnd.jupyter.widget-view+json": {
       "model_id": "7f62c7cccb8c41ee8e4fbef8cba3d28d",
       "version_major": 2,
       "version_minor": 0
      },
      "text/plain": [
       "HBox(children=(FloatProgress(value=0.0, max=20.0), HTML(value='')))"
      ]
     },
     "metadata": {},
     "output_type": "display_data"
    },
    {
     "data": {
      "application/vnd.jupyter.widget-view+json": {
       "model_id": "42a30d1b403d4795a62c923eae525964",
       "version_major": 2,
       "version_minor": 0
      },
      "text/plain": [
       "HBox(children=(FloatProgress(value=0.0, description='MCDO Simulation', max=20.0, style=ProgressStyle(descripti…"
      ]
     },
     "metadata": {},
     "output_type": "display_data"
    },
    {
     "name": "stdout",
     "output_type": "stream",
     "text": [
      "\n"
     ]
    },
    {
     "data": {
      "application/vnd.jupyter.widget-view+json": {
       "model_id": "6a56ae0a2f4144afb2945ad8e9c7b2e4",
       "version_major": 2,
       "version_minor": 0
      },
      "text/plain": [
       "HBox(children=(FloatProgress(value=0.0, description='MCDO+ScenarioForecasting', max=20.0, style=ProgressStyle(…"
      ]
     },
     "metadata": {},
     "output_type": "display_data"
    },
    {
     "name": "stdout",
     "output_type": "stream",
     "text": [
      "\n"
     ]
    },
    {
     "data": {
      "application/vnd.jupyter.widget-view+json": {
       "model_id": "f3c4580caea244559ca1b0193c460007",
       "version_major": 2,
       "version_minor": 0
      },
      "text/plain": [
       "HBox(children=(FloatProgress(value=0.0, description='LTS to RV', max=48.0, style=ProgressStyle(description_wid…"
      ]
     },
     "metadata": {},
     "output_type": "display_data"
    },
    {
     "name": "stdout",
     "output_type": "stream",
     "text": [
      "\n"
     ]
    },
    {
     "data": {
      "application/vnd.jupyter.widget-view+json": {
       "model_id": "393b962a77fb472b91e6ef9bd2346dc4",
       "version_major": 2,
       "version_minor": 0
      },
      "text/plain": [
       "HBox(children=(FloatProgress(value=0.0, description='MCDO Simulation', max=20.0, style=ProgressStyle(descripti…"
      ]
     },
     "metadata": {},
     "output_type": "display_data"
    },
    {
     "name": "stdout",
     "output_type": "stream",
     "text": [
      "\n"
     ]
    },
    {
     "data": {
      "application/vnd.jupyter.widget-view+json": {
       "model_id": "97d14b70cd944ba29fcc6d57d0b31dc9",
       "version_major": 2,
       "version_minor": 0
      },
      "text/plain": [
       "HBox(children=(FloatProgress(value=0.0, description='MCDO+ScenarioForecasting', max=20.0, style=ProgressStyle(…"
      ]
     },
     "metadata": {},
     "output_type": "display_data"
    },
    {
     "name": "stdout",
     "output_type": "stream",
     "text": [
      "\n"
     ]
    },
    {
     "data": {
      "application/vnd.jupyter.widget-view+json": {
       "model_id": "d375cb9d0c4941c88e7f665f71ea995c",
       "version_major": 2,
       "version_minor": 0
      },
      "text/plain": [
       "HBox(children=(FloatProgress(value=0.0, description='LTS to RV', max=48.0, style=ProgressStyle(description_wid…"
      ]
     },
     "metadata": {},
     "output_type": "display_data"
    },
    {
     "name": "stdout",
     "output_type": "stream",
     "text": [
      "\n"
     ]
    },
    {
     "data": {
      "application/vnd.jupyter.widget-view+json": {
       "model_id": "fc0d384d72be4d819c09155d66f6d39b",
       "version_major": 2,
       "version_minor": 0
      },
      "text/plain": [
       "HBox(children=(FloatProgress(value=0.0, description='MCDO Simulation', max=20.0, style=ProgressStyle(descripti…"
      ]
     },
     "metadata": {},
     "output_type": "display_data"
    },
    {
     "name": "stdout",
     "output_type": "stream",
     "text": [
      "\n"
     ]
    },
    {
     "data": {
      "application/vnd.jupyter.widget-view+json": {
       "model_id": "fe1ef2c8b98f4f1cbd6b03daee9a13ba",
       "version_major": 2,
       "version_minor": 0
      },
      "text/plain": [
       "HBox(children=(FloatProgress(value=0.0, description='MCDO+ScenarioForecasting', max=20.0, style=ProgressStyle(…"
      ]
     },
     "metadata": {},
     "output_type": "display_data"
    },
    {
     "name": "stdout",
     "output_type": "stream",
     "text": [
      "\n"
     ]
    },
    {
     "data": {
      "application/vnd.jupyter.widget-view+json": {
       "model_id": "0dac4b6e76f64a0fa320f54c0316de8d",
       "version_major": 2,
       "version_minor": 0
      },
      "text/plain": [
       "HBox(children=(FloatProgress(value=0.0, description='LTS to RV', max=48.0, style=ProgressStyle(description_wid…"
      ]
     },
     "metadata": {},
     "output_type": "display_data"
    },
    {
     "name": "stdout",
     "output_type": "stream",
     "text": [
      "\n"
     ]
    },
    {
     "data": {
      "application/vnd.jupyter.widget-view+json": {
       "model_id": "12364a646de24e1b9f2e5607d0e6e36b",
       "version_major": 2,
       "version_minor": 0
      },
      "text/plain": [
       "HBox(children=(FloatProgress(value=0.0, description='MCDO Simulation', max=20.0, style=ProgressStyle(descripti…"
      ]
     },
     "metadata": {},
     "output_type": "display_data"
    },
    {
     "name": "stdout",
     "output_type": "stream",
     "text": [
      "\n"
     ]
    },
    {
     "data": {
      "application/vnd.jupyter.widget-view+json": {
       "model_id": "35093e2df6c84f568b5fb1855589bfe2",
       "version_major": 2,
       "version_minor": 0
      },
      "text/plain": [
       "HBox(children=(FloatProgress(value=0.0, description='MCDO+ScenarioForecasting', max=20.0, style=ProgressStyle(…"
      ]
     },
     "metadata": {},
     "output_type": "display_data"
    },
    {
     "name": "stdout",
     "output_type": "stream",
     "text": [
      "\n"
     ]
    },
    {
     "data": {
      "application/vnd.jupyter.widget-view+json": {
       "model_id": "7e97e1399de8409a9b7ff576297bba6e",
       "version_major": 2,
       "version_minor": 0
      },
      "text/plain": [
       "HBox(children=(FloatProgress(value=0.0, description='LTS to RV', max=48.0, style=ProgressStyle(description_wid…"
      ]
     },
     "metadata": {},
     "output_type": "display_data"
    },
    {
     "name": "stdout",
     "output_type": "stream",
     "text": [
      "\n"
     ]
    },
    {
     "data": {
      "application/vnd.jupyter.widget-view+json": {
       "model_id": "117e264dd768409780e2d72cdc3325af",
       "version_major": 2,
       "version_minor": 0
      },
      "text/plain": [
       "HBox(children=(FloatProgress(value=0.0, description='MCDO Simulation', max=20.0, style=ProgressStyle(descripti…"
      ]
     },
     "metadata": {},
     "output_type": "display_data"
    },
    {
     "name": "stdout",
     "output_type": "stream",
     "text": [
      "\n"
     ]
    },
    {
     "data": {
      "application/vnd.jupyter.widget-view+json": {
       "model_id": "ca0bd00e25a74bd7b7d0f2d66ed58369",
       "version_major": 2,
       "version_minor": 0
      },
      "text/plain": [
       "HBox(children=(FloatProgress(value=0.0, description='MCDO+ScenarioForecasting', max=20.0, style=ProgressStyle(…"
      ]
     },
     "metadata": {},
     "output_type": "display_data"
    },
    {
     "name": "stdout",
     "output_type": "stream",
     "text": [
      "\n"
     ]
    },
    {
     "data": {
      "application/vnd.jupyter.widget-view+json": {
       "model_id": "d1db7df36cfc467f82ef71b1363c219e",
       "version_major": 2,
       "version_minor": 0
      },
      "text/plain": [
       "HBox(children=(FloatProgress(value=0.0, description='LTS to RV', max=48.0, style=ProgressStyle(description_wid…"
      ]
     },
     "metadata": {},
     "output_type": "display_data"
    },
    {
     "name": "stdout",
     "output_type": "stream",
     "text": [
      "\n"
     ]
    },
    {
     "data": {
      "application/vnd.jupyter.widget-view+json": {
       "model_id": "04be2cc1eb0e48e0a378977e6a856c28",
       "version_major": 2,
       "version_minor": 0
      },
      "text/plain": [
       "HBox(children=(FloatProgress(value=0.0, description='MCDO Simulation', max=20.0, style=ProgressStyle(descripti…"
      ]
     },
     "metadata": {},
     "output_type": "display_data"
    },
    {
     "name": "stdout",
     "output_type": "stream",
     "text": [
      "\n"
     ]
    },
    {
     "data": {
      "application/vnd.jupyter.widget-view+json": {
       "model_id": "c6cde99940fa4e85a48f9efb3f4102f8",
       "version_major": 2,
       "version_minor": 0
      },
      "text/plain": [
       "HBox(children=(FloatProgress(value=0.0, description='MCDO+ScenarioForecasting', max=20.0, style=ProgressStyle(…"
      ]
     },
     "metadata": {},
     "output_type": "display_data"
    },
    {
     "name": "stdout",
     "output_type": "stream",
     "text": [
      "\n"
     ]
    },
    {
     "data": {
      "application/vnd.jupyter.widget-view+json": {
       "model_id": "525510653193492cbe8fde89fd4617ed",
       "version_major": 2,
       "version_minor": 0
      },
      "text/plain": [
       "HBox(children=(FloatProgress(value=0.0, description='LTS to RV', max=48.0, style=ProgressStyle(description_wid…"
      ]
     },
     "metadata": {},
     "output_type": "display_data"
    },
    {
     "name": "stdout",
     "output_type": "stream",
     "text": [
      "\n"
     ]
    },
    {
     "data": {
      "application/vnd.jupyter.widget-view+json": {
       "model_id": "ed22d39c09b14b0ba7a48d0e54a3ab80",
       "version_major": 2,
       "version_minor": 0
      },
      "text/plain": [
       "HBox(children=(FloatProgress(value=0.0, description='MCDO Simulation', max=20.0, style=ProgressStyle(descripti…"
      ]
     },
     "metadata": {},
     "output_type": "display_data"
    },
    {
     "name": "stdout",
     "output_type": "stream",
     "text": [
      "\n"
     ]
    },
    {
     "data": {
      "application/vnd.jupyter.widget-view+json": {
       "model_id": "3db4d5a07a7c4273a71a42ba2b1fff4b",
       "version_major": 2,
       "version_minor": 0
      },
      "text/plain": [
       "HBox(children=(FloatProgress(value=0.0, description='MCDO+ScenarioForecasting', max=20.0, style=ProgressStyle(…"
      ]
     },
     "metadata": {},
     "output_type": "display_data"
    },
    {
     "name": "stdout",
     "output_type": "stream",
     "text": [
      "\n"
     ]
    },
    {
     "data": {
      "application/vnd.jupyter.widget-view+json": {
       "model_id": "c369bbb90e5849fdb9fcf54f8fc0130a",
       "version_major": 2,
       "version_minor": 0
      },
      "text/plain": [
       "HBox(children=(FloatProgress(value=0.0, description='LTS to RV', max=48.0, style=ProgressStyle(description_wid…"
      ]
     },
     "metadata": {},
     "output_type": "display_data"
    },
    {
     "name": "stdout",
     "output_type": "stream",
     "text": [
      "\n"
     ]
    },
    {
     "data": {
      "application/vnd.jupyter.widget-view+json": {
       "model_id": "147c041ea75e4baaa51b3fec9a106266",
       "version_major": 2,
       "version_minor": 0
      },
      "text/plain": [
       "HBox(children=(FloatProgress(value=0.0, description='MCDO Simulation', max=20.0, style=ProgressStyle(descripti…"
      ]
     },
     "metadata": {},
     "output_type": "display_data"
    },
    {
     "name": "stdout",
     "output_type": "stream",
     "text": [
      "\n"
     ]
    },
    {
     "data": {
      "application/vnd.jupyter.widget-view+json": {
       "model_id": "50cdc0eec05d41379543ff53de073bc0",
       "version_major": 2,
       "version_minor": 0
      },
      "text/plain": [
       "HBox(children=(FloatProgress(value=0.0, description='MCDO+ScenarioForecasting', max=20.0, style=ProgressStyle(…"
      ]
     },
     "metadata": {},
     "output_type": "display_data"
    },
    {
     "name": "stdout",
     "output_type": "stream",
     "text": [
      "\n"
     ]
    },
    {
     "data": {
      "application/vnd.jupyter.widget-view+json": {
       "model_id": "12edcc3f70084c898a469e9d3fe5c210",
       "version_major": 2,
       "version_minor": 0
      },
      "text/plain": [
       "HBox(children=(FloatProgress(value=0.0, description='LTS to RV', max=48.0, style=ProgressStyle(description_wid…"
      ]
     },
     "metadata": {},
     "output_type": "display_data"
    },
    {
     "name": "stdout",
     "output_type": "stream",
     "text": [
      "\n"
     ]
    },
    {
     "data": {
      "application/vnd.jupyter.widget-view+json": {
       "model_id": "eca69708efe54b2e91fa0e04461306c0",
       "version_major": 2,
       "version_minor": 0
      },
      "text/plain": [
       "HBox(children=(FloatProgress(value=0.0, description='MCDO Simulation', max=20.0, style=ProgressStyle(descripti…"
      ]
     },
     "metadata": {},
     "output_type": "display_data"
    },
    {
     "name": "stdout",
     "output_type": "stream",
     "text": [
      "\n"
     ]
    },
    {
     "data": {
      "application/vnd.jupyter.widget-view+json": {
       "model_id": "167093364acc46b6b810b8351017d702",
       "version_major": 2,
       "version_minor": 0
      },
      "text/plain": [
       "HBox(children=(FloatProgress(value=0.0, description='MCDO+ScenarioForecasting', max=20.0, style=ProgressStyle(…"
      ]
     },
     "metadata": {},
     "output_type": "display_data"
    },
    {
     "name": "stdout",
     "output_type": "stream",
     "text": [
      "\n"
     ]
    },
    {
     "data": {
      "application/vnd.jupyter.widget-view+json": {
       "model_id": "b5d3b816f3084f368fe6e1598cf4dbe7",
       "version_major": 2,
       "version_minor": 0
      },
      "text/plain": [
       "HBox(children=(FloatProgress(value=0.0, description='LTS to RV', max=48.0, style=ProgressStyle(description_wid…"
      ]
     },
     "metadata": {},
     "output_type": "display_data"
    },
    {
     "name": "stdout",
     "output_type": "stream",
     "text": [
      "\n"
     ]
    },
    {
     "data": {
      "application/vnd.jupyter.widget-view+json": {
       "model_id": "73d675fb6c5d487a97a257cbff74e879",
       "version_major": 2,
       "version_minor": 0
      },
      "text/plain": [
       "HBox(children=(FloatProgress(value=0.0, description='MCDO Simulation', max=20.0, style=ProgressStyle(descripti…"
      ]
     },
     "metadata": {},
     "output_type": "display_data"
    },
    {
     "name": "stdout",
     "output_type": "stream",
     "text": [
      "\n"
     ]
    },
    {
     "data": {
      "application/vnd.jupyter.widget-view+json": {
       "model_id": "0532d36598684ce099097b3ba57ad0de",
       "version_major": 2,
       "version_minor": 0
      },
      "text/plain": [
       "HBox(children=(FloatProgress(value=0.0, description='MCDO+ScenarioForecasting', max=20.0, style=ProgressStyle(…"
      ]
     },
     "metadata": {},
     "output_type": "display_data"
    },
    {
     "name": "stdout",
     "output_type": "stream",
     "text": [
      "\n"
     ]
    },
    {
     "data": {
      "application/vnd.jupyter.widget-view+json": {
       "model_id": "ce273f8c084a4f43ba8af522542a0f05",
       "version_major": 2,
       "version_minor": 0
      },
      "text/plain": [
       "HBox(children=(FloatProgress(value=0.0, description='LTS to RV', max=48.0, style=ProgressStyle(description_wid…"
      ]
     },
     "metadata": {},
     "output_type": "display_data"
    },
    {
     "name": "stdout",
     "output_type": "stream",
     "text": [
      "\n"
     ]
    },
    {
     "data": {
      "application/vnd.jupyter.widget-view+json": {
       "model_id": "0cd8066bfba64b8aa5f5d8eeb42ab05b",
       "version_major": 2,
       "version_minor": 0
      },
      "text/plain": [
       "HBox(children=(FloatProgress(value=0.0, description='MCDO Simulation', max=20.0, style=ProgressStyle(descripti…"
      ]
     },
     "metadata": {},
     "output_type": "display_data"
    },
    {
     "name": "stdout",
     "output_type": "stream",
     "text": [
      "\n"
     ]
    },
    {
     "data": {
      "application/vnd.jupyter.widget-view+json": {
       "model_id": "4f8ad04c432740e397058170a4a8b436",
       "version_major": 2,
       "version_minor": 0
      },
      "text/plain": [
       "HBox(children=(FloatProgress(value=0.0, description='MCDO+ScenarioForecasting', max=20.0, style=ProgressStyle(…"
      ]
     },
     "metadata": {},
     "output_type": "display_data"
    },
    {
     "name": "stdout",
     "output_type": "stream",
     "text": [
      "\n"
     ]
    },
    {
     "data": {
      "application/vnd.jupyter.widget-view+json": {
       "model_id": "72992880515a47489c7900381a844ca7",
       "version_major": 2,
       "version_minor": 0
      },
      "text/plain": [
       "HBox(children=(FloatProgress(value=0.0, description='LTS to RV', max=48.0, style=ProgressStyle(description_wid…"
      ]
     },
     "metadata": {},
     "output_type": "display_data"
    },
    {
     "name": "stdout",
     "output_type": "stream",
     "text": [
      "\n"
     ]
    },
    {
     "data": {
      "application/vnd.jupyter.widget-view+json": {
       "model_id": "55df0e80f12f4a85b7e796d4f10a12b0",
       "version_major": 2,
       "version_minor": 0
      },
      "text/plain": [
       "HBox(children=(FloatProgress(value=0.0, description='MCDO Simulation', max=20.0, style=ProgressStyle(descripti…"
      ]
     },
     "metadata": {},
     "output_type": "display_data"
    },
    {
     "name": "stdout",
     "output_type": "stream",
     "text": [
      "\n"
     ]
    },
    {
     "data": {
      "application/vnd.jupyter.widget-view+json": {
       "model_id": "80a59ac6513741e7ba0d499dc4dfa96e",
       "version_major": 2,
       "version_minor": 0
      },
      "text/plain": [
       "HBox(children=(FloatProgress(value=0.0, description='MCDO+ScenarioForecasting', max=20.0, style=ProgressStyle(…"
      ]
     },
     "metadata": {},
     "output_type": "display_data"
    },
    {
     "name": "stdout",
     "output_type": "stream",
     "text": [
      "\n"
     ]
    },
    {
     "data": {
      "application/vnd.jupyter.widget-view+json": {
       "model_id": "350478cca6de4fd39f2fb1bee5a34159",
       "version_major": 2,
       "version_minor": 0
      },
      "text/plain": [
       "HBox(children=(FloatProgress(value=0.0, description='LTS to RV', max=48.0, style=ProgressStyle(description_wid…"
      ]
     },
     "metadata": {},
     "output_type": "display_data"
    },
    {
     "name": "stdout",
     "output_type": "stream",
     "text": [
      "\n"
     ]
    },
    {
     "data": {
      "application/vnd.jupyter.widget-view+json": {
       "model_id": "c44c358aeebc48ab986cacca8c07b0eb",
       "version_major": 2,
       "version_minor": 0
      },
      "text/plain": [
       "HBox(children=(FloatProgress(value=0.0, description='MCDO Simulation', max=20.0, style=ProgressStyle(descripti…"
      ]
     },
     "metadata": {},
     "output_type": "display_data"
    },
    {
     "name": "stdout",
     "output_type": "stream",
     "text": [
      "\n"
     ]
    },
    {
     "data": {
      "application/vnd.jupyter.widget-view+json": {
       "model_id": "6a9359438b694408b2b2643b14dc6342",
       "version_major": 2,
       "version_minor": 0
      },
      "text/plain": [
       "HBox(children=(FloatProgress(value=0.0, description='MCDO+ScenarioForecasting', max=20.0, style=ProgressStyle(…"
      ]
     },
     "metadata": {},
     "output_type": "display_data"
    },
    {
     "name": "stdout",
     "output_type": "stream",
     "text": [
      "\n"
     ]
    },
    {
     "data": {
      "application/vnd.jupyter.widget-view+json": {
       "model_id": "82b0dd8f30d64aaab9f3bb83e3c00163",
       "version_major": 2,
       "version_minor": 0
      },
      "text/plain": [
       "HBox(children=(FloatProgress(value=0.0, description='LTS to RV', max=48.0, style=ProgressStyle(description_wid…"
      ]
     },
     "metadata": {},
     "output_type": "display_data"
    },
    {
     "name": "stdout",
     "output_type": "stream",
     "text": [
      "\n"
     ]
    },
    {
     "data": {
      "application/vnd.jupyter.widget-view+json": {
       "model_id": "541f8a3ed9db48099d28d249be4d3e14",
       "version_major": 2,
       "version_minor": 0
      },
      "text/plain": [
       "HBox(children=(FloatProgress(value=0.0, description='MCDO Simulation', max=20.0, style=ProgressStyle(descripti…"
      ]
     },
     "metadata": {},
     "output_type": "display_data"
    },
    {
     "name": "stdout",
     "output_type": "stream",
     "text": [
      "\n"
     ]
    },
    {
     "data": {
      "application/vnd.jupyter.widget-view+json": {
       "model_id": "ec806a483d644961aef659ab5caf8d67",
       "version_major": 2,
       "version_minor": 0
      },
      "text/plain": [
       "HBox(children=(FloatProgress(value=0.0, description='MCDO+ScenarioForecasting', max=20.0, style=ProgressStyle(…"
      ]
     },
     "metadata": {},
     "output_type": "display_data"
    },
    {
     "name": "stdout",
     "output_type": "stream",
     "text": [
      "\n"
     ]
    },
    {
     "data": {
      "application/vnd.jupyter.widget-view+json": {
       "model_id": "df7100872ffd41eab5c4ea498a985710",
       "version_major": 2,
       "version_minor": 0
      },
      "text/plain": [
       "HBox(children=(FloatProgress(value=0.0, description='LTS to RV', max=48.0, style=ProgressStyle(description_wid…"
      ]
     },
     "metadata": {},
     "output_type": "display_data"
    },
    {
     "name": "stdout",
     "output_type": "stream",
     "text": [
      "\n"
     ]
    },
    {
     "data": {
      "application/vnd.jupyter.widget-view+json": {
       "model_id": "f7828a0bf02846c6b65ee6866ca39b98",
       "version_major": 2,
       "version_minor": 0
      },
      "text/plain": [
       "HBox(children=(FloatProgress(value=0.0, description='MCDO Simulation', max=20.0, style=ProgressStyle(descripti…"
      ]
     },
     "metadata": {},
     "output_type": "display_data"
    },
    {
     "name": "stdout",
     "output_type": "stream",
     "text": [
      "\n"
     ]
    },
    {
     "data": {
      "application/vnd.jupyter.widget-view+json": {
       "model_id": "c65ce1deca914953b4c0b399baf9efec",
       "version_major": 2,
       "version_minor": 0
      },
      "text/plain": [
       "HBox(children=(FloatProgress(value=0.0, description='MCDO+ScenarioForecasting', max=20.0, style=ProgressStyle(…"
      ]
     },
     "metadata": {},
     "output_type": "display_data"
    },
    {
     "name": "stdout",
     "output_type": "stream",
     "text": [
      "\n"
     ]
    },
    {
     "data": {
      "application/vnd.jupyter.widget-view+json": {
       "model_id": "5c1c5be1639344bfb88b2eb8c36dd464",
       "version_major": 2,
       "version_minor": 0
      },
      "text/plain": [
       "HBox(children=(FloatProgress(value=0.0, description='LTS to RV', max=48.0, style=ProgressStyle(description_wid…"
      ]
     },
     "metadata": {},
     "output_type": "display_data"
    },
    {
     "name": "stdout",
     "output_type": "stream",
     "text": [
      "\n"
     ]
    },
    {
     "data": {
      "application/vnd.jupyter.widget-view+json": {
       "model_id": "dae524d1c1bf43a9aa98f23557ebda7c",
       "version_major": 2,
       "version_minor": 0
      },
      "text/plain": [
       "HBox(children=(FloatProgress(value=0.0, description='MCDO Simulation', max=20.0, style=ProgressStyle(descripti…"
      ]
     },
     "metadata": {},
     "output_type": "display_data"
    },
    {
     "name": "stdout",
     "output_type": "stream",
     "text": [
      "\n"
     ]
    },
    {
     "data": {
      "application/vnd.jupyter.widget-view+json": {
       "model_id": "4141c87c55d945b48722f994db781c5c",
       "version_major": 2,
       "version_minor": 0
      },
      "text/plain": [
       "HBox(children=(FloatProgress(value=0.0, description='MCDO+ScenarioForecasting', max=20.0, style=ProgressStyle(…"
      ]
     },
     "metadata": {},
     "output_type": "display_data"
    },
    {
     "name": "stdout",
     "output_type": "stream",
     "text": [
      "\n"
     ]
    },
    {
     "data": {
      "application/vnd.jupyter.widget-view+json": {
       "model_id": "b935d8ac7f0d426496deabb729900a9f",
       "version_major": 2,
       "version_minor": 0
      },
      "text/plain": [
       "HBox(children=(FloatProgress(value=0.0, description='LTS to RV', max=48.0, style=ProgressStyle(description_wid…"
      ]
     },
     "metadata": {},
     "output_type": "display_data"
    },
    {
     "name": "stdout",
     "output_type": "stream",
     "text": [
      "\n"
     ]
    },
    {
     "data": {
      "application/vnd.jupyter.widget-view+json": {
       "model_id": "5c18f3d5c0104727b31307aacd2f2d0c",
       "version_major": 2,
       "version_minor": 0
      },
      "text/plain": [
       "HBox(children=(FloatProgress(value=0.0, description='MCDO Simulation', max=20.0, style=ProgressStyle(descripti…"
      ]
     },
     "metadata": {},
     "output_type": "display_data"
    },
    {
     "name": "stdout",
     "output_type": "stream",
     "text": [
      "\n"
     ]
    },
    {
     "data": {
      "application/vnd.jupyter.widget-view+json": {
       "model_id": "32e46a3392fd4fdfb0314c197812b1be",
       "version_major": 2,
       "version_minor": 0
      },
      "text/plain": [
       "HBox(children=(FloatProgress(value=0.0, description='MCDO+ScenarioForecasting', max=20.0, style=ProgressStyle(…"
      ]
     },
     "metadata": {},
     "output_type": "display_data"
    },
    {
     "name": "stdout",
     "output_type": "stream",
     "text": [
      "\n"
     ]
    },
    {
     "data": {
      "application/vnd.jupyter.widget-view+json": {
       "model_id": "d6293401567f41f093f34bfe543b5a5b",
       "version_major": 2,
       "version_minor": 0
      },
      "text/plain": [
       "HBox(children=(FloatProgress(value=0.0, description='LTS to RV', max=48.0, style=ProgressStyle(description_wid…"
      ]
     },
     "metadata": {},
     "output_type": "display_data"
    },
    {
     "name": "stdout",
     "output_type": "stream",
     "text": [
      "\n"
     ]
    },
    {
     "data": {
      "application/vnd.jupyter.widget-view+json": {
       "model_id": "a03f9ca8f8214d45b5b2e8595ff25585",
       "version_major": 2,
       "version_minor": 0
      },
      "text/plain": [
       "HBox(children=(FloatProgress(value=0.0, description='MCDO Simulation', max=20.0, style=ProgressStyle(descripti…"
      ]
     },
     "metadata": {},
     "output_type": "display_data"
    },
    {
     "name": "stdout",
     "output_type": "stream",
     "text": [
      "\n"
     ]
    },
    {
     "data": {
      "application/vnd.jupyter.widget-view+json": {
       "model_id": "8b9d886238a049c4a3c9f1db1884b95b",
       "version_major": 2,
       "version_minor": 0
      },
      "text/plain": [
       "HBox(children=(FloatProgress(value=0.0, description='MCDO+ScenarioForecasting', max=20.0, style=ProgressStyle(…"
      ]
     },
     "metadata": {},
     "output_type": "display_data"
    },
    {
     "name": "stdout",
     "output_type": "stream",
     "text": [
      "\n"
     ]
    },
    {
     "data": {
      "application/vnd.jupyter.widget-view+json": {
       "model_id": "2b95f3c0ef994a4f9b672081bb3ea311",
       "version_major": 2,
       "version_minor": 0
      },
      "text/plain": [
       "HBox(children=(FloatProgress(value=0.0, description='LTS to RV', max=48.0, style=ProgressStyle(description_wid…"
      ]
     },
     "metadata": {},
     "output_type": "display_data"
    },
    {
     "name": "stdout",
     "output_type": "stream",
     "text": [
      "\n"
     ]
    },
    {
     "data": {
      "application/vnd.jupyter.widget-view+json": {
       "model_id": "7f31a3bab7574d8eb90f9b975ebda050",
       "version_major": 2,
       "version_minor": 0
      },
      "text/plain": [
       "HBox(children=(FloatProgress(value=0.0, description='MCDO Simulation', max=20.0, style=ProgressStyle(descripti…"
      ]
     },
     "metadata": {},
     "output_type": "display_data"
    },
    {
     "name": "stdout",
     "output_type": "stream",
     "text": [
      "\n"
     ]
    },
    {
     "data": {
      "application/vnd.jupyter.widget-view+json": {
       "model_id": "2279946ba2904355a50beb8ed2e13804",
       "version_major": 2,
       "version_minor": 0
      },
      "text/plain": [
       "HBox(children=(FloatProgress(value=0.0, description='MCDO+ScenarioForecasting', max=20.0, style=ProgressStyle(…"
      ]
     },
     "metadata": {},
     "output_type": "display_data"
    },
    {
     "name": "stdout",
     "output_type": "stream",
     "text": [
      "\n"
     ]
    },
    {
     "data": {
      "application/vnd.jupyter.widget-view+json": {
       "model_id": "dd10608948c4423aac7dc78c60c4a6af",
       "version_major": 2,
       "version_minor": 0
      },
      "text/plain": [
       "HBox(children=(FloatProgress(value=0.0, description='LTS to RV', max=48.0, style=ProgressStyle(description_wid…"
      ]
     },
     "metadata": {},
     "output_type": "display_data"
    },
    {
     "name": "stdout",
     "output_type": "stream",
     "text": [
      "\n"
     ]
    },
    {
     "data": {
      "application/vnd.jupyter.widget-view+json": {
       "model_id": "5066fb5acbb54c82aa6fe28c930af9f4",
       "version_major": 2,
       "version_minor": 0
      },
      "text/plain": [
       "HBox(children=(FloatProgress(value=0.0, description='MCDO Simulation', max=20.0, style=ProgressStyle(descripti…"
      ]
     },
     "metadata": {},
     "output_type": "display_data"
    },
    {
     "name": "stdout",
     "output_type": "stream",
     "text": [
      "\n"
     ]
    },
    {
     "data": {
      "application/vnd.jupyter.widget-view+json": {
       "model_id": "9bc9fac811d74d238a80e03202aa4f79",
       "version_major": 2,
       "version_minor": 0
      },
      "text/plain": [
       "HBox(children=(FloatProgress(value=0.0, description='MCDO+ScenarioForecasting', max=20.0, style=ProgressStyle(…"
      ]
     },
     "metadata": {},
     "output_type": "display_data"
    },
    {
     "name": "stdout",
     "output_type": "stream",
     "text": [
      "\n"
     ]
    },
    {
     "data": {
      "application/vnd.jupyter.widget-view+json": {
       "model_id": "04dbaa2eb2e54df3b0e4234e9a56ca60",
       "version_major": 2,
       "version_minor": 0
      },
      "text/plain": [
       "HBox(children=(FloatProgress(value=0.0, description='LTS to RV', max=48.0, style=ProgressStyle(description_wid…"
      ]
     },
     "metadata": {},
     "output_type": "display_data"
    },
    {
     "name": "stdout",
     "output_type": "stream",
     "text": [
      "\n"
     ]
    },
    {
     "data": {
      "application/vnd.jupyter.widget-view+json": {
       "model_id": "b6d2fae73a354cf98367c43ceda1d555",
       "version_major": 2,
       "version_minor": 0
      },
      "text/plain": [
       "HBox(children=(FloatProgress(value=0.0, description='MCDO Simulation', max=20.0, style=ProgressStyle(descripti…"
      ]
     },
     "metadata": {},
     "output_type": "display_data"
    },
    {
     "name": "stdout",
     "output_type": "stream",
     "text": [
      "\n"
     ]
    },
    {
     "data": {
      "application/vnd.jupyter.widget-view+json": {
       "model_id": "3ba4feedd3dc4c9a9701c32c1a049c56",
       "version_major": 2,
       "version_minor": 0
      },
      "text/plain": [
       "HBox(children=(FloatProgress(value=0.0, description='MCDO+ScenarioForecasting', max=20.0, style=ProgressStyle(…"
      ]
     },
     "metadata": {},
     "output_type": "display_data"
    },
    {
     "name": "stdout",
     "output_type": "stream",
     "text": [
      "\n"
     ]
    },
    {
     "data": {
      "application/vnd.jupyter.widget-view+json": {
       "model_id": "5c192cf00c0a4091a56216767a05310b",
       "version_major": 2,
       "version_minor": 0
      },
      "text/plain": [
       "HBox(children=(FloatProgress(value=0.0, description='LTS to RV', max=48.0, style=ProgressStyle(description_wid…"
      ]
     },
     "metadata": {},
     "output_type": "display_data"
    },
    {
     "name": "stdout",
     "output_type": "stream",
     "text": [
      "\n"
     ]
    },
    {
     "data": {
      "application/vnd.jupyter.widget-view+json": {
       "model_id": "028e2886665b4436aebecc966e71717a",
       "version_major": 2,
       "version_minor": 0
      },
      "text/plain": [
       "HBox(children=(FloatProgress(value=0.0, description='MCDO Simulation', max=20.0, style=ProgressStyle(descripti…"
      ]
     },
     "metadata": {},
     "output_type": "display_data"
    },
    {
     "name": "stdout",
     "output_type": "stream",
     "text": [
      "\n"
     ]
    },
    {
     "data": {
      "application/vnd.jupyter.widget-view+json": {
       "model_id": "fa5ca44cbeac4c179c0bff1894e9605f",
       "version_major": 2,
       "version_minor": 0
      },
      "text/plain": [
       "HBox(children=(FloatProgress(value=0.0, description='MCDO+ScenarioForecasting', max=20.0, style=ProgressStyle(…"
      ]
     },
     "metadata": {},
     "output_type": "display_data"
    },
    {
     "name": "stdout",
     "output_type": "stream",
     "text": [
      "\n"
     ]
    },
    {
     "data": {
      "application/vnd.jupyter.widget-view+json": {
       "model_id": "332634c7723843f19a5cb1557dacc100",
       "version_major": 2,
       "version_minor": 0
      },
      "text/plain": [
       "HBox(children=(FloatProgress(value=0.0, description='LTS to RV', max=48.0, style=ProgressStyle(description_wid…"
      ]
     },
     "metadata": {},
     "output_type": "display_data"
    },
    {
     "name": "stdout",
     "output_type": "stream",
     "text": [
      "\n"
     ]
    },
    {
     "data": {
      "application/vnd.jupyter.widget-view+json": {
       "model_id": "5a4518a6b8474136b408392d1ee3a122",
       "version_major": 2,
       "version_minor": 0
      },
      "text/plain": [
       "HBox(children=(FloatProgress(value=0.0, description='MCDO Simulation', max=20.0, style=ProgressStyle(descripti…"
      ]
     },
     "metadata": {},
     "output_type": "display_data"
    },
    {
     "name": "stdout",
     "output_type": "stream",
     "text": [
      "\n"
     ]
    },
    {
     "data": {
      "application/vnd.jupyter.widget-view+json": {
       "model_id": "df10ea4825e24121a5f141b9884477e4",
       "version_major": 2,
       "version_minor": 0
      },
      "text/plain": [
       "HBox(children=(FloatProgress(value=0.0, description='MCDO+ScenarioForecasting', max=20.0, style=ProgressStyle(…"
      ]
     },
     "metadata": {},
     "output_type": "display_data"
    },
    {
     "name": "stdout",
     "output_type": "stream",
     "text": [
      "\n"
     ]
    },
    {
     "data": {
      "application/vnd.jupyter.widget-view+json": {
       "model_id": "2d93e7525a134739906ca78388ec48fd",
       "version_major": 2,
       "version_minor": 0
      },
      "text/plain": [
       "HBox(children=(FloatProgress(value=0.0, description='LTS to RV', max=48.0, style=ProgressStyle(description_wid…"
      ]
     },
     "metadata": {},
     "output_type": "display_data"
    },
    {
     "name": "stdout",
     "output_type": "stream",
     "text": [
      "\n"
     ]
    },
    {
     "data": {
      "application/vnd.jupyter.widget-view+json": {
       "model_id": "f8693fd090bc4cd59b38af1593004867",
       "version_major": 2,
       "version_minor": 0
      },
      "text/plain": [
       "HBox(children=(FloatProgress(value=0.0, description='MCDO Simulation', max=20.0, style=ProgressStyle(descripti…"
      ]
     },
     "metadata": {},
     "output_type": "display_data"
    },
    {
     "name": "stdout",
     "output_type": "stream",
     "text": [
      "\n"
     ]
    },
    {
     "data": {
      "application/vnd.jupyter.widget-view+json": {
       "model_id": "5c9ea83bf87b4f8fbd959c8e1829be35",
       "version_major": 2,
       "version_minor": 0
      },
      "text/plain": [
       "HBox(children=(FloatProgress(value=0.0, description='MCDO+ScenarioForecasting', max=20.0, style=ProgressStyle(…"
      ]
     },
     "metadata": {},
     "output_type": "display_data"
    },
    {
     "name": "stdout",
     "output_type": "stream",
     "text": [
      "\n"
     ]
    },
    {
     "data": {
      "application/vnd.jupyter.widget-view+json": {
       "model_id": "56c917a35baf42d5a818ea291cf3f7a3",
       "version_major": 2,
       "version_minor": 0
      },
      "text/plain": [
       "HBox(children=(FloatProgress(value=0.0, description='LTS to RV', max=48.0, style=ProgressStyle(description_wid…"
      ]
     },
     "metadata": {},
     "output_type": "display_data"
    },
    {
     "name": "stdout",
     "output_type": "stream",
     "text": [
      "\n"
     ]
    },
    {
     "data": {
      "application/vnd.jupyter.widget-view+json": {
       "model_id": "b9c270efa24c458ca4b1dffb2628677c",
       "version_major": 2,
       "version_minor": 0
      },
      "text/plain": [
       "HBox(children=(FloatProgress(value=0.0, description='MCDO Simulation', max=20.0, style=ProgressStyle(descripti…"
      ]
     },
     "metadata": {},
     "output_type": "display_data"
    },
    {
     "name": "stdout",
     "output_type": "stream",
     "text": [
      "\n"
     ]
    },
    {
     "data": {
      "application/vnd.jupyter.widget-view+json": {
       "model_id": "7dcd9e10f9b845458e93c834390340cf",
       "version_major": 2,
       "version_minor": 0
      },
      "text/plain": [
       "HBox(children=(FloatProgress(value=0.0, description='MCDO+ScenarioForecasting', max=20.0, style=ProgressStyle(…"
      ]
     },
     "metadata": {},
     "output_type": "display_data"
    },
    {
     "name": "stdout",
     "output_type": "stream",
     "text": [
      "\n"
     ]
    },
    {
     "data": {
      "application/vnd.jupyter.widget-view+json": {
       "model_id": "af3a35d8787e444a9c693af811ea51be",
       "version_major": 2,
       "version_minor": 0
      },
      "text/plain": [
       "HBox(children=(FloatProgress(value=0.0, description='LTS to RV', max=48.0, style=ProgressStyle(description_wid…"
      ]
     },
     "metadata": {},
     "output_type": "display_data"
    },
    {
     "name": "stdout",
     "output_type": "stream",
     "text": [
      "\n"
     ]
    },
    {
     "data": {
      "application/vnd.jupyter.widget-view+json": {
       "model_id": "c1c58e5c378948fa933ab01bcf509f97",
       "version_major": 2,
       "version_minor": 0
      },
      "text/plain": [
       "HBox(children=(FloatProgress(value=0.0, description='MCDO Simulation', max=20.0, style=ProgressStyle(descripti…"
      ]
     },
     "metadata": {},
     "output_type": "display_data"
    },
    {
     "name": "stdout",
     "output_type": "stream",
     "text": [
      "\n"
     ]
    },
    {
     "data": {
      "application/vnd.jupyter.widget-view+json": {
       "model_id": "1b5ef3a079b644ad8df3b9e0dabf3c96",
       "version_major": 2,
       "version_minor": 0
      },
      "text/plain": [
       "HBox(children=(FloatProgress(value=0.0, description='MCDO+ScenarioForecasting', max=20.0, style=ProgressStyle(…"
      ]
     },
     "metadata": {},
     "output_type": "display_data"
    },
    {
     "name": "stdout",
     "output_type": "stream",
     "text": [
      "\n"
     ]
    },
    {
     "data": {
      "application/vnd.jupyter.widget-view+json": {
       "model_id": "4413a3ab03e342b3a001258899695102",
       "version_major": 2,
       "version_minor": 0
      },
      "text/plain": [
       "HBox(children=(FloatProgress(value=0.0, description='LTS to RV', max=48.0, style=ProgressStyle(description_wid…"
      ]
     },
     "metadata": {},
     "output_type": "display_data"
    },
    {
     "name": "stdout",
     "output_type": "stream",
     "text": [
      "\n"
     ]
    },
    {
     "data": {
      "application/vnd.jupyter.widget-view+json": {
       "model_id": "5f07ae63251846f698b4be57a3ad0397",
       "version_major": 2,
       "version_minor": 0
      },
      "text/plain": [
       "HBox(children=(FloatProgress(value=0.0, description='MCDO Simulation', max=20.0, style=ProgressStyle(descripti…"
      ]
     },
     "metadata": {},
     "output_type": "display_data"
    },
    {
     "name": "stdout",
     "output_type": "stream",
     "text": [
      "\n"
     ]
    },
    {
     "data": {
      "application/vnd.jupyter.widget-view+json": {
       "model_id": "72c9b0198ff44f4593d532268c0d0e19",
       "version_major": 2,
       "version_minor": 0
      },
      "text/plain": [
       "HBox(children=(FloatProgress(value=0.0, description='MCDO+ScenarioForecasting', max=20.0, style=ProgressStyle(…"
      ]
     },
     "metadata": {},
     "output_type": "display_data"
    },
    {
     "name": "stdout",
     "output_type": "stream",
     "text": [
      "\n"
     ]
    },
    {
     "data": {
      "application/vnd.jupyter.widget-view+json": {
       "model_id": "e05d26b885ea4b4cbad84190db40b64d",
       "version_major": 2,
       "version_minor": 0
      },
      "text/plain": [
       "HBox(children=(FloatProgress(value=0.0, description='LTS to RV', max=48.0, style=ProgressStyle(description_wid…"
      ]
     },
     "metadata": {},
     "output_type": "display_data"
    },
    {
     "name": "stdout",
     "output_type": "stream",
     "text": [
      "\n"
     ]
    },
    {
     "data": {
      "application/vnd.jupyter.widget-view+json": {
       "model_id": "16c33bb64c834984a3d82f90c293e7ad",
       "version_major": 2,
       "version_minor": 0
      },
      "text/plain": [
       "HBox(children=(FloatProgress(value=0.0, description='MCDO Simulation', max=20.0, style=ProgressStyle(descripti…"
      ]
     },
     "metadata": {},
     "output_type": "display_data"
    },
    {
     "name": "stdout",
     "output_type": "stream",
     "text": [
      "\n"
     ]
    },
    {
     "data": {
      "application/vnd.jupyter.widget-view+json": {
       "model_id": "ec42083c474641fdba2c27f5ac6a00ee",
       "version_major": 2,
       "version_minor": 0
      },
      "text/plain": [
       "HBox(children=(FloatProgress(value=0.0, description='MCDO+ScenarioForecasting', max=20.0, style=ProgressStyle(…"
      ]
     },
     "metadata": {},
     "output_type": "display_data"
    },
    {
     "name": "stdout",
     "output_type": "stream",
     "text": [
      "\n"
     ]
    },
    {
     "data": {
      "application/vnd.jupyter.widget-view+json": {
       "model_id": "cf01c92682a84caf8d24adde2eb99d9f",
       "version_major": 2,
       "version_minor": 0
      },
      "text/plain": [
       "HBox(children=(FloatProgress(value=0.0, description='LTS to RV', max=48.0, style=ProgressStyle(description_wid…"
      ]
     },
     "metadata": {},
     "output_type": "display_data"
    },
    {
     "name": "stdout",
     "output_type": "stream",
     "text": [
      "\n"
     ]
    },
    {
     "data": {
      "application/vnd.jupyter.widget-view+json": {
       "model_id": "a450d75cc62849fbb385e9e90dde97fa",
       "version_major": 2,
       "version_minor": 0
      },
      "text/plain": [
       "HBox(children=(FloatProgress(value=0.0, description='MCDO Simulation', max=20.0, style=ProgressStyle(descripti…"
      ]
     },
     "metadata": {},
     "output_type": "display_data"
    },
    {
     "name": "stdout",
     "output_type": "stream",
     "text": [
      "\n"
     ]
    },
    {
     "data": {
      "application/vnd.jupyter.widget-view+json": {
       "model_id": "991260833c6e42edb3f16de7ea9ee132",
       "version_major": 2,
       "version_minor": 0
      },
      "text/plain": [
       "HBox(children=(FloatProgress(value=0.0, description='MCDO+ScenarioForecasting', max=20.0, style=ProgressStyle(…"
      ]
     },
     "metadata": {},
     "output_type": "display_data"
    },
    {
     "name": "stdout",
     "output_type": "stream",
     "text": [
      "\n"
     ]
    },
    {
     "data": {
      "application/vnd.jupyter.widget-view+json": {
       "model_id": "4977b5fae9d145ec8cf0e8b92435f715",
       "version_major": 2,
       "version_minor": 0
      },
      "text/plain": [
       "HBox(children=(FloatProgress(value=0.0, description='LTS to RV', max=48.0, style=ProgressStyle(description_wid…"
      ]
     },
     "metadata": {},
     "output_type": "display_data"
    },
    {
     "name": "stdout",
     "output_type": "stream",
     "text": [
      "\n"
     ]
    },
    {
     "data": {
      "application/vnd.jupyter.widget-view+json": {
       "model_id": "22f88ce46f1a481abadb84a3b90b2381",
       "version_major": 2,
       "version_minor": 0
      },
      "text/plain": [
       "HBox(children=(FloatProgress(value=0.0, description='MCDO Simulation', max=20.0, style=ProgressStyle(descripti…"
      ]
     },
     "metadata": {},
     "output_type": "display_data"
    },
    {
     "name": "stdout",
     "output_type": "stream",
     "text": [
      "\n"
     ]
    },
    {
     "data": {
      "application/vnd.jupyter.widget-view+json": {
       "model_id": "70e891c6cea546a4b09b1c930b40d62e",
       "version_major": 2,
       "version_minor": 0
      },
      "text/plain": [
       "HBox(children=(FloatProgress(value=0.0, description='MCDO+ScenarioForecasting', max=20.0, style=ProgressStyle(…"
      ]
     },
     "metadata": {},
     "output_type": "display_data"
    },
    {
     "name": "stdout",
     "output_type": "stream",
     "text": [
      "\n"
     ]
    },
    {
     "data": {
      "application/vnd.jupyter.widget-view+json": {
       "model_id": "8dc714afcb94449a815d1a46bf476f06",
       "version_major": 2,
       "version_minor": 0
      },
      "text/plain": [
       "HBox(children=(FloatProgress(value=0.0, description='LTS to RV', max=48.0, style=ProgressStyle(description_wid…"
      ]
     },
     "metadata": {},
     "output_type": "display_data"
    },
    {
     "name": "stdout",
     "output_type": "stream",
     "text": [
      "\n"
     ]
    },
    {
     "data": {
      "application/vnd.jupyter.widget-view+json": {
       "model_id": "6125ed60581444e29fac9d86f5dcba83",
       "version_major": 2,
       "version_minor": 0
      },
      "text/plain": [
       "HBox(children=(FloatProgress(value=0.0, description='MCDO Simulation', max=20.0, style=ProgressStyle(descripti…"
      ]
     },
     "metadata": {},
     "output_type": "display_data"
    },
    {
     "name": "stdout",
     "output_type": "stream",
     "text": [
      "\n"
     ]
    },
    {
     "data": {
      "application/vnd.jupyter.widget-view+json": {
       "model_id": "76a1a853afa44507a73fb90d6328e4f4",
       "version_major": 2,
       "version_minor": 0
      },
      "text/plain": [
       "HBox(children=(FloatProgress(value=0.0, description='MCDO+ScenarioForecasting', max=20.0, style=ProgressStyle(…"
      ]
     },
     "metadata": {},
     "output_type": "display_data"
    },
    {
     "name": "stdout",
     "output_type": "stream",
     "text": [
      "\n"
     ]
    },
    {
     "data": {
      "application/vnd.jupyter.widget-view+json": {
       "model_id": "40c3e234df0547fbb157c28fb2a293ad",
       "version_major": 2,
       "version_minor": 0
      },
      "text/plain": [
       "HBox(children=(FloatProgress(value=0.0, description='LTS to RV', max=48.0, style=ProgressStyle(description_wid…"
      ]
     },
     "metadata": {},
     "output_type": "display_data"
    },
    {
     "name": "stdout",
     "output_type": "stream",
     "text": [
      "\n"
     ]
    },
    {
     "data": {
      "application/vnd.jupyter.widget-view+json": {
       "model_id": "84c87295ddfe486380d16882af750168",
       "version_major": 2,
       "version_minor": 0
      },
      "text/plain": [
       "HBox(children=(FloatProgress(value=0.0, description='MCDO Simulation', max=20.0, style=ProgressStyle(descripti…"
      ]
     },
     "metadata": {},
     "output_type": "display_data"
    },
    {
     "name": "stdout",
     "output_type": "stream",
     "text": [
      "\n"
     ]
    },
    {
     "data": {
      "application/vnd.jupyter.widget-view+json": {
       "model_id": "d610ffe0fabc47a0a29aab51063821a5",
       "version_major": 2,
       "version_minor": 0
      },
      "text/plain": [
       "HBox(children=(FloatProgress(value=0.0, description='MCDO+ScenarioForecasting', max=20.0, style=ProgressStyle(…"
      ]
     },
     "metadata": {},
     "output_type": "display_data"
    },
    {
     "name": "stdout",
     "output_type": "stream",
     "text": [
      "\n"
     ]
    },
    {
     "data": {
      "application/vnd.jupyter.widget-view+json": {
       "model_id": "7f576c73667e4ab2b0c61541b846fac4",
       "version_major": 2,
       "version_minor": 0
      },
      "text/plain": [
       "HBox(children=(FloatProgress(value=0.0, description='LTS to RV', max=48.0, style=ProgressStyle(description_wid…"
      ]
     },
     "metadata": {},
     "output_type": "display_data"
    },
    {
     "name": "stdout",
     "output_type": "stream",
     "text": [
      "\n"
     ]
    },
    {
     "data": {
      "application/vnd.jupyter.widget-view+json": {
       "model_id": "7d2c2b229cca41d686e85936f2485c7d",
       "version_major": 2,
       "version_minor": 0
      },
      "text/plain": [
       "HBox(children=(FloatProgress(value=0.0, description='MCDO Simulation', max=20.0, style=ProgressStyle(descripti…"
      ]
     },
     "metadata": {},
     "output_type": "display_data"
    },
    {
     "name": "stdout",
     "output_type": "stream",
     "text": [
      "\n"
     ]
    },
    {
     "data": {
      "application/vnd.jupyter.widget-view+json": {
       "model_id": "9b7e3ae71e814d778071b9d5ee3421e2",
       "version_major": 2,
       "version_minor": 0
      },
      "text/plain": [
       "HBox(children=(FloatProgress(value=0.0, description='MCDO+ScenarioForecasting', max=20.0, style=ProgressStyle(…"
      ]
     },
     "metadata": {},
     "output_type": "display_data"
    },
    {
     "name": "stdout",
     "output_type": "stream",
     "text": [
      "\n"
     ]
    },
    {
     "data": {
      "application/vnd.jupyter.widget-view+json": {
       "model_id": "d3d3db9ef41f40ffa1c6e3c7f7a5f818",
       "version_major": 2,
       "version_minor": 0
      },
      "text/plain": [
       "HBox(children=(FloatProgress(value=0.0, description='LTS to RV', max=48.0, style=ProgressStyle(description_wid…"
      ]
     },
     "metadata": {},
     "output_type": "display_data"
    },
    {
     "name": "stdout",
     "output_type": "stream",
     "text": [
      "\n"
     ]
    },
    {
     "data": {
      "application/vnd.jupyter.widget-view+json": {
       "model_id": "08a70179472b4426aa56973658ee5e03",
       "version_major": 2,
       "version_minor": 0
      },
      "text/plain": [
       "HBox(children=(FloatProgress(value=0.0, description='MCDO Simulation', max=20.0, style=ProgressStyle(descripti…"
      ]
     },
     "metadata": {},
     "output_type": "display_data"
    },
    {
     "name": "stdout",
     "output_type": "stream",
     "text": [
      "\n"
     ]
    },
    {
     "data": {
      "application/vnd.jupyter.widget-view+json": {
       "model_id": "98bef43db8484889bea6a64a2012cac9",
       "version_major": 2,
       "version_minor": 0
      },
      "text/plain": [
       "HBox(children=(FloatProgress(value=0.0, description='MCDO+ScenarioForecasting', max=20.0, style=ProgressStyle(…"
      ]
     },
     "metadata": {},
     "output_type": "display_data"
    },
    {
     "name": "stdout",
     "output_type": "stream",
     "text": [
      "\n"
     ]
    },
    {
     "data": {
      "application/vnd.jupyter.widget-view+json": {
       "model_id": "1e0ef0a88704482ebc219b5b9061680b",
       "version_major": 2,
       "version_minor": 0
      },
      "text/plain": [
       "HBox(children=(FloatProgress(value=0.0, description='LTS to RV', max=48.0, style=ProgressStyle(description_wid…"
      ]
     },
     "metadata": {},
     "output_type": "display_data"
    },
    {
     "name": "stdout",
     "output_type": "stream",
     "text": [
      "\n"
     ]
    },
    {
     "data": {
      "application/vnd.jupyter.widget-view+json": {
       "model_id": "532cfbbc8fcb4d32b992f61ad8461e6f",
       "version_major": 2,
       "version_minor": 0
      },
      "text/plain": [
       "HBox(children=(FloatProgress(value=0.0, description='MCDO Simulation', max=20.0, style=ProgressStyle(descripti…"
      ]
     },
     "metadata": {},
     "output_type": "display_data"
    },
    {
     "name": "stdout",
     "output_type": "stream",
     "text": [
      "\n"
     ]
    },
    {
     "data": {
      "application/vnd.jupyter.widget-view+json": {
       "model_id": "a8ad42b3ce5d47f3a22791bbd48bddaf",
       "version_major": 2,
       "version_minor": 0
      },
      "text/plain": [
       "HBox(children=(FloatProgress(value=0.0, description='MCDO+ScenarioForecasting', max=20.0, style=ProgressStyle(…"
      ]
     },
     "metadata": {},
     "output_type": "display_data"
    },
    {
     "name": "stdout",
     "output_type": "stream",
     "text": [
      "\n"
     ]
    },
    {
     "data": {
      "application/vnd.jupyter.widget-view+json": {
       "model_id": "adc40422062a48aabd5fac7be6143a97",
       "version_major": 2,
       "version_minor": 0
      },
      "text/plain": [
       "HBox(children=(FloatProgress(value=0.0, description='LTS to RV', max=48.0, style=ProgressStyle(description_wid…"
      ]
     },
     "metadata": {},
     "output_type": "display_data"
    },
    {
     "name": "stdout",
     "output_type": "stream",
     "text": [
      "\n"
     ]
    },
    {
     "data": {
      "application/vnd.jupyter.widget-view+json": {
       "model_id": "fc18481a99ab481eb79d84b24e6580f9",
       "version_major": 2,
       "version_minor": 0
      },
      "text/plain": [
       "HBox(children=(FloatProgress(value=0.0, description='MCDO Simulation', max=20.0, style=ProgressStyle(descripti…"
      ]
     },
     "metadata": {},
     "output_type": "display_data"
    },
    {
     "name": "stdout",
     "output_type": "stream",
     "text": [
      "\n"
     ]
    },
    {
     "data": {
      "application/vnd.jupyter.widget-view+json": {
       "model_id": "c28ad65705e84637ad32efc6f3137b11",
       "version_major": 2,
       "version_minor": 0
      },
      "text/plain": [
       "HBox(children=(FloatProgress(value=0.0, description='MCDO+ScenarioForecasting', max=20.0, style=ProgressStyle(…"
      ]
     },
     "metadata": {},
     "output_type": "display_data"
    },
    {
     "name": "stdout",
     "output_type": "stream",
     "text": [
      "\n"
     ]
    },
    {
     "data": {
      "application/vnd.jupyter.widget-view+json": {
       "model_id": "a0ccd67a98444670aff69fab82be538d",
       "version_major": 2,
       "version_minor": 0
      },
      "text/plain": [
       "HBox(children=(FloatProgress(value=0.0, description='LTS to RV', max=48.0, style=ProgressStyle(description_wid…"
      ]
     },
     "metadata": {},
     "output_type": "display_data"
    },
    {
     "name": "stdout",
     "output_type": "stream",
     "text": [
      "\n"
     ]
    },
    {
     "data": {
      "application/vnd.jupyter.widget-view+json": {
       "model_id": "c30789b544d145d993a27a26e79e9672",
       "version_major": 2,
       "version_minor": 0
      },
      "text/plain": [
       "HBox(children=(FloatProgress(value=0.0, description='MCDO Simulation', max=20.0, style=ProgressStyle(descripti…"
      ]
     },
     "metadata": {},
     "output_type": "display_data"
    },
    {
     "name": "stdout",
     "output_type": "stream",
     "text": [
      "\n"
     ]
    },
    {
     "data": {
      "application/vnd.jupyter.widget-view+json": {
       "model_id": "d73a18e965fc4aa69c80185c47dae500",
       "version_major": 2,
       "version_minor": 0
      },
      "text/plain": [
       "HBox(children=(FloatProgress(value=0.0, description='MCDO+ScenarioForecasting', max=20.0, style=ProgressStyle(…"
      ]
     },
     "metadata": {},
     "output_type": "display_data"
    },
    {
     "name": "stdout",
     "output_type": "stream",
     "text": [
      "\n"
     ]
    },
    {
     "data": {
      "application/vnd.jupyter.widget-view+json": {
       "model_id": "fd12b4b324134e6c9bef7c29f0fe5f95",
       "version_major": 2,
       "version_minor": 0
      },
      "text/plain": [
       "HBox(children=(FloatProgress(value=0.0, description='LTS to RV', max=48.0, style=ProgressStyle(description_wid…"
      ]
     },
     "metadata": {},
     "output_type": "display_data"
    },
    {
     "name": "stdout",
     "output_type": "stream",
     "text": [
      "\n"
     ]
    },
    {
     "data": {
      "application/vnd.jupyter.widget-view+json": {
       "model_id": "c2046bdaa219492d9273d34f603c3261",
       "version_major": 2,
       "version_minor": 0
      },
      "text/plain": [
       "HBox(children=(FloatProgress(value=0.0, description='MCDO Simulation', max=20.0, style=ProgressStyle(descripti…"
      ]
     },
     "metadata": {},
     "output_type": "display_data"
    },
    {
     "name": "stdout",
     "output_type": "stream",
     "text": [
      "\n"
     ]
    },
    {
     "data": {
      "application/vnd.jupyter.widget-view+json": {
       "model_id": "1a627180403f4f1a8dcbce3df8369df6",
       "version_major": 2,
       "version_minor": 0
      },
      "text/plain": [
       "HBox(children=(FloatProgress(value=0.0, description='MCDO+ScenarioForecasting', max=20.0, style=ProgressStyle(…"
      ]
     },
     "metadata": {},
     "output_type": "display_data"
    },
    {
     "name": "stdout",
     "output_type": "stream",
     "text": [
      "\n"
     ]
    },
    {
     "data": {
      "application/vnd.jupyter.widget-view+json": {
       "model_id": "5f8e8af57b7f43a7b52fb08e322086fd",
       "version_major": 2,
       "version_minor": 0
      },
      "text/plain": [
       "HBox(children=(FloatProgress(value=0.0, description='LTS to RV', max=48.0, style=ProgressStyle(description_wid…"
      ]
     },
     "metadata": {},
     "output_type": "display_data"
    },
    {
     "name": "stdout",
     "output_type": "stream",
     "text": [
      "\n"
     ]
    },
    {
     "data": {
      "application/vnd.jupyter.widget-view+json": {
       "model_id": "0807cf5fdac84d13b9f4977b6e7e976a",
       "version_major": 2,
       "version_minor": 0
      },
      "text/plain": [
       "HBox(children=(FloatProgress(value=0.0, description='MCDO Simulation', max=20.0, style=ProgressStyle(descripti…"
      ]
     },
     "metadata": {},
     "output_type": "display_data"
    },
    {
     "name": "stdout",
     "output_type": "stream",
     "text": [
      "\n"
     ]
    },
    {
     "data": {
      "application/vnd.jupyter.widget-view+json": {
       "model_id": "614635d2f15e4069816a6a1fc2a59047",
       "version_major": 2,
       "version_minor": 0
      },
      "text/plain": [
       "HBox(children=(FloatProgress(value=0.0, description='MCDO+ScenarioForecasting', max=20.0, style=ProgressStyle(…"
      ]
     },
     "metadata": {},
     "output_type": "display_data"
    },
    {
     "name": "stdout",
     "output_type": "stream",
     "text": [
      "\n"
     ]
    },
    {
     "data": {
      "application/vnd.jupyter.widget-view+json": {
       "model_id": "7b990ef400b94c49b559bfbb8e7c52cb",
       "version_major": 2,
       "version_minor": 0
      },
      "text/plain": [
       "HBox(children=(FloatProgress(value=0.0, description='LTS to RV', max=48.0, style=ProgressStyle(description_wid…"
      ]
     },
     "metadata": {},
     "output_type": "display_data"
    },
    {
     "name": "stdout",
     "output_type": "stream",
     "text": [
      "\n"
     ]
    },
    {
     "data": {
      "application/vnd.jupyter.widget-view+json": {
       "model_id": "747462f439e642b6a2a766bd0241af15",
       "version_major": 2,
       "version_minor": 0
      },
      "text/plain": [
       "HBox(children=(FloatProgress(value=0.0, description='MCDO Simulation', max=20.0, style=ProgressStyle(descripti…"
      ]
     },
     "metadata": {},
     "output_type": "display_data"
    },
    {
     "name": "stdout",
     "output_type": "stream",
     "text": [
      "\n"
     ]
    },
    {
     "data": {
      "application/vnd.jupyter.widget-view+json": {
       "model_id": "e710090700de47c28494069a95b6a0dd",
       "version_major": 2,
       "version_minor": 0
      },
      "text/plain": [
       "HBox(children=(FloatProgress(value=0.0, description='MCDO+ScenarioForecasting', max=20.0, style=ProgressStyle(…"
      ]
     },
     "metadata": {},
     "output_type": "display_data"
    },
    {
     "name": "stdout",
     "output_type": "stream",
     "text": [
      "\n"
     ]
    },
    {
     "data": {
      "application/vnd.jupyter.widget-view+json": {
       "model_id": "4ddfbff9594d4a2bb224f27b74495ef1",
       "version_major": 2,
       "version_minor": 0
      },
      "text/plain": [
       "HBox(children=(FloatProgress(value=0.0, description='LTS to RV', max=48.0, style=ProgressStyle(description_wid…"
      ]
     },
     "metadata": {},
     "output_type": "display_data"
    },
    {
     "name": "stdout",
     "output_type": "stream",
     "text": [
      "\n"
     ]
    },
    {
     "data": {
      "application/vnd.jupyter.widget-view+json": {
       "model_id": "f61708e3445348b0a3c63dc1936b5083",
       "version_major": 2,
       "version_minor": 0
      },
      "text/plain": [
       "HBox(children=(FloatProgress(value=0.0, description='MCDO Simulation', max=20.0, style=ProgressStyle(descripti…"
      ]
     },
     "metadata": {},
     "output_type": "display_data"
    },
    {
     "name": "stdout",
     "output_type": "stream",
     "text": [
      "\n"
     ]
    },
    {
     "data": {
      "application/vnd.jupyter.widget-view+json": {
       "model_id": "794da95b55704f14ac543e944206c932",
       "version_major": 2,
       "version_minor": 0
      },
      "text/plain": [
       "HBox(children=(FloatProgress(value=0.0, description='MCDO+ScenarioForecasting', max=20.0, style=ProgressStyle(…"
      ]
     },
     "metadata": {},
     "output_type": "display_data"
    },
    {
     "name": "stdout",
     "output_type": "stream",
     "text": [
      "\n"
     ]
    },
    {
     "data": {
      "application/vnd.jupyter.widget-view+json": {
       "model_id": "c1bd9ddca97f4a9da9db55162bd81bef",
       "version_major": 2,
       "version_minor": 0
      },
      "text/plain": [
       "HBox(children=(FloatProgress(value=0.0, description='LTS to RV', max=48.0, style=ProgressStyle(description_wid…"
      ]
     },
     "metadata": {},
     "output_type": "display_data"
    },
    {
     "name": "stdout",
     "output_type": "stream",
     "text": [
      "\n"
     ]
    },
    {
     "data": {
      "application/vnd.jupyter.widget-view+json": {
       "model_id": "218a87bd82e14649a04fbb50eaabbe7b",
       "version_major": 2,
       "version_minor": 0
      },
      "text/plain": [
       "HBox(children=(FloatProgress(value=0.0, description='MCDO Simulation', max=20.0, style=ProgressStyle(descripti…"
      ]
     },
     "metadata": {},
     "output_type": "display_data"
    },
    {
     "name": "stdout",
     "output_type": "stream",
     "text": [
      "\n"
     ]
    },
    {
     "data": {
      "application/vnd.jupyter.widget-view+json": {
       "model_id": "f1de3168d670477f8342d097a74e8802",
       "version_major": 2,
       "version_minor": 0
      },
      "text/plain": [
       "HBox(children=(FloatProgress(value=0.0, description='MCDO+ScenarioForecasting', max=20.0, style=ProgressStyle(…"
      ]
     },
     "metadata": {},
     "output_type": "display_data"
    },
    {
     "name": "stdout",
     "output_type": "stream",
     "text": [
      "\n"
     ]
    },
    {
     "data": {
      "application/vnd.jupyter.widget-view+json": {
       "model_id": "95f7485a78ca4d98b1c4c76e52e1eb9b",
       "version_major": 2,
       "version_minor": 0
      },
      "text/plain": [
       "HBox(children=(FloatProgress(value=0.0, description='LTS to RV', max=48.0, style=ProgressStyle(description_wid…"
      ]
     },
     "metadata": {},
     "output_type": "display_data"
    },
    {
     "name": "stdout",
     "output_type": "stream",
     "text": [
      "\n"
     ]
    },
    {
     "data": {
      "application/vnd.jupyter.widget-view+json": {
       "model_id": "1302c2fa79f74d8394fdc1652aa97345",
       "version_major": 2,
       "version_minor": 0
      },
      "text/plain": [
       "HBox(children=(FloatProgress(value=0.0, description='MCDO Simulation', max=20.0, style=ProgressStyle(descripti…"
      ]
     },
     "metadata": {},
     "output_type": "display_data"
    },
    {
     "name": "stdout",
     "output_type": "stream",
     "text": [
      "\n"
     ]
    },
    {
     "data": {
      "application/vnd.jupyter.widget-view+json": {
       "model_id": "6ae88d049e2a42f697e0c8034a22631d",
       "version_major": 2,
       "version_minor": 0
      },
      "text/plain": [
       "HBox(children=(FloatProgress(value=0.0, description='MCDO+ScenarioForecasting', max=20.0, style=ProgressStyle(…"
      ]
     },
     "metadata": {},
     "output_type": "display_data"
    },
    {
     "name": "stdout",
     "output_type": "stream",
     "text": [
      "\n"
     ]
    },
    {
     "data": {
      "application/vnd.jupyter.widget-view+json": {
       "model_id": "e2c5fcf33b6e40679f81c231c8abd9f7",
       "version_major": 2,
       "version_minor": 0
      },
      "text/plain": [
       "HBox(children=(FloatProgress(value=0.0, description='LTS to RV', max=48.0, style=ProgressStyle(description_wid…"
      ]
     },
     "metadata": {},
     "output_type": "display_data"
    },
    {
     "name": "stdout",
     "output_type": "stream",
     "text": [
      "\n"
     ]
    },
    {
     "data": {
      "application/vnd.jupyter.widget-view+json": {
       "model_id": "a25508adca53472ca2d178b0efedd68f",
       "version_major": 2,
       "version_minor": 0
      },
      "text/plain": [
       "HBox(children=(FloatProgress(value=0.0, description='MCDO Simulation', max=20.0, style=ProgressStyle(descripti…"
      ]
     },
     "metadata": {},
     "output_type": "display_data"
    },
    {
     "name": "stdout",
     "output_type": "stream",
     "text": [
      "\n"
     ]
    },
    {
     "data": {
      "application/vnd.jupyter.widget-view+json": {
       "model_id": "9fd2fa5250614284b100b230e1bed43f",
       "version_major": 2,
       "version_minor": 0
      },
      "text/plain": [
       "HBox(children=(FloatProgress(value=0.0, description='MCDO+ScenarioForecasting', max=20.0, style=ProgressStyle(…"
      ]
     },
     "metadata": {},
     "output_type": "display_data"
    },
    {
     "name": "stdout",
     "output_type": "stream",
     "text": [
      "\n"
     ]
    },
    {
     "data": {
      "application/vnd.jupyter.widget-view+json": {
       "model_id": "0849d57f68f04f88b25972d1068c7f82",
       "version_major": 2,
       "version_minor": 0
      },
      "text/plain": [
       "HBox(children=(FloatProgress(value=0.0, description='LTS to RV', max=48.0, style=ProgressStyle(description_wid…"
      ]
     },
     "metadata": {},
     "output_type": "display_data"
    },
    {
     "name": "stdout",
     "output_type": "stream",
     "text": [
      "\n"
     ]
    },
    {
     "data": {
      "application/vnd.jupyter.widget-view+json": {
       "model_id": "d3f09d72f30944d8945d85a1eb4018a1",
       "version_major": 2,
       "version_minor": 0
      },
      "text/plain": [
       "HBox(children=(FloatProgress(value=0.0, description='MCDO Simulation', max=20.0, style=ProgressStyle(descripti…"
      ]
     },
     "metadata": {},
     "output_type": "display_data"
    },
    {
     "name": "stdout",
     "output_type": "stream",
     "text": [
      "\n"
     ]
    },
    {
     "data": {
      "application/vnd.jupyter.widget-view+json": {
       "model_id": "73531b4adfb44903a255e9b941c71e7c",
       "version_major": 2,
       "version_minor": 0
      },
      "text/plain": [
       "HBox(children=(FloatProgress(value=0.0, description='MCDO+ScenarioForecasting', max=20.0, style=ProgressStyle(…"
      ]
     },
     "metadata": {},
     "output_type": "display_data"
    },
    {
     "name": "stdout",
     "output_type": "stream",
     "text": [
      "\n"
     ]
    },
    {
     "data": {
      "application/vnd.jupyter.widget-view+json": {
       "model_id": "a96ec856937b47609718394db99845ea",
       "version_major": 2,
       "version_minor": 0
      },
      "text/plain": [
       "HBox(children=(FloatProgress(value=0.0, description='LTS to RV', max=48.0, style=ProgressStyle(description_wid…"
      ]
     },
     "metadata": {},
     "output_type": "display_data"
    },
    {
     "name": "stdout",
     "output_type": "stream",
     "text": [
      "\n"
     ]
    },
    {
     "data": {
      "application/vnd.jupyter.widget-view+json": {
       "model_id": "da6dd657cb2e4a889ef05b3ff5c3db1a",
       "version_major": 2,
       "version_minor": 0
      },
      "text/plain": [
       "HBox(children=(FloatProgress(value=0.0, description='MCDO Simulation', max=20.0, style=ProgressStyle(descripti…"
      ]
     },
     "metadata": {},
     "output_type": "display_data"
    },
    {
     "name": "stdout",
     "output_type": "stream",
     "text": [
      "\n"
     ]
    },
    {
     "data": {
      "application/vnd.jupyter.widget-view+json": {
       "model_id": "1be8c48e7b894df79f5753ac36c3345e",
       "version_major": 2,
       "version_minor": 0
      },
      "text/plain": [
       "HBox(children=(FloatProgress(value=0.0, description='MCDO+ScenarioForecasting', max=20.0, style=ProgressStyle(…"
      ]
     },
     "metadata": {},
     "output_type": "display_data"
    },
    {
     "name": "stdout",
     "output_type": "stream",
     "text": [
      "\n"
     ]
    },
    {
     "data": {
      "application/vnd.jupyter.widget-view+json": {
       "model_id": "7216c42cc83543afb10d401eee425bf9",
       "version_major": 2,
       "version_minor": 0
      },
      "text/plain": [
       "HBox(children=(FloatProgress(value=0.0, description='LTS to RV', max=48.0, style=ProgressStyle(description_wid…"
      ]
     },
     "metadata": {},
     "output_type": "display_data"
    },
    {
     "name": "stdout",
     "output_type": "stream",
     "text": [
      "\n"
     ]
    },
    {
     "data": {
      "application/vnd.jupyter.widget-view+json": {
       "model_id": "47df83e9c07040c1a7f0fbcaeafdf54d",
       "version_major": 2,
       "version_minor": 0
      },
      "text/plain": [
       "HBox(children=(FloatProgress(value=0.0, description='MCDO Simulation', max=20.0, style=ProgressStyle(descripti…"
      ]
     },
     "metadata": {},
     "output_type": "display_data"
    },
    {
     "name": "stdout",
     "output_type": "stream",
     "text": [
      "\n"
     ]
    },
    {
     "data": {
      "application/vnd.jupyter.widget-view+json": {
       "model_id": "a55d16bc22fe4fc28e92f0576ff46c72",
       "version_major": 2,
       "version_minor": 0
      },
      "text/plain": [
       "HBox(children=(FloatProgress(value=0.0, description='MCDO+ScenarioForecasting', max=20.0, style=ProgressStyle(…"
      ]
     },
     "metadata": {},
     "output_type": "display_data"
    },
    {
     "name": "stdout",
     "output_type": "stream",
     "text": [
      "\n"
     ]
    },
    {
     "data": {
      "application/vnd.jupyter.widget-view+json": {
       "model_id": "0b8b4947b2d64f169732a816b913038c",
       "version_major": 2,
       "version_minor": 0
      },
      "text/plain": [
       "HBox(children=(FloatProgress(value=0.0, description='LTS to RV', max=48.0, style=ProgressStyle(description_wid…"
      ]
     },
     "metadata": {},
     "output_type": "display_data"
    },
    {
     "name": "stdout",
     "output_type": "stream",
     "text": [
      "\n"
     ]
    },
    {
     "data": {
      "application/vnd.jupyter.widget-view+json": {
       "model_id": "867bdf0b6dbd435fa95fa1cf237ce9d8",
       "version_major": 2,
       "version_minor": 0
      },
      "text/plain": [
       "HBox(children=(FloatProgress(value=0.0, description='MCDO Simulation', max=20.0, style=ProgressStyle(descripti…"
      ]
     },
     "metadata": {},
     "output_type": "display_data"
    },
    {
     "name": "stdout",
     "output_type": "stream",
     "text": [
      "\n"
     ]
    },
    {
     "data": {
      "application/vnd.jupyter.widget-view+json": {
       "model_id": "ca2304bbd06a4f9f852176faa49f2138",
       "version_major": 2,
       "version_minor": 0
      },
      "text/plain": [
       "HBox(children=(FloatProgress(value=0.0, description='MCDO+ScenarioForecasting', max=20.0, style=ProgressStyle(…"
      ]
     },
     "metadata": {},
     "output_type": "display_data"
    },
    {
     "name": "stdout",
     "output_type": "stream",
     "text": [
      "\n"
     ]
    },
    {
     "data": {
      "application/vnd.jupyter.widget-view+json": {
       "model_id": "126625bd721d478ea9be89ae07a7b417",
       "version_major": 2,
       "version_minor": 0
      },
      "text/plain": [
       "HBox(children=(FloatProgress(value=0.0, description='LTS to RV', max=48.0, style=ProgressStyle(description_wid…"
      ]
     },
     "metadata": {},
     "output_type": "display_data"
    },
    {
     "name": "stdout",
     "output_type": "stream",
     "text": [
      "\n"
     ]
    },
    {
     "data": {
      "application/vnd.jupyter.widget-view+json": {
       "model_id": "767a4c3adf1d48fba80949d997e4b44f",
       "version_major": 2,
       "version_minor": 0
      },
      "text/plain": [
       "HBox(children=(FloatProgress(value=0.0, description='MCDO Simulation', max=20.0, style=ProgressStyle(descripti…"
      ]
     },
     "metadata": {},
     "output_type": "display_data"
    },
    {
     "name": "stdout",
     "output_type": "stream",
     "text": [
      "\n"
     ]
    },
    {
     "data": {
      "application/vnd.jupyter.widget-view+json": {
       "model_id": "045569394bc843c9a05bd2fd57239c1a",
       "version_major": 2,
       "version_minor": 0
      },
      "text/plain": [
       "HBox(children=(FloatProgress(value=0.0, description='MCDO+ScenarioForecasting', max=20.0, style=ProgressStyle(…"
      ]
     },
     "metadata": {},
     "output_type": "display_data"
    },
    {
     "name": "stdout",
     "output_type": "stream",
     "text": [
      "\n"
     ]
    },
    {
     "data": {
      "application/vnd.jupyter.widget-view+json": {
       "model_id": "9b887a3b6873464f95fc323065aaeb18",
       "version_major": 2,
       "version_minor": 0
      },
      "text/plain": [
       "HBox(children=(FloatProgress(value=0.0, description='LTS to RV', max=48.0, style=ProgressStyle(description_wid…"
      ]
     },
     "metadata": {},
     "output_type": "display_data"
    },
    {
     "name": "stdout",
     "output_type": "stream",
     "text": [
      "\n"
     ]
    },
    {
     "data": {
      "application/vnd.jupyter.widget-view+json": {
       "model_id": "dcf2df4f519d4103bb1338550bef45a8",
       "version_major": 2,
       "version_minor": 0
      },
      "text/plain": [
       "HBox(children=(FloatProgress(value=0.0, description='MCDO Simulation', max=20.0, style=ProgressStyle(descripti…"
      ]
     },
     "metadata": {},
     "output_type": "display_data"
    },
    {
     "name": "stdout",
     "output_type": "stream",
     "text": [
      "\n"
     ]
    },
    {
     "data": {
      "application/vnd.jupyter.widget-view+json": {
       "model_id": "2794cf002cfe4202bb5ea4b8097664d1",
       "version_major": 2,
       "version_minor": 0
      },
      "text/plain": [
       "HBox(children=(FloatProgress(value=0.0, description='MCDO+ScenarioForecasting', max=20.0, style=ProgressStyle(…"
      ]
     },
     "metadata": {},
     "output_type": "display_data"
    },
    {
     "name": "stdout",
     "output_type": "stream",
     "text": [
      "\n"
     ]
    },
    {
     "data": {
      "application/vnd.jupyter.widget-view+json": {
       "model_id": "cb2038fb07f14d7ca4babffba3986279",
       "version_major": 2,
       "version_minor": 0
      },
      "text/plain": [
       "HBox(children=(FloatProgress(value=0.0, description='LTS to RV', max=48.0, style=ProgressStyle(description_wid…"
      ]
     },
     "metadata": {},
     "output_type": "display_data"
    },
    {
     "name": "stdout",
     "output_type": "stream",
     "text": [
      "\n"
     ]
    },
    {
     "data": {
      "application/vnd.jupyter.widget-view+json": {
       "model_id": "b3796f251f5c48d7858f845c2a2edbb9",
       "version_major": 2,
       "version_minor": 0
      },
      "text/plain": [
       "HBox(children=(FloatProgress(value=0.0, description='MCDO Simulation', max=20.0, style=ProgressStyle(descripti…"
      ]
     },
     "metadata": {},
     "output_type": "display_data"
    },
    {
     "name": "stdout",
     "output_type": "stream",
     "text": [
      "\n"
     ]
    },
    {
     "data": {
      "application/vnd.jupyter.widget-view+json": {
       "model_id": "7fbe3591459c447db0aa885390fd1488",
       "version_major": 2,
       "version_minor": 0
      },
      "text/plain": [
       "HBox(children=(FloatProgress(value=0.0, description='MCDO+ScenarioForecasting', max=20.0, style=ProgressStyle(…"
      ]
     },
     "metadata": {},
     "output_type": "display_data"
    },
    {
     "name": "stdout",
     "output_type": "stream",
     "text": [
      "\n"
     ]
    },
    {
     "data": {
      "application/vnd.jupyter.widget-view+json": {
       "model_id": "da14844371bd4fc4bf0ec4cb88c1e63d",
       "version_major": 2,
       "version_minor": 0
      },
      "text/plain": [
       "HBox(children=(FloatProgress(value=0.0, description='LTS to RV', max=48.0, style=ProgressStyle(description_wid…"
      ]
     },
     "metadata": {},
     "output_type": "display_data"
    },
    {
     "name": "stdout",
     "output_type": "stream",
     "text": [
      "\n"
     ]
    },
    {
     "data": {
      "application/vnd.jupyter.widget-view+json": {
       "model_id": "73b08c0065b94d089f875d2485526f94",
       "version_major": 2,
       "version_minor": 0
      },
      "text/plain": [
       "HBox(children=(FloatProgress(value=0.0, description='MCDO Simulation', max=20.0, style=ProgressStyle(descripti…"
      ]
     },
     "metadata": {},
     "output_type": "display_data"
    },
    {
     "name": "stdout",
     "output_type": "stream",
     "text": [
      "\n"
     ]
    },
    {
     "data": {
      "application/vnd.jupyter.widget-view+json": {
       "model_id": "cd66dcc8858c4959b707aa482cccf553",
       "version_major": 2,
       "version_minor": 0
      },
      "text/plain": [
       "HBox(children=(FloatProgress(value=0.0, description='MCDO+ScenarioForecasting', max=20.0, style=ProgressStyle(…"
      ]
     },
     "metadata": {},
     "output_type": "display_data"
    },
    {
     "name": "stdout",
     "output_type": "stream",
     "text": [
      "\n"
     ]
    },
    {
     "data": {
      "application/vnd.jupyter.widget-view+json": {
       "model_id": "21d174e8516c4ddbb8424d77f05b6c0a",
       "version_major": 2,
       "version_minor": 0
      },
      "text/plain": [
       "HBox(children=(FloatProgress(value=0.0, description='LTS to RV', max=48.0, style=ProgressStyle(description_wid…"
      ]
     },
     "metadata": {},
     "output_type": "display_data"
    },
    {
     "name": "stdout",
     "output_type": "stream",
     "text": [
      "\n"
     ]
    },
    {
     "data": {
      "application/vnd.jupyter.widget-view+json": {
       "model_id": "23c7488cef754ba88b0054c099ebb9f1",
       "version_major": 2,
       "version_minor": 0
      },
      "text/plain": [
       "HBox(children=(FloatProgress(value=0.0, description='MCDO Simulation', max=20.0, style=ProgressStyle(descripti…"
      ]
     },
     "metadata": {},
     "output_type": "display_data"
    },
    {
     "name": "stdout",
     "output_type": "stream",
     "text": [
      "\n"
     ]
    },
    {
     "data": {
      "application/vnd.jupyter.widget-view+json": {
       "model_id": "e548292bdce34ca585cd1eacd13a1904",
       "version_major": 2,
       "version_minor": 0
      },
      "text/plain": [
       "HBox(children=(FloatProgress(value=0.0, description='MCDO+ScenarioForecasting', max=20.0, style=ProgressStyle(…"
      ]
     },
     "metadata": {},
     "output_type": "display_data"
    },
    {
     "name": "stdout",
     "output_type": "stream",
     "text": [
      "\n"
     ]
    },
    {
     "data": {
      "application/vnd.jupyter.widget-view+json": {
       "model_id": "c4f5dd96da974771b3b6c1a9e671a9f3",
       "version_major": 2,
       "version_minor": 0
      },
      "text/plain": [
       "HBox(children=(FloatProgress(value=0.0, description='LTS to RV', max=48.0, style=ProgressStyle(description_wid…"
      ]
     },
     "metadata": {},
     "output_type": "display_data"
    },
    {
     "name": "stdout",
     "output_type": "stream",
     "text": [
      "\n"
     ]
    },
    {
     "data": {
      "application/vnd.jupyter.widget-view+json": {
       "model_id": "d18378767e504467bc185574c280f493",
       "version_major": 2,
       "version_minor": 0
      },
      "text/plain": [
       "HBox(children=(FloatProgress(value=0.0, description='MCDO Simulation', max=20.0, style=ProgressStyle(descripti…"
      ]
     },
     "metadata": {},
     "output_type": "display_data"
    },
    {
     "name": "stdout",
     "output_type": "stream",
     "text": [
      "\n"
     ]
    },
    {
     "data": {
      "application/vnd.jupyter.widget-view+json": {
       "model_id": "c4e0b23684364a40a560a932615461ec",
       "version_major": 2,
       "version_minor": 0
      },
      "text/plain": [
       "HBox(children=(FloatProgress(value=0.0, description='MCDO+ScenarioForecasting', max=20.0, style=ProgressStyle(…"
      ]
     },
     "metadata": {},
     "output_type": "display_data"
    },
    {
     "name": "stdout",
     "output_type": "stream",
     "text": [
      "\n"
     ]
    },
    {
     "data": {
      "application/vnd.jupyter.widget-view+json": {
       "model_id": "5e91b9d30f6a4616bf858dddce95801f",
       "version_major": 2,
       "version_minor": 0
      },
      "text/plain": [
       "HBox(children=(FloatProgress(value=0.0, description='LTS to RV', max=48.0, style=ProgressStyle(description_wid…"
      ]
     },
     "metadata": {},
     "output_type": "display_data"
    },
    {
     "name": "stdout",
     "output_type": "stream",
     "text": [
      "\n"
     ]
    },
    {
     "data": {
      "application/vnd.jupyter.widget-view+json": {
       "model_id": "7ec00baf944c42f3ad11c2f96b067f6b",
       "version_major": 2,
       "version_minor": 0
      },
      "text/plain": [
       "HBox(children=(FloatProgress(value=0.0, description='MCDO Simulation', max=20.0, style=ProgressStyle(descripti…"
      ]
     },
     "metadata": {},
     "output_type": "display_data"
    },
    {
     "name": "stdout",
     "output_type": "stream",
     "text": [
      "\n"
     ]
    },
    {
     "data": {
      "application/vnd.jupyter.widget-view+json": {
       "model_id": "3469531a4c234846b2681fe43bdada90",
       "version_major": 2,
       "version_minor": 0
      },
      "text/plain": [
       "HBox(children=(FloatProgress(value=0.0, description='MCDO+ScenarioForecasting', max=20.0, style=ProgressStyle(…"
      ]
     },
     "metadata": {},
     "output_type": "display_data"
    },
    {
     "name": "stdout",
     "output_type": "stream",
     "text": [
      "\n"
     ]
    },
    {
     "data": {
      "application/vnd.jupyter.widget-view+json": {
       "model_id": "312080a4b10a4e5ea887ebc859582608",
       "version_major": 2,
       "version_minor": 0
      },
      "text/plain": [
       "HBox(children=(FloatProgress(value=0.0, description='LTS to RV', max=48.0, style=ProgressStyle(description_wid…"
      ]
     },
     "metadata": {},
     "output_type": "display_data"
    },
    {
     "name": "stdout",
     "output_type": "stream",
     "text": [
      "\n"
     ]
    },
    {
     "data": {
      "application/vnd.jupyter.widget-view+json": {
       "model_id": "688effc731e244b3b8e58ee5ae711bf1",
       "version_major": 2,
       "version_minor": 0
      },
      "text/plain": [
       "HBox(children=(FloatProgress(value=0.0, description='MCDO Simulation', max=20.0, style=ProgressStyle(descripti…"
      ]
     },
     "metadata": {},
     "output_type": "display_data"
    },
    {
     "name": "stdout",
     "output_type": "stream",
     "text": [
      "\n"
     ]
    },
    {
     "data": {
      "application/vnd.jupyter.widget-view+json": {
       "model_id": "e5a8b93a64dd460c9526341e2a1d5977",
       "version_major": 2,
       "version_minor": 0
      },
      "text/plain": [
       "HBox(children=(FloatProgress(value=0.0, description='MCDO+ScenarioForecasting', max=20.0, style=ProgressStyle(…"
      ]
     },
     "metadata": {},
     "output_type": "display_data"
    },
    {
     "name": "stdout",
     "output_type": "stream",
     "text": [
      "\n"
     ]
    },
    {
     "data": {
      "application/vnd.jupyter.widget-view+json": {
       "model_id": "450060fbe7e84bdeae86815035916e50",
       "version_major": 2,
       "version_minor": 0
      },
      "text/plain": [
       "HBox(children=(FloatProgress(value=0.0, description='LTS to RV', max=48.0, style=ProgressStyle(description_wid…"
      ]
     },
     "metadata": {},
     "output_type": "display_data"
    },
    {
     "name": "stdout",
     "output_type": "stream",
     "text": [
      "\n"
     ]
    },
    {
     "data": {
      "application/vnd.jupyter.widget-view+json": {
       "model_id": "d1ef897b01444e8792b7f45b079b3c86",
       "version_major": 2,
       "version_minor": 0
      },
      "text/plain": [
       "HBox(children=(FloatProgress(value=0.0, description='MCDO Simulation', max=20.0, style=ProgressStyle(descripti…"
      ]
     },
     "metadata": {},
     "output_type": "display_data"
    },
    {
     "name": "stdout",
     "output_type": "stream",
     "text": [
      "\n"
     ]
    },
    {
     "data": {
      "application/vnd.jupyter.widget-view+json": {
       "model_id": "617b9127729949a0a70863bd59de8928",
       "version_major": 2,
       "version_minor": 0
      },
      "text/plain": [
       "HBox(children=(FloatProgress(value=0.0, description='MCDO+ScenarioForecasting', max=20.0, style=ProgressStyle(…"
      ]
     },
     "metadata": {},
     "output_type": "display_data"
    },
    {
     "name": "stdout",
     "output_type": "stream",
     "text": [
      "\n"
     ]
    },
    {
     "data": {
      "application/vnd.jupyter.widget-view+json": {
       "model_id": "d2f149ea72c54b4390a6d891a269ef6f",
       "version_major": 2,
       "version_minor": 0
      },
      "text/plain": [
       "HBox(children=(FloatProgress(value=0.0, description='LTS to RV', max=48.0, style=ProgressStyle(description_wid…"
      ]
     },
     "metadata": {},
     "output_type": "display_data"
    },
    {
     "name": "stdout",
     "output_type": "stream",
     "text": [
      "\n"
     ]
    },
    {
     "data": {
      "application/vnd.jupyter.widget-view+json": {
       "model_id": "a304d5612523499cb6fc47d31a792936",
       "version_major": 2,
       "version_minor": 0
      },
      "text/plain": [
       "HBox(children=(FloatProgress(value=0.0, description='MCDO Simulation', max=20.0, style=ProgressStyle(descripti…"
      ]
     },
     "metadata": {},
     "output_type": "display_data"
    },
    {
     "name": "stdout",
     "output_type": "stream",
     "text": [
      "\n"
     ]
    },
    {
     "data": {
      "application/vnd.jupyter.widget-view+json": {
       "model_id": "6604599f7aaf4f4faf413ab014741106",
       "version_major": 2,
       "version_minor": 0
      },
      "text/plain": [
       "HBox(children=(FloatProgress(value=0.0, description='MCDO+ScenarioForecasting', max=20.0, style=ProgressStyle(…"
      ]
     },
     "metadata": {},
     "output_type": "display_data"
    },
    {
     "name": "stdout",
     "output_type": "stream",
     "text": [
      "\n"
     ]
    },
    {
     "data": {
      "application/vnd.jupyter.widget-view+json": {
       "model_id": "aef69ce340ba46c2947927a7c116c76a",
       "version_major": 2,
       "version_minor": 0
      },
      "text/plain": [
       "HBox(children=(FloatProgress(value=0.0, description='LTS to RV', max=48.0, style=ProgressStyle(description_wid…"
      ]
     },
     "metadata": {},
     "output_type": "display_data"
    },
    {
     "name": "stdout",
     "output_type": "stream",
     "text": [
      "\n"
     ]
    },
    {
     "data": {
      "application/vnd.jupyter.widget-view+json": {
       "model_id": "81d8461fb66a4befa180631875871785",
       "version_major": 2,
       "version_minor": 0
      },
      "text/plain": [
       "HBox(children=(FloatProgress(value=0.0, description='MCDO Simulation', max=20.0, style=ProgressStyle(descripti…"
      ]
     },
     "metadata": {},
     "output_type": "display_data"
    },
    {
     "name": "stdout",
     "output_type": "stream",
     "text": [
      "\n"
     ]
    },
    {
     "data": {
      "application/vnd.jupyter.widget-view+json": {
       "model_id": "93ab152bdff449cabeb8d9f55bc92714",
       "version_major": 2,
       "version_minor": 0
      },
      "text/plain": [
       "HBox(children=(FloatProgress(value=0.0, description='MCDO+ScenarioForecasting', max=20.0, style=ProgressStyle(…"
      ]
     },
     "metadata": {},
     "output_type": "display_data"
    },
    {
     "name": "stdout",
     "output_type": "stream",
     "text": [
      "\n"
     ]
    },
    {
     "data": {
      "application/vnd.jupyter.widget-view+json": {
       "model_id": "9677dee2304b40e693b9f9f51f8872fa",
       "version_major": 2,
       "version_minor": 0
      },
      "text/plain": [
       "HBox(children=(FloatProgress(value=0.0, description='LTS to RV', max=48.0, style=ProgressStyle(description_wid…"
      ]
     },
     "metadata": {},
     "output_type": "display_data"
    },
    {
     "name": "stdout",
     "output_type": "stream",
     "text": [
      "\n"
     ]
    },
    {
     "data": {
      "application/vnd.jupyter.widget-view+json": {
       "model_id": "769da39a076c4bf7a871797d49837eaf",
       "version_major": 2,
       "version_minor": 0
      },
      "text/plain": [
       "HBox(children=(FloatProgress(value=0.0, description='MCDO Simulation', max=20.0, style=ProgressStyle(descripti…"
      ]
     },
     "metadata": {},
     "output_type": "display_data"
    },
    {
     "name": "stdout",
     "output_type": "stream",
     "text": [
      "\n"
     ]
    },
    {
     "data": {
      "application/vnd.jupyter.widget-view+json": {
       "model_id": "9008aa259d5d4299ac1dd1f703356eee",
       "version_major": 2,
       "version_minor": 0
      },
      "text/plain": [
       "HBox(children=(FloatProgress(value=0.0, description='MCDO+ScenarioForecasting', max=20.0, style=ProgressStyle(…"
      ]
     },
     "metadata": {},
     "output_type": "display_data"
    },
    {
     "name": "stdout",
     "output_type": "stream",
     "text": [
      "\n"
     ]
    },
    {
     "data": {
      "application/vnd.jupyter.widget-view+json": {
       "model_id": "46abb6c9d5fb46f1a2b8386fdbbc7594",
       "version_major": 2,
       "version_minor": 0
      },
      "text/plain": [
       "HBox(children=(FloatProgress(value=0.0, description='LTS to RV', max=48.0, style=ProgressStyle(description_wid…"
      ]
     },
     "metadata": {},
     "output_type": "display_data"
    },
    {
     "name": "stdout",
     "output_type": "stream",
     "text": [
      "\n",
      "\n"
     ]
    }
   ],
   "source": [
    "import time \n",
    "from models.baselines.quantile_naive import QuantileNaive\n",
    "from sklearn.model_selection import TimeSeriesSplit\n",
    "from utility.evaluation import evaluate\n",
    "plt.rcParams['figure.figsize'] = [10, 3]\n",
    "\n",
    "horizon = 48\n",
    "n_sims = 20\n",
    "n_splits = 20\n",
    "tscv = TimeSeriesSplit(n_splits=n_splits)\n",
    "methods = ['qnaiveW', 'qnaiveX', 'nonbayesian', 'al', 'sfal', 'ep', 'sfep', 'alep', 'sfalep']\n",
    "mse = {m:[] for m in methods}\n",
    "nmae = {m:[] for m in methods}\n",
    "ncrps = {m:[] for m in methods}\n",
    "es_scores = {m:[] for m in methods}\n",
    "forecasts = {m:[] for m in methods}\n",
    "forecast_time = {m:[] for m in methods}\n",
    "y_real = []\n",
    "\n",
    "for tr_idx, te_idx in tqdm(tscv.split(dev), total=n_splits):\n",
    "    X = dev.values[tr_idx,:]\n",
    "    y = dev.values[tr_idx[-1]+1:tr_idx[-1]+1+horizon,:]\n",
    "#     y_nonoise = dev_sig[tr_idx[-1]+1:tr_idx[-1]+1+horizon]\n",
    "    y_real.append(y[:,0])\n",
    "    \n",
    "    # no noise signal\n",
    "    start = time.time()\n",
    "#     mse['nonoise'].append(mean_squared_error(y, y_nonoise))\n",
    "#     forecast_time['nonoise'].append(time.time()-start)\n",
    "    \n",
    "    # quantile naive with X\n",
    "    start = time.time()\n",
    "    quantileNaive = QuantileNaive(horizon=horizon, forecast_with_warmup=False)\n",
    "    quantileNaive.fit(X, y)\n",
    "    y_qnaiveX = quantileNaive.forecast_probabilistic(warmup=X[:,0], test=y[:,0])\n",
    "    #assert len(y_qnaiveX) == len(y)\n",
    "    forecasts['qnaiveX'].append(y_qnaiveX)\n",
    "    mse['qnaiveX'].append(mean_squared_error(y[:,0], y_qnaiveX.median()))\n",
    "    ncrps_qnaiveX, nmae_qnaiveX = evaluate(y[:,0], [y_qnaiveX], period=horizon)\n",
    "    nmae['qnaiveX'].append(nmae_qnaiveX)\n",
    "    ncrps['qnaiveX'].append(ncrps_qnaiveX)\n",
    "    forecast_time['qnaiveX'].append(time.time()-start)\n",
    "    \n",
    "    # quantile naive with Warmup\n",
    "    start = time.time()\n",
    "    quantileNaive = QuantileNaive(horizon=horizon, forecast_with_warmup=True)\n",
    "    y_qnaiveW = quantileNaive.forecast_probabilistic(warmup=X[-n_input:,0], test=y[:,0])\n",
    "    #assert len(y_qnaiveW.foreca) == len(y)\n",
    "    forecasts['qnaiveW'].append(y_qnaiveW)\n",
    "    mse['qnaiveW'].append(mean_squared_error(y[:,0], y_qnaiveW.median()))\n",
    "    ncrps_qnaiveW, nmae_qnaiveW = evaluate(y[:,0], [y_qnaiveW], period=horizon)\n",
    "    nmae['qnaiveW'].append(nmae_qnaiveW)\n",
    "    ncrps['qnaiveW'].append(ncrps_qnaiveW)\n",
    "    forecast_time['qnaiveW'].append(time.time()-start)\n",
    "    \n",
    "    # non-bayesian model\n",
    "    start = time.time()\n",
    "    y_old = modelRNNNonBayesian.forecast(warmup=X[-n_input:], test=y)\n",
    "    assert len(y_old) == len(y)\n",
    "    forecasts['nonbayesian'].append(y_old)\n",
    "    mse['nonbayesian'].append(mean_squared_error(y[:,0], y_old))\n",
    "    nmae['nonbayesian'].append(mean_absolute_error(y[:,0], y_old))\n",
    "    ncrps['nonbayesian'].append(0)\n",
    "    forecast_time['nonbayesian'].append(time.time()-start)\n",
    "    \n",
    "    # old model ES\n",
    "#     start = time.time()\n",
    "#     y_old_es = modelOldES.forecast(warmup=X[-n_input:], test=y)\n",
    "#     assert len(y_old_es) == len(y)\n",
    "#     forecasts['old_es'].append(y_old_es)\n",
    "#     mse['old_es'].append(mean_squared_error(y[:,0], y_old_es))\n",
    "#     nmae['old_es'].append(mean_absolute_error(y[:,0], y_old_es))\n",
    "#     ncrps['old_es'].append(0)\n",
    "#     forecast_time['old_es'].append(time.time()-start)\n",
    "    \n",
    "    # aleatoric (AL)\n",
    "    start = time.time()\n",
    "    y_al = modelRNNAleatoric.forecast(warmup=X[-n_input:], test=y)\n",
    "    assert len(y_al.median()) == len(y)\n",
    "    forecasts['al'].append(y_al)\n",
    "    mse['al'].append(mean_squared_error(y[:,0], y_al.median()))\n",
    "    ncrps_al, nmae_al = evaluate(y[:,0], [y_al], period=horizon)\n",
    "    nmae['al'].append(nmae_al)\n",
    "    ncrps['al'].append(ncrps_al)\n",
    "    forecast_time['al'].append(time.time()-start)\n",
    "\n",
    "    # Scenario Forecasting (SF) + AL\n",
    "    start = time.time()\n",
    "    y_sfal = modelRNNAleatoric.scenario_forecast(test_warmup=X[-n_input:], test=y, horizon=horizon, n_sims=n_sims)\n",
    "    trajs_means = retrieve_trajectories(modelRNNAleatoric)\n",
    "    es_scores['sfal'].append( energy_score_new(y[:,0].reshape(-1,1), trajs_means.T) )\n",
    "    assert len(y_sfal.median()) == len(y)\n",
    "    forecasts['sfal'].append(y_sfal)\n",
    "    mse['sfal'].append(mean_squared_error(y[:,0], y_sfal.median()))\n",
    "    ncrps_sfal, nmae_sfal = evaluate(y[:,0], [y_sfal], period=horizon)\n",
    "    nmae['sfal'].append(nmae_sfal)\n",
    "    ncrps['sfal'].append(ncrps_sfal)\n",
    "    forecast_time['sfal'].append(time.time()-start)\n",
    "\n",
    "    \n",
    "    # epistemic (EP)\n",
    "    start = time.time()\n",
    "    y_ep = modelRNNEpistemic.forecast(warmup=X[-n_input:], test=y)\n",
    "    assert len(y_ep.median()) == len(y)\n",
    "    forecasts['ep'].append(y_ep)\n",
    "    mse['ep'].append(mean_squared_error(y[:,0], y_ep.median()))    \n",
    "    ncrps_ep, nmae_ep = evaluate(y[:,0], [y_ep], period=horizon)\n",
    "    nmae['ep'].append(nmae_ep)\n",
    "    ncrps['ep'].append(ncrps_ep)\n",
    "    forecast_time['ep'].append(time.time()-start)\n",
    "\n",
    "    # Scenario Forecasting (SF) + EP\n",
    "    start = time.time()\n",
    "    y_sfep = modelRNNEpistemic.scenario_forecast(test_warmup=X[-n_input:], test=y, horizon=horizon, n_sims=n_sims)\n",
    "    trajs_means = retrieve_trajectories(modelRNNEpistemic)\n",
    "    es_scores['sfep'].append( energy_score_new(y[:,0].reshape(-1,1), trajs_means.T) )\n",
    "    assert len(y_sfep.median()) == len(y)\n",
    "    forecasts['sfep'].append(y_sfep)\n",
    "    mse['sfep'].append(mean_squared_error(y[:,0], y_sfep.median()))\n",
    "    ncrps_sfep, nmae_sfep = evaluate(y[:,0], [y_sfep], period=horizon)\n",
    "    nmae['sfep'].append(nmae_sfep)\n",
    "    ncrps['sfep'].append(ncrps_sfep)\n",
    "    forecast_time['sfep'].append(time.time()-start)\n",
    "    \n",
    "    # ALEP: AL+EP\n",
    "    start = time.time()\n",
    "    y_alep = modelRNNALEP.forecast(warmup=X[-n_input:], test=y)\n",
    "    assert len(y_alep.median()) == len(y)\n",
    "    forecasts['alep'].append(y_alep)\n",
    "    mse['alep'].append(mean_squared_error(y[:,0], y_alep.median()))\n",
    "    ncrps_alep, nmae_alep = evaluate(y[:,0], [y_alep], period=horizon)\n",
    "    nmae['alep'].append(nmae_alep)\n",
    "    ncrps['alep'].append(ncrps_alep)\n",
    "    forecast_time['alep'].append(time.time()-start)\n",
    "    \n",
    "    # Scenario Forecasting (SF) + ALEP\n",
    "    start = time.time()\n",
    "    y_sfalep = modelRNNALEP.scenario_forecast(test_warmup=X[-n_input:], test=y, horizon=horizon, n_sims=n_sims)\n",
    "    trajs_means = retrieve_trajectories(modelRNNALEP)\n",
    "    es_scores['sfalep'].append( energy_score_new(y[:,0].reshape(-1,1), trajs_means.T) )\n",
    "    assert len(y_sfalep.median()) == len(y)\n",
    "    forecasts['sfalep'].append(y_sfalep)\n",
    "    mse['sfalep'].append(mean_squared_error(y[:,0], y_sfalep.median()))\n",
    "    ncrps_sfalep, nmae_sfalep = evaluate(y[:,0], [y_sfalep], period=horizon)\n",
    "    nmae['sfalep'].append(nmae_sfalep)\n",
    "    ncrps['sfalep'].append(ncrps_sfalep)\n",
    "    forecast_time['sfalep'].append(time.time()-start)\n",
    "    \n",
    "#     errors_alep2.append(mean_squared_error(y, pforecast.median()))\n",
    "#     yreal_dev.append(y)\n",
    "    #print(\"%i -> %2.3f\" % (i, errors[-1]))\n",
    "    #i+=1\n",
    "    \n",
    "# plt.figure(figsize=(6,4))\n",
    "# plt.boxplot(errors_alep2)\n",
    "# plt.title('MSE average: %2.4f' % np.mean(errors_alep2))\n",
    "# plt.show()\n",
    "#"
   ]
  },
  {
   "cell_type": "code",
   "execution_count": 24,
   "metadata": {},
   "outputs": [],
   "source": [
    "np.save(\"results2\", [mse, nmae, ncrps, es_scores, forecasts, forecast_time, y_real])"
   ]
  },
  {
   "cell_type": "code",
   "execution_count": 18,
   "metadata": {},
   "outputs": [],
   "source": [
    "# loaded_results = np.load(\"results.npy\", allow_pickle=True)\n",
    "# loaded_results"
   ]
  },
  {
   "cell_type": "code",
   "execution_count": 19,
   "metadata": {},
   "outputs": [],
   "source": [
    "def dict_subset(dic, keys=[]):\n",
    "    return {k:dic[k] for k in keys} if keys is not [] else None"
   ]
  },
  {
   "cell_type": "code",
   "execution_count": 20,
   "metadata": {},
   "outputs": [
    {
     "data": {
      "image/png": "[encoded data removed]",
      "text/plain": [
       "<Figure size 720x288 with 1 Axes>"
      ]
     },
     "metadata": {
      "needs_background": "light"
     },
     "output_type": "display_data"
    }
   ],
   "source": [
    "mse_subset = dict_subset(es_scores, keys=['qnaiveW', 'qnaiveX', 'nonbayesian', 'al', 'sfal', 'ep', 'sfep', 'alep', 'sfalep'])\n",
    "plt.figure(figsize=(10,4))\n",
    "plt.boxplot(mse.values())\n",
    "plt.xticks(range(1, len(mse.keys())+1),mse.keys())\n",
    "for i, txt in enumerate(np.array([np.round(np.mean(v),4) for v in mse.values()]).astype('str')):\n",
    "    # np.max(list(mse.values()))[i]\n",
    "    plt.text(i+0.7, 0.51, s=txt)\n",
    "plt.grid()\n",
    "plt.ylim([-0.025,.5])\n",
    "plt.ylabel('MSE')\n",
    "plt.show()"
   ]
  },
  {
   "cell_type": "code",
   "execution_count": 21,
   "metadata": {},
   "outputs": [
    {
     "data": {
      "image/png": "[encoded data removed]",
      "text/plain": [
       "<Figure size 720x288 with 1 Axes>"
      ]
     },
     "metadata": {
      "needs_background": "light"
     },
     "output_type": "display_data"
    }
   ],
   "source": [
    "nmae_avg = []\n",
    "nmae_models = ['qnaiveW', 'qnaiveX', 'nonbayesian', 'al', 'sfal', 'ep', 'sfep', 'alep', 'sfalep']\n",
    "for k in nmae_models:\n",
    "    if k == 'nonbayesian':\n",
    "        nmae_avg.append(np.array(nmae[k]))\n",
    "    else:\n",
    "        nmae_avg.append(np.array(nmae[k]).mean(axis=2).flatten())\n",
    "\n",
    "plt.figure(figsize=(10,4))\n",
    "plt.boxplot(nmae_avg)\n",
    "plt.xticks(range(1, len(nmae_models)+1),nmae_models)\n",
    "for i, txt in enumerate(np.array([np.round(np.mean(v),4) for v in nmae_avg]).astype('str')):\n",
    "    # np.max(list(mse.values()))[i]\n",
    "    plt.text(i+0.7, 0.7, s=txt)\n",
    "plt.grid()\n",
    "plt.ylim([0,.68])\n",
    "plt.ylabel('MAE')\n",
    "plt.show()"
   ]
  },
  {
   "cell_type": "code",
   "execution_count": 22,
   "metadata": {
    "scrolled": true
   },
   "outputs": [
    {
     "data": {
      "image/png": "[encoded data removed]",
      "text/plain": [
       "<Figure size 720x288 with 1 Axes>"
      ]
     },
     "metadata": {
      "needs_background": "light"
     },
     "output_type": "display_data"
    }
   ],
   "source": [
    "ncrps_avg = []\n",
    "ncrps_models = ['qnaiveW', 'qnaiveX', 'al', 'sfal', 'ep', 'sfep', 'alep', 'sfalep']\n",
    "for k in ncrps_models:\n",
    "    ncrps_avg.append(np.array(ncrps[k]).mean(axis=2).flatten())\n",
    "\n",
    "plt.figure(figsize=(10,4))\n",
    "plt.boxplot(ncrps_avg)\n",
    "plt.xticks(range(1, len(ncrps_models)+1),ncrps_models)\n",
    "for i, txt in enumerate(np.array([np.round(np.mean(v),4) for v in ncrps_avg]).astype('str')):\n",
    "    # np.max(list(mse.values()))[i]\n",
    "    plt.text(i+0.7, 0.7, s=txt)\n",
    "plt.grid()\n",
    "plt.ylim([0,.68])\n",
    "plt.ylabel('CRPS')\n",
    "plt.show()"
   ]
  },
  {
   "cell_type": "code",
   "execution_count": 23,
   "metadata": {},
   "outputs": [
    {
     "data": {
      "image/png": "[encoded data removed]",
      "text/plain": [
       "<Figure size 432x288 with 1 Axes>"
      ]
     },
     "metadata": {
      "needs_background": "light"
     },
     "output_type": "display_data"
    }
   ],
   "source": [
    "es_scores_subset = dict_subset(es_scores, keys=['sfep', 'sfal', 'sfalep'])\n",
    "plt.figure(figsize=(6,4))\n",
    "plt.boxplot(es_scores_subset.values())\n",
    "plt.xticks(range(1, len(es_scores_subset.keys())+1),es_scores_subset.keys())\n",
    "for i, txt in enumerate(np.array([np.round(np.mean(v),4) for v in es_scores_subset.values()]).astype('str')):\n",
    "    # np.max(list(mse.values()))[i]\n",
    "    plt.text(i+0.85, 2.7, s=txt)\n",
    "plt.grid()\n",
    "plt.ylim([0,2.6])\n",
    "plt.ylabel('ES')\n",
    "plt.show()"
   ]
  }
 ],
 "metadata": {
  "kernelspec": {
   "display_name": "Python [conda env:thesis]",
   "language": "python",
   "name": "conda-env-thesis-py"
  },
  "language_info": {
   "codemirror_mode": {
    "name": "ipython",
    "version": 3
   },
   "file_extension": ".py",
   "mimetype": "text/x-python",
   "name": "python",
   "nbconvert_exporter": "python",
   "pygments_lexer": "ipython3",
   "version": "3.7.7"
  }
 },
 "nbformat": 4,
 "nbformat_minor": 2
}
