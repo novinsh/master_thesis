{
 "cells": [
  {
   "cell_type": "code",
   "execution_count": 1,
   "metadata": {},
   "outputs": [],
   "source": [
    "%load_ext autoreload\n",
    "%autoreload 2\n",
    "\n",
    "import numpy as np\n",
    "import pandas as pd\n",
    "import timesynth as ts\n",
    "from matplotlib import pyplot as plt\n",
    "from sklearn.preprocessing import MinMaxScaler, StandardScaler\n",
    "\n",
    "plt.rcParams['figure.figsize'] = [17, 4]\n",
    "np.random.seed(100)\n",
    "\n",
    "import os\n",
    "import sys\n",
    "module_path = os.path.abspath(os.path.join(\"../../\"))\n",
    "if module_path not in sys.path:\n",
    "    sys.path.append(module_path)"
   ]
  },
  {
   "cell_type": "code",
   "execution_count": 2,
   "metadata": {},
   "outputs": [
    {
     "data": {
      "text/html": [
       "<div>\n",
       "<style scoped>\n",
       "    .dataframe tbody tr th:only-of-type {\n",
       "        vertical-align: middle;\n",
       "    }\n",
       "\n",
       "    .dataframe tbody tr th {\n",
       "        vertical-align: top;\n",
       "    }\n",
       "\n",
       "    .dataframe thead th {\n",
       "        text-align: right;\n",
       "    }\n",
       "</style>\n",
       "<table border=\"1\" class=\"dataframe\">\n",
       "  <thead>\n",
       "    <tr style=\"text-align: right;\">\n",
       "      <th></th>\n",
       "      <th>wf1</th>\n",
       "      <th>wf2</th>\n",
       "      <th>wf3</th>\n",
       "      <th>wf4</th>\n",
       "      <th>wf5</th>\n",
       "      <th>wf6</th>\n",
       "      <th>wf7</th>\n",
       "      <th>wf8</th>\n",
       "      <th>wf9</th>\n",
       "      <th>wf10</th>\n",
       "    </tr>\n",
       "    <tr>\n",
       "      <th>datetime</th>\n",
       "      <th></th>\n",
       "      <th></th>\n",
       "      <th></th>\n",
       "      <th></th>\n",
       "      <th></th>\n",
       "      <th></th>\n",
       "      <th></th>\n",
       "      <th></th>\n",
       "      <th></th>\n",
       "      <th></th>\n",
       "    </tr>\n",
       "  </thead>\n",
       "  <tbody>\n",
       "    <tr>\n",
       "      <th>2012-01-01 01:00:00</th>\n",
       "      <td>0.000000</td>\n",
       "      <td>0.596273</td>\n",
       "      <td>0.425465</td>\n",
       "      <td>0.378229</td>\n",
       "      <td>0.273678</td>\n",
       "      <td>0.268101</td>\n",
       "      <td>0.000000</td>\n",
       "      <td>0.000000</td>\n",
       "      <td>0.0</td>\n",
       "      <td>0.594361</td>\n",
       "    </tr>\n",
       "    <tr>\n",
       "      <th>2012-01-01 02:00:00</th>\n",
       "      <td>0.054879</td>\n",
       "      <td>0.411180</td>\n",
       "      <td>0.363851</td>\n",
       "      <td>0.063012</td>\n",
       "      <td>0.086796</td>\n",
       "      <td>0.034542</td>\n",
       "      <td>0.014708</td>\n",
       "      <td>0.014954</td>\n",
       "      <td>0.0</td>\n",
       "      <td>0.569679</td>\n",
       "    </tr>\n",
       "    <tr>\n",
       "      <th>2012-01-01 03:00:00</th>\n",
       "      <td>0.110234</td>\n",
       "      <td>0.167243</td>\n",
       "      <td>0.297129</td>\n",
       "      <td>0.036704</td>\n",
       "      <td>0.006811</td>\n",
       "      <td>0.020621</td>\n",
       "      <td>0.035098</td>\n",
       "      <td>0.071785</td>\n",
       "      <td>0.0</td>\n",
       "      <td>0.330539</td>\n",
       "    </tr>\n",
       "    <tr>\n",
       "      <th>2012-01-01 04:00:00</th>\n",
       "      <td>0.165116</td>\n",
       "      <td>0.037326</td>\n",
       "      <td>0.235438</td>\n",
       "      <td>0.034342</td>\n",
       "      <td>0.018646</td>\n",
       "      <td>0.001867</td>\n",
       "      <td>0.045055</td>\n",
       "      <td>0.066796</td>\n",
       "      <td>0.0</td>\n",
       "      <td>0.211308</td>\n",
       "    </tr>\n",
       "    <tr>\n",
       "      <th>2012-01-01 05:00:00</th>\n",
       "      <td>0.156940</td>\n",
       "      <td>0.051206</td>\n",
       "      <td>0.120904</td>\n",
       "      <td>0.033554</td>\n",
       "      <td>0.034812</td>\n",
       "      <td>0.015174</td>\n",
       "      <td>0.050160</td>\n",
       "      <td>0.034797</td>\n",
       "      <td>0.0</td>\n",
       "      <td>0.172140</td>\n",
       "    </tr>\n",
       "  </tbody>\n",
       "</table>\n",
       "</div>"
      ],
      "text/plain": [
       "                          wf1       wf2       wf3       wf4       wf5  \\\n",
       "datetime                                                                \n",
       "2012-01-01 01:00:00  0.000000  0.596273  0.425465  0.378229  0.273678   \n",
       "2012-01-01 02:00:00  0.054879  0.411180  0.363851  0.063012  0.086796   \n",
       "2012-01-01 03:00:00  0.110234  0.167243  0.297129  0.036704  0.006811   \n",
       "2012-01-01 04:00:00  0.165116  0.037326  0.235438  0.034342  0.018646   \n",
       "2012-01-01 05:00:00  0.156940  0.051206  0.120904  0.033554  0.034812   \n",
       "\n",
       "                          wf6       wf7       wf8  wf9      wf10  \n",
       "datetime                                                          \n",
       "2012-01-01 01:00:00  0.268101  0.000000  0.000000  0.0  0.594361  \n",
       "2012-01-01 02:00:00  0.034542  0.014708  0.014954  0.0  0.569679  \n",
       "2012-01-01 03:00:00  0.020621  0.035098  0.071785  0.0  0.330539  \n",
       "2012-01-01 04:00:00  0.001867  0.045055  0.066796  0.0  0.211308  \n",
       "2012-01-01 05:00:00  0.015174  0.050160  0.034797  0.0  0.172140  "
      ]
     },
     "metadata": {},
     "output_type": "display_data"
    },
    {
     "name": "stdout",
     "output_type": "stream",
     "text": [
      "first date: 2012-01-01 01:00:00\n",
      "last date: 2013-12-01 00:00:00\n"
     ]
    }
   ],
   "source": [
    "data_directory = '../../data/GEFCom2014-W_V2/Wind/Task 15/'\n",
    "df_power = pd.read_pickle(os.path.join(data_directory,\"df_power.pkl\"))\n",
    "display(df_power.head())\n",
    "print(\"first date: %s\"% df_power.index[0])\n",
    "print(\"last date: %s\" % df_power.index[-1])"
   ]
  },
  {
   "cell_type": "code",
   "execution_count": 3,
   "metadata": {},
   "outputs": [
    {
     "data": {
      "text/html": [
       "<div>\n",
       "<style scoped>\n",
       "    .dataframe tbody tr th:only-of-type {\n",
       "        vertical-align: middle;\n",
       "    }\n",
       "\n",
       "    .dataframe tbody tr th {\n",
       "        vertical-align: top;\n",
       "    }\n",
       "\n",
       "    .dataframe thead tr th {\n",
       "        text-align: left;\n",
       "    }\n",
       "\n",
       "    .dataframe thead tr:last-of-type th {\n",
       "        text-align: right;\n",
       "    }\n",
       "</style>\n",
       "<table border=\"1\" class=\"dataframe\">\n",
       "  <thead>\n",
       "    <tr>\n",
       "      <th></th>\n",
       "      <th colspan=\"4\" halign=\"left\">1</th>\n",
       "      <th colspan=\"4\" halign=\"left\">2</th>\n",
       "      <th colspan=\"2\" halign=\"left\">3</th>\n",
       "      <th>...</th>\n",
       "      <th colspan=\"2\" halign=\"left\">8</th>\n",
       "      <th colspan=\"4\" halign=\"left\">9</th>\n",
       "      <th colspan=\"4\" halign=\"left\">10</th>\n",
       "    </tr>\n",
       "    <tr>\n",
       "      <th></th>\n",
       "      <th>U10</th>\n",
       "      <th>V10</th>\n",
       "      <th>U100</th>\n",
       "      <th>V100</th>\n",
       "      <th>U10</th>\n",
       "      <th>V10</th>\n",
       "      <th>U100</th>\n",
       "      <th>V100</th>\n",
       "      <th>U10</th>\n",
       "      <th>V10</th>\n",
       "      <th>...</th>\n",
       "      <th>U100</th>\n",
       "      <th>V100</th>\n",
       "      <th>U10</th>\n",
       "      <th>V10</th>\n",
       "      <th>U100</th>\n",
       "      <th>V100</th>\n",
       "      <th>U10</th>\n",
       "      <th>V10</th>\n",
       "      <th>U100</th>\n",
       "      <th>V100</th>\n",
       "    </tr>\n",
       "    <tr>\n",
       "      <th>datetime</th>\n",
       "      <th></th>\n",
       "      <th></th>\n",
       "      <th></th>\n",
       "      <th></th>\n",
       "      <th></th>\n",
       "      <th></th>\n",
       "      <th></th>\n",
       "      <th></th>\n",
       "      <th></th>\n",
       "      <th></th>\n",
       "      <th></th>\n",
       "      <th></th>\n",
       "      <th></th>\n",
       "      <th></th>\n",
       "      <th></th>\n",
       "      <th></th>\n",
       "      <th></th>\n",
       "      <th></th>\n",
       "      <th></th>\n",
       "      <th></th>\n",
       "      <th></th>\n",
       "    </tr>\n",
       "  </thead>\n",
       "  <tbody>\n",
       "    <tr>\n",
       "      <th>2012-01-01 01:00:00</th>\n",
       "      <td>2.124600</td>\n",
       "      <td>-2.681966</td>\n",
       "      <td>2.864280</td>\n",
       "      <td>-3.666076</td>\n",
       "      <td>-0.171642</td>\n",
       "      <td>-5.466031</td>\n",
       "      <td>-0.112594</td>\n",
       "      <td>-7.101347</td>\n",
       "      <td>2.193217</td>\n",
       "      <td>-4.649168</td>\n",
       "      <td>...</td>\n",
       "      <td>-0.625438</td>\n",
       "      <td>0.298533</td>\n",
       "      <td>1.903254</td>\n",
       "      <td>-1.495002</td>\n",
       "      <td>2.516723</td>\n",
       "      <td>-2.078063</td>\n",
       "      <td>1.655790</td>\n",
       "      <td>-4.649593</td>\n",
       "      <td>2.024257</td>\n",
       "      <td>-5.992232</td>\n",
       "    </tr>\n",
       "    <tr>\n",
       "      <th>2012-01-01 02:00:00</th>\n",
       "      <td>2.521695</td>\n",
       "      <td>-1.796960</td>\n",
       "      <td>3.344859</td>\n",
       "      <td>-2.464761</td>\n",
       "      <td>-0.088859</td>\n",
       "      <td>-4.643205</td>\n",
       "      <td>-0.014100</td>\n",
       "      <td>-5.896778</td>\n",
       "      <td>2.970141</td>\n",
       "      <td>-3.944314</td>\n",
       "      <td>...</td>\n",
       "      <td>0.024957</td>\n",
       "      <td>0.797498</td>\n",
       "      <td>2.173296</td>\n",
       "      <td>-0.643641</td>\n",
       "      <td>2.837109</td>\n",
       "      <td>-1.006914</td>\n",
       "      <td>2.178609</td>\n",
       "      <td>-4.184944</td>\n",
       "      <td>2.623141</td>\n",
       "      <td>-5.318086</td>\n",
       "    </tr>\n",
       "    <tr>\n",
       "      <th>2012-01-01 03:00:00</th>\n",
       "      <td>2.672210</td>\n",
       "      <td>-0.822516</td>\n",
       "      <td>3.508448</td>\n",
       "      <td>-1.214093</td>\n",
       "      <td>-0.246014</td>\n",
       "      <td>-3.613395</td>\n",
       "      <td>-0.225238</td>\n",
       "      <td>-4.489369</td>\n",
       "      <td>3.238855</td>\n",
       "      <td>-3.144486</td>\n",
       "      <td>...</td>\n",
       "      <td>0.674786</td>\n",
       "      <td>1.626758</td>\n",
       "      <td>2.312744</td>\n",
       "      <td>0.136595</td>\n",
       "      <td>3.034096</td>\n",
       "      <td>-0.015490</td>\n",
       "      <td>2.228633</td>\n",
       "      <td>-3.242442</td>\n",
       "      <td>2.645217</td>\n",
       "      <td>-4.052232</td>\n",
       "    </tr>\n",
       "    <tr>\n",
       "      <th>2012-01-01 04:00:00</th>\n",
       "      <td>2.457504</td>\n",
       "      <td>-0.143642</td>\n",
       "      <td>3.215233</td>\n",
       "      <td>-0.355546</td>\n",
       "      <td>-0.680738</td>\n",
       "      <td>-2.919615</td>\n",
       "      <td>-0.772046</td>\n",
       "      <td>-3.598824</td>\n",
       "      <td>3.260990</td>\n",
       "      <td>-2.228816</td>\n",
       "      <td>...</td>\n",
       "      <td>0.936869</td>\n",
       "      <td>2.625774</td>\n",
       "      <td>2.217565</td>\n",
       "      <td>0.797156</td>\n",
       "      <td>2.941829</td>\n",
       "      <td>0.823531</td>\n",
       "      <td>2.077232</td>\n",
       "      <td>-2.345085</td>\n",
       "      <td>2.432947</td>\n",
       "      <td>-2.913831</td>\n",
       "    </tr>\n",
       "    <tr>\n",
       "      <th>2012-01-01 05:00:00</th>\n",
       "      <td>2.245898</td>\n",
       "      <td>0.389576</td>\n",
       "      <td>2.957678</td>\n",
       "      <td>0.332701</td>\n",
       "      <td>-1.261106</td>\n",
       "      <td>-2.619786</td>\n",
       "      <td>-1.487537</td>\n",
       "      <td>-3.244667</td>\n",
       "      <td>2.940038</td>\n",
       "      <td>-2.040145</td>\n",
       "      <td>...</td>\n",
       "      <td>0.720637</td>\n",
       "      <td>3.501676</td>\n",
       "      <td>1.900598</td>\n",
       "      <td>1.285656</td>\n",
       "      <td>2.559177</td>\n",
       "      <td>1.471102</td>\n",
       "      <td>1.814716</td>\n",
       "      <td>-1.577625</td>\n",
       "      <td>2.097844</td>\n",
       "      <td>-1.976100</td>\n",
       "    </tr>\n",
       "  </tbody>\n",
       "</table>\n",
       "<p>5 rows × 40 columns</p>\n",
       "</div>"
      ],
      "text/plain": [
       "                            1                                       2  \\\n",
       "                          U10       V10      U100      V100       U10   \n",
       "datetime                                                                \n",
       "2012-01-01 01:00:00  2.124600 -2.681966  2.864280 -3.666076 -0.171642   \n",
       "2012-01-01 02:00:00  2.521695 -1.796960  3.344859 -2.464761 -0.088859   \n",
       "2012-01-01 03:00:00  2.672210 -0.822516  3.508448 -1.214093 -0.246014   \n",
       "2012-01-01 04:00:00  2.457504 -0.143642  3.215233 -0.355546 -0.680738   \n",
       "2012-01-01 05:00:00  2.245898  0.389576  2.957678  0.332701 -1.261106   \n",
       "\n",
       "                                                          3            ...  \\\n",
       "                          V10      U100      V100       U10       V10  ...   \n",
       "datetime                                                               ...   \n",
       "2012-01-01 01:00:00 -5.466031 -0.112594 -7.101347  2.193217 -4.649168  ...   \n",
       "2012-01-01 02:00:00 -4.643205 -0.014100 -5.896778  2.970141 -3.944314  ...   \n",
       "2012-01-01 03:00:00 -3.613395 -0.225238 -4.489369  3.238855 -3.144486  ...   \n",
       "2012-01-01 04:00:00 -2.919615 -0.772046 -3.598824  3.260990 -2.228816  ...   \n",
       "2012-01-01 05:00:00 -2.619786 -1.487537 -3.244667  2.940038 -2.040145  ...   \n",
       "\n",
       "                            8                   9                      \\\n",
       "                         U100      V100       U10       V10      U100   \n",
       "datetime                                                                \n",
       "2012-01-01 01:00:00 -0.625438  0.298533  1.903254 -1.495002  2.516723   \n",
       "2012-01-01 02:00:00  0.024957  0.797498  2.173296 -0.643641  2.837109   \n",
       "2012-01-01 03:00:00  0.674786  1.626758  2.312744  0.136595  3.034096   \n",
       "2012-01-01 04:00:00  0.936869  2.625774  2.217565  0.797156  2.941829   \n",
       "2012-01-01 05:00:00  0.720637  3.501676  1.900598  1.285656  2.559177   \n",
       "\n",
       "                                     10                                \n",
       "                         V100       U10       V10      U100      V100  \n",
       "datetime                                                               \n",
       "2012-01-01 01:00:00 -2.078063  1.655790 -4.649593  2.024257 -5.992232  \n",
       "2012-01-01 02:00:00 -1.006914  2.178609 -4.184944  2.623141 -5.318086  \n",
       "2012-01-01 03:00:00 -0.015490  2.228633 -3.242442  2.645217 -4.052232  \n",
       "2012-01-01 04:00:00  0.823531  2.077232 -2.345085  2.432947 -2.913831  \n",
       "2012-01-01 05:00:00  1.471102  1.814716 -1.577625  2.097844 -1.976100  \n",
       "\n",
       "[5 rows x 40 columns]"
      ]
     },
     "metadata": {},
     "output_type": "display_data"
    },
    {
     "name": "stdout",
     "output_type": "stream",
     "text": [
      "first date: 2012-01-01 01:00:00\n",
      "last date: 2013-12-01 00:00:00\n"
     ]
    }
   ],
   "source": [
    "df_wind = pd.read_pickle(os.path.join(data_directory,\"df_wind.pkl\"))\n",
    "display(df_wind.head())\n",
    "print(\"first date: %s\"% df_wind.index[0])\n",
    "print(\"last date: %s\" % df_wind.index[-1])"
   ]
  },
  {
   "cell_type": "code",
   "execution_count": 4,
   "metadata": {},
   "outputs": [
    {
     "data": {
      "text/html": [
       "<div>\n",
       "<style scoped>\n",
       "    .dataframe tbody tr th:only-of-type {\n",
       "        vertical-align: middle;\n",
       "    }\n",
       "\n",
       "    .dataframe tbody tr th {\n",
       "        vertical-align: top;\n",
       "    }\n",
       "\n",
       "    .dataframe thead th {\n",
       "        text-align: right;\n",
       "    }\n",
       "</style>\n",
       "<table border=\"1\" class=\"dataframe\">\n",
       "  <thead>\n",
       "    <tr style=\"text-align: right;\">\n",
       "      <th></th>\n",
       "      <th>wf1</th>\n",
       "      <th>U10</th>\n",
       "      <th>V10</th>\n",
       "      <th>U100</th>\n",
       "      <th>V100</th>\n",
       "    </tr>\n",
       "    <tr>\n",
       "      <th>datetime</th>\n",
       "      <th></th>\n",
       "      <th></th>\n",
       "      <th></th>\n",
       "      <th></th>\n",
       "      <th></th>\n",
       "    </tr>\n",
       "  </thead>\n",
       "  <tbody>\n",
       "    <tr>\n",
       "      <th>2012-01-01 01:00:00</th>\n",
       "      <td>0.000000</td>\n",
       "      <td>2.124600</td>\n",
       "      <td>-2.681966</td>\n",
       "      <td>2.864280</td>\n",
       "      <td>-3.666076</td>\n",
       "    </tr>\n",
       "    <tr>\n",
       "      <th>2012-01-01 02:00:00</th>\n",
       "      <td>0.054879</td>\n",
       "      <td>2.521695</td>\n",
       "      <td>-1.796960</td>\n",
       "      <td>3.344859</td>\n",
       "      <td>-2.464761</td>\n",
       "    </tr>\n",
       "    <tr>\n",
       "      <th>2012-01-01 03:00:00</th>\n",
       "      <td>0.110234</td>\n",
       "      <td>2.672210</td>\n",
       "      <td>-0.822516</td>\n",
       "      <td>3.508448</td>\n",
       "      <td>-1.214093</td>\n",
       "    </tr>\n",
       "    <tr>\n",
       "      <th>2012-01-01 04:00:00</th>\n",
       "      <td>0.165116</td>\n",
       "      <td>2.457504</td>\n",
       "      <td>-0.143642</td>\n",
       "      <td>3.215233</td>\n",
       "      <td>-0.355546</td>\n",
       "    </tr>\n",
       "    <tr>\n",
       "      <th>2012-01-01 05:00:00</th>\n",
       "      <td>0.156940</td>\n",
       "      <td>2.245898</td>\n",
       "      <td>0.389576</td>\n",
       "      <td>2.957678</td>\n",
       "      <td>0.332701</td>\n",
       "    </tr>\n",
       "  </tbody>\n",
       "</table>\n",
       "</div>"
      ],
      "text/plain": [
       "                          wf1       U10       V10      U100      V100\n",
       "datetime                                                             \n",
       "2012-01-01 01:00:00  0.000000  2.124600 -2.681966  2.864280 -3.666076\n",
       "2012-01-01 02:00:00  0.054879  2.521695 -1.796960  3.344859 -2.464761\n",
       "2012-01-01 03:00:00  0.110234  2.672210 -0.822516  3.508448 -1.214093\n",
       "2012-01-01 04:00:00  0.165116  2.457504 -0.143642  3.215233 -0.355546\n",
       "2012-01-01 05:00:00  0.156940  2.245898  0.389576  2.957678  0.332701"
      ]
     },
     "metadata": {},
     "output_type": "display_data"
    },
    {
     "name": "stdout",
     "output_type": "stream",
     "text": [
      "first date: 2012-01-01 01:00:00\n",
      "last date: 2013-12-01 00:00:00\n"
     ]
    }
   ],
   "source": [
    "df_merged = {} \n",
    "for i in range(10):\n",
    "    df_merged[f'{i+1}'] = pd.merge(df_power[f'wf{i+1}'], df_wind[f'{i+1}'], how='inner', left_index=True, right_index=True)\n",
    "    # date = pd.to_datetime(df_merged.index)\n",
    "    # df_merged['hod'] = date.hour # hour of the day\n",
    "    # df_merged['dow'] = date.dayofweek # day of week\n",
    "    # df_merged['month'] = date.month\n",
    "    # df_merged['year'] = date.year\n",
    "display(df_merged['1'].head())\n",
    "print(\"first date: %s\"% df_merged['1'].index[0])\n",
    "print(\"last date: %s\" % df_merged['1'].index[-1])"
   ]
  },
  {
   "cell_type": "code",
   "execution_count": 5,
   "metadata": {},
   "outputs": [
    {
     "data": {
      "image/png": "[encoded data removed]",
      "text/plain": [
       "<Figure size 1224x144 with 1 Axes>"
      ]
     },
     "metadata": {
      "needs_background": "light"
     },
     "output_type": "display_data"
    },
    {
     "data": {
      "image/png": "[encoded data removed]",
      "text/plain": [
       "<Figure size 1224x144 with 1 Axes>"
      ]
     },
     "metadata": {
      "needs_background": "light"
     },
     "output_type": "display_data"
    },
    {
     "data": {
      "image/png": "[encoded data removed]",
      "text/plain": [
       "<Figure size 1224x144 with 1 Axes>"
      ]
     },
     "metadata": {
      "needs_background": "light"
     },
     "output_type": "display_data"
    },
    {
     "name": "stdout",
     "output_type": "stream",
     "text": [
      " train:  (7319, 5)\n",
      "   dev:  (7296, 5)\n",
      "warmup:  (24, 5)\n",
      "  test:  (721, 5)\n"
     ]
    },
    {
     "name": "stderr",
     "output_type": "stream",
     "text": [
      "/opt/anaconda3/envs/thesis/lib/python3.7/site-packages/pandas/core/frame.py:4034: SettingWithCopyWarning: \n",
      "A value is trying to be set on a copy of a slice from a DataFrame\n",
      "\n",
      "See the caveats in the documentation: http://pandas.pydata.org/pandas-docs/stable/indexing.html#indexing-view-versus-copy\n",
      "  downcast=downcast, **kwargs)\n"
     ]
    }
   ],
   "source": [
    "wf_no = 1 # select only one wind_farm\n",
    "train = df_merged[f'{wf_no}'].loc['2012-01-01 00:00:00':'2012-10-31 23:00:00'] # first year has 24 hours less\n",
    "dev = df_merged[f'{wf_no}'].loc['2013-01-01 00:00:00':'2013-10-31 23:00:00']\n",
    "test_beg = pd.Timestamp('2013-11-01 00:00:00')\n",
    "# test = df_merged['1'].loc[test_beg:test_beg+pd.Timedelta('47H')]\n",
    "test_duration = pd.Timedelta('47H')\n",
    "test = df_merged[f'{wf_no}'].loc[test_beg: '2013-12-01 00:00:00']\n",
    "test_warmup = df_merged[f'{wf_no}'].loc[test_beg-(test_duration//2+pd.Timedelta('1H')):test_beg-pd.Timedelta('1H')]\n",
    "xxx = df_merged[f'{wf_no}'].loc[test_beg-test_duration:test_beg] # when want to visualize\n",
    "\n",
    "# visualize\n",
    "train[f'wf{wf_no}'].plot(figsize=(17,2), title='Train', color='blue')\n",
    "plt.grid(alpha=0.25)\n",
    "plt.show()\n",
    "#\n",
    "dev[f'wf{wf_no}'].plot(figsize=(17,2), title='Validation/Development', color='green')\n",
    "plt.grid(alpha=0.25)\n",
    "plt.show()\n",
    "#\n",
    "test_warmup[f'wf{wf_no}'].plot(figsize=(17,2), color='red', title='Test')\n",
    "test.loc[test_beg:test_beg+test_duration, f'wf{wf_no}'].plot(color='blue')\n",
    "plt.legend(['Test warmup (24 hours)', 'Test (48 hours)'])\n",
    "plt.grid(alpha=0.25)\n",
    "plt.show()\n",
    "\n",
    "# dimensions\n",
    "print(\" train: \", train.shape)\n",
    "print(\"   dev: \", dev.shape)\n",
    "print(\"warmup: \", test_warmup.shape)\n",
    "print(\"  test: \", test.shape)\n",
    "\n",
    "# check for NaNs\n",
    "# display(train.isna().sum())\n",
    "# display(dev.isna().sum())\n",
    "# display(test_warmup.isna().sum())\n",
    "# display(test.isna().sum())\n",
    "\n",
    "# fill NaNs with ffill as they are not too many\n",
    "dev.fillna(method='ffill', inplace=True)\n",
    "test.fillna(method='ffill', inplace=True)\n",
    "\n",
    "# double check for NaNs\n",
    "# display(dev.isna().sum())\n",
    "# display(test.isna().sum())"
   ]
  },
  {
   "cell_type": "code",
   "execution_count": 6,
   "metadata": {},
   "outputs": [
    {
     "name": "stderr",
     "output_type": "stream",
     "text": [
      "/opt/anaconda3/envs/thesis/lib/python3.7/site-packages/pandas/plotting/_tools.py:307: MatplotlibDeprecationWarning: \n",
      "The rowNum attribute was deprecated in Matplotlib 3.2 and will be removed two minor releases later. Use ax.get_subplotspec().rowspan.start instead.\n",
      "  layout[ax.rowNum, ax.colNum] = ax.get_visible()\n",
      "/opt/anaconda3/envs/thesis/lib/python3.7/site-packages/pandas/plotting/_tools.py:307: MatplotlibDeprecationWarning: \n",
      "The colNum attribute was deprecated in Matplotlib 3.2 and will be removed two minor releases later. Use ax.get_subplotspec().colspan.start instead.\n",
      "  layout[ax.rowNum, ax.colNum] = ax.get_visible()\n",
      "/opt/anaconda3/envs/thesis/lib/python3.7/site-packages/pandas/plotting/_tools.py:313: MatplotlibDeprecationWarning: \n",
      "The rowNum attribute was deprecated in Matplotlib 3.2 and will be removed two minor releases later. Use ax.get_subplotspec().rowspan.start instead.\n",
      "  if not layout[ax.rowNum + 1, ax.colNum]:\n",
      "/opt/anaconda3/envs/thesis/lib/python3.7/site-packages/pandas/plotting/_tools.py:313: MatplotlibDeprecationWarning: \n",
      "The colNum attribute was deprecated in Matplotlib 3.2 and will be removed two minor releases later. Use ax.get_subplotspec().colspan.start instead.\n",
      "  if not layout[ax.rowNum + 1, ax.colNum]:\n"
     ]
    },
    {
     "data": {
      "image/png": "[encoded data removed]",
      "text/plain": [
       "<Figure size 1224x288 with 6 Axes>"
      ]
     },
     "metadata": {
      "needs_background": "light"
     },
     "output_type": "display_data"
    }
   ],
   "source": [
    "# Look at the distribution of Train-Dev-Test\n",
    "ax = train.hist(density=True, bins=50, range=(0,1), alpha=0.75)\n",
    "dev.hist(density=True, bins=50, range=(0,1), alpha=0.5, ax=ax.flatten()[:-1])\n",
    "test.hist(density=True, bins=50, range=(0,1), ax=ax.flatten()[:-1], alpha=0.5)\n",
    "plt.show()"
   ]
  },
  {
   "cell_type": "code",
   "execution_count": 7,
   "metadata": {},
   "outputs": [],
   "source": [
    "horizon=48\n",
    "n_input=4\n",
    "debug = False\n",
    "n_features = train.shape[1]"
   ]
  },
  {
   "cell_type": "code",
   "execution_count": 8,
   "metadata": {},
   "outputs": [
    {
     "name": "stderr",
     "output_type": "stream",
     "text": [
      "Using TensorFlow backend.\n"
     ]
    }
   ],
   "source": [
    "import keras.backend as K\n",
    "from models.RNN_v2 import (ModelRNNNonBayesian, \n",
    "                           ModelRNNEpistemic, \n",
    "                           ModelRNNAleatoric,\n",
    "                           ModelRNNAleatoricEpistemic)\n",
    "\n"
   ]
  },
  {
   "cell_type": "code",
   "execution_count": 9,
   "metadata": {
    "scrolled": false
   },
   "outputs": [
    {
     "name": "stdout",
     "output_type": "stream",
     "text": [
      "Model: \"model_rnn_nonbayesian\"\n",
      "_________________________________________________________________\n",
      "Layer (type)                 Output Shape              Param #   \n",
      "=================================================================\n",
      "input_1 (InputLayer)         (None, 4, 5)              0         \n",
      "_________________________________________________________________\n",
      "gru_1 (GRU)                  (None, 100)               31800     \n",
      "_________________________________________________________________\n",
      "mean (Dense)                 (None, 1)                 101       \n",
      "=================================================================\n",
      "Total params: 31,901\n",
      "Trainable params: 31,901\n",
      "Non-trainable params: 0\n",
      "_________________________________________________________________\n",
      "None\n",
      "Loaded the model weights from file!\n"
     ]
    }
   ],
   "source": [
    "modelRNNNonBayesian = ModelRNNNonBayesian(\"model_rnn_nonbayesian\", n_input, n_features)\n",
    "modelRNNNonBayesian.load_weights(\"../saved_models/model_rnn_nonbayesian.h5\")"
   ]
  },
  {
   "cell_type": "code",
   "execution_count": 10,
   "metadata": {},
   "outputs": [
    {
     "name": "stdout",
     "output_type": "stream",
     "text": [
      "Model: \"model_rnn_epistemic\"\n",
      "_________________________________________________________________\n",
      "Layer (type)                 Output Shape              Param #   \n",
      "=================================================================\n",
      "input_2 (InputLayer)         (None, 4, 5)              0         \n",
      "_________________________________________________________________\n",
      "gru_2 (GRU)                  (None, 100)               31800     \n",
      "_________________________________________________________________\n",
      "mean (Dense)                 (None, 1)                 101       \n",
      "=================================================================\n",
      "Total params: 31,901\n",
      "Trainable params: 31,901\n",
      "Non-trainable params: 0\n",
      "_________________________________________________________________\n",
      "None\n",
      "Loaded the model weights from file!\n"
     ]
    }
   ],
   "source": [
    "modelRNNEpistemic = ModelRNNEpistemic(\"model_rnn_epistemic\", n_input, n_features)\n",
    "modelRNNEpistemic.load_weights('../saved_models/model_rnn_epistemic.h5')"
   ]
  },
  {
   "cell_type": "code",
   "execution_count": 11,
   "metadata": {
    "scrolled": true
   },
   "outputs": [
    {
     "name": "stdout",
     "output_type": "stream",
     "text": [
      "Model: \"model_rnn_aleatoric\"\n",
      "__________________________________________________________________________________________________\n",
      "Layer (type)                    Output Shape         Param #     Connected to                     \n",
      "==================================================================================================\n",
      "input_3 (InputLayer)            (None, 4, 5)         0                                            \n",
      "__________________________________________________________________________________________________\n",
      "gru_3 (GRU)                     (None, 100)          31800       input_3[0][0]                    \n",
      "__________________________________________________________________________________________________\n",
      "mean (Dense)                    (None, 1)            101         gru_3[0][0]                      \n",
      "__________________________________________________________________________________________________\n",
      "log_var (Dense)                 (None, 1)            101         gru_3[0][0]                      \n",
      "==================================================================================================\n",
      "Total params: 32,002\n",
      "Trainable params: 32,002\n",
      "Non-trainable params: 0\n",
      "__________________________________________________________________________________________________\n",
      "None\n",
      "Loaded the model weights from file!\n"
     ]
    }
   ],
   "source": [
    "modelRNNAleatoric = ModelRNNAleatoric(\"model_rnn_aleatoric\", n_input, n_features)\n",
    "modelRNNAleatoric.load_weights('../saved_models/model_rnn_aleatoric.h5')"
   ]
  },
  {
   "cell_type": "code",
   "execution_count": 12,
   "metadata": {},
   "outputs": [
    {
     "name": "stdout",
     "output_type": "stream",
     "text": [
      "Model: \"model_rnn_alep\"\n",
      "__________________________________________________________________________________________________\n",
      "Layer (type)                    Output Shape         Param #     Connected to                     \n",
      "==================================================================================================\n",
      "input_4 (InputLayer)            (None, 4, 5)         0                                            \n",
      "__________________________________________________________________________________________________\n",
      "gru_4 (GRU)                     (None, 100)          31800       input_4[0][0]                    \n",
      "__________________________________________________________________________________________________\n",
      "mean (Dense)                    (None, 1)            101         gru_4[0][0]                      \n",
      "__________________________________________________________________________________________________\n",
      "log_var (Dense)                 (None, 1)            101         gru_4[0][0]                      \n",
      "==================================================================================================\n",
      "Total params: 32,002\n",
      "Trainable params: 32,002\n",
      "Non-trainable params: 0\n",
      "__________________________________________________________________________________________________\n",
      "None\n",
      "Loaded the model weights from file!\n"
     ]
    }
   ],
   "source": [
    "modelRNNALEP = ModelRNNAleatoricEpistemic(\"model_rnn_alep\", n_input, n_features)\n",
    "modelRNNALEP.load_weights('../saved_models/model_rnn_alep.h5')"
   ]
  },
  {
   "cell_type": "code",
   "execution_count": 13,
   "metadata": {},
   "outputs": [],
   "source": [
    "import itertools\n",
    "def energy_score_new(y, y_trajs, beta=1):\n",
    "    assert len(y.shape) == 2\n",
    "    assert len(y_trajs.shape) == 2\n",
    "    \n",
    "    def ed_cacl(x,y):\n",
    "        N = y.shape[1]\n",
    "        M = x.shape[1]\n",
    "        val = np.sum([np.linalg.norm(x-y[:,i].reshape(-1,1), ord=2, axis=0) for i in range(N)])\n",
    "        return val / (N*M)\n",
    "\n",
    "    def ei_calc(x):\n",
    "        M = x.shape[1]\n",
    "        val = np.sum([np.linalg.norm(x[:,i]-x[:,j], ord=2) if i != j else 0 \\\n",
    "                      for i, j in itertools.product(*[range(M), range(M)])])\n",
    "        return  val / (M*M)\n",
    "\n",
    "    ED = ed_cacl(y, y_trajs)\n",
    "    EI_x = ei_calc(y_trajs)\n",
    "    EI_y = ei_calc(y) if y.shape[1] >= 1 else 0\n",
    "#     print(ED)\n",
    "#     print(EI_x)\n",
    "#     print(EI_y)\n",
    "        \n",
    "    return ED-0.5*EI_x-0.5*EI_y "
   ]
  },
  {
   "cell_type": "code",
   "execution_count": 14,
   "metadata": {},
   "outputs": [],
   "source": [
    "def retrieve_trajectories(model):\n",
    "    trajs_means = []\n",
    "    nr_trajectories = model.mcSimulation.get_nr_trajectories()\n",
    "    nr_scenarios_per_traj = model.mcSimulation.get_nr_senarios_per_trajectory()\n",
    "    for j in range(nr_trajectories):\n",
    "        means = []\n",
    "        for i in range(nr_scenarios_per_traj):\n",
    "            means.append(np.mean([m.mu for m in model.mcSimulation.trajectories[j].leadTimeScenarios[i].scenarios]))\n",
    "        trajs_means.append(means)\n",
    "    return np.array(trajs_means)\n",
    "\n",
    "def plot_trajectories(trajs_means, warmup, test):\n",
    "    plt.figure(figsize=(17,3))\n",
    "    n_wu = len(warmup) if warmup is not None else 0\n",
    "    horizon=trajs_means.shape[1]\n",
    "    if warmup is not None:\n",
    "        plt.plot(warmup[:,0], color='red', linestyle='-', linewidth=2, label='Warmup sequence')\n",
    "    plt.plot(range(n_wu,n_wu+horizon), test[:,0], color='blue', linewidth=2, alpha=0.4, label='Observation')\n",
    "    plt.plot(range(n_wu,n_wu+horizon), trajs_means.T, color='orangered', linewidth=2, alpha=0.4)\n",
    "    plt.plot([], color='orangered', linewidth=2, alpha=0.4, label='Forecast')\n",
    "    plt.xlim([0,horizon])\n",
    "    plt.ylim([0,1])\n",
    "    plt.xlabel('Leadtime')\n",
    "    plt.grid(alpha=0.25)\n",
    "    plt.legend(bbox_to_anchor=(1.02, 1), loc=\"upper left\", borderaxespad=0)\n",
    "    plt.title('')\n",
    "    plt.show()\n"
   ]
  },
  {
   "cell_type": "code",
   "execution_count": 15,
   "metadata": {},
   "outputs": [],
   "source": [
    "from utility.visualization import plot_forecast_dense\n",
    "from sklearn.metrics import mean_squared_error, mean_absolute_error\n",
    "from utility.probabilistic_forecast import ProbabilisticForecast\n",
    "from tqdm.auto import tqdm\n",
    "\n",
    "def cross_validation_scenarios(model, density=False, scenarios=True, debug=True):\n",
    "    plt.rcParams['figure.figsize'] = [10, 3]\n",
    "    n_splits=20\n",
    "    tscv = TimeSeriesSplit(n_splits=n_splits)\n",
    "    errors_es = []\n",
    "    errors_mse = []\n",
    "    model_stds = []\n",
    "    yreal_dev = [] # for final evaluation\n",
    "    for tr_idx, te_idx in tqdm(tscv.split(dev), total=n_splits):\n",
    "        X = dev.values[tr_idx,:]\n",
    "        y = dev.values[tr_idx[-1]+1:tr_idx[-1]+1+horizon,:]\n",
    "        if density:\n",
    "            yhat = model.forecast(warmup=X[-n_input:], test=y, nr_simulations=10)\n",
    "            # visualize\n",
    "            if debug:\n",
    "                plot_forecast_dense(X[-horizon:,0], y[:,0], yhat, horizon=horizon, \n",
    "                                    alphas=[0.05, 0.15, 0.25, 0.35, 0.5], figsize=(17,3))\n",
    "                #plot_vis1(yhat.median(), yhat.std(), y, expressive=False)\n",
    "                #plot_vis2(yhat.median(), yhat.std(), y, expressive=False)\n",
    "            model_stds.append(np.mean(yhat.std()))\n",
    "            errors_mse.append(mean_squared_error(y[:,0], yhat.median()))\n",
    "            yreal_dev.append(y)\n",
    "            plt.figure(figsize=(10,4))\n",
    "            plt.subplot(1,2,1)\n",
    "            plt.boxplot(errors_mse)\n",
    "            plt.title('MSE average: %2.4f' % np.mean(errors_mse))\n",
    "            #\n",
    "            plt.subplot(1,2,2)\n",
    "            plt.boxplot(model_stds)\n",
    "            plt.title('STD average: %2.4f' % np.mean(model_stds))\n",
    "            plt.show()\n",
    "        #\n",
    "        if scenarios:\n",
    "            n_sims = 10\n",
    "            # horizon = len(traj_test)\n",
    "            warmup=X[-n_input:]\n",
    "            test=y\n",
    "            y_sfalepRNN = model.scenario_forecast(test_warmup=warmup.reshape(-1,n_input,5), test=test.reshape(-1,5,1), horizon=horizon, n_sims=n_sims)\n",
    "            trajs_means = retrieve_trajectories(model)\n",
    "            errors_es.append( energy_score_new(test[:,0].reshape(-1,1), trajs_means.T) )\n",
    "            if debug:\n",
    "                plot_trajectories(trajs_means, warmup, test)\n",
    "                \n",
    "    return errors_es, errors_mse, model_stds, yreal_dev"
   ]
  },
  {
   "cell_type": "code",
   "execution_count": 17,
   "metadata": {
    "scrolled": true
   },
   "outputs": [
    {
     "data": {
      "application/vnd.jupyter.widget-view+json": {
       "model_id": "b1026cbd010548f29183c7a9ad329c1d",
       "version_major": 2,
       "version_minor": 0
      },
      "text/plain": [
       "HBox(children=(FloatProgress(value=0.0, max=20.0), HTML(value='')))"
      ]
     },
     "metadata": {},
     "output_type": "display_data"
    },
    {
     "data": {
      "application/vnd.jupyter.widget-view+json": {
       "model_id": "db68ba2a373141cc8e8cf97d31120216",
       "version_major": 2,
       "version_minor": 0
      },
      "text/plain": [
       "HBox(children=(FloatProgress(value=0.0, description='MCDO Simulation', max=20.0, style=ProgressStyle(descripti…"
      ]
     },
     "metadata": {},
     "output_type": "display_data"
    },
    {
     "name": "stdout",
     "output_type": "stream",
     "text": [
      "\n"
     ]
    },
    {
     "data": {
      "application/vnd.jupyter.widget-view+json": {
       "model_id": "ff61139d46854aad83dd977e3d67eb86",
       "version_major": 2,
       "version_minor": 0
      },
      "text/plain": [
       "HBox(children=(FloatProgress(value=0.0, description='MCDO+ScenarioForecasting', max=20.0, style=ProgressStyle(…"
      ]
     },
     "metadata": {},
     "output_type": "display_data"
    },
    {
     "name": "stdout",
     "output_type": "stream",
     "text": [
      "\n"
     ]
    },
    {
     "data": {
      "application/vnd.jupyter.widget-view+json": {
       "model_id": "767d8e790b25461ab0a856c9b6f712fd",
       "version_major": 2,
       "version_minor": 0
      },
      "text/plain": [
       "HBox(children=(FloatProgress(value=0.0, description='LTS to RV', max=48.0, style=ProgressStyle(description_wid…"
      ]
     },
     "metadata": {},
     "output_type": "display_data"
    },
    {
     "name": "stdout",
     "output_type": "stream",
     "text": [
      "\n"
     ]
    },
    {
     "data": {
      "application/vnd.jupyter.widget-view+json": {
       "model_id": "1953d48e60dc4bad8271020f20386f5c",
       "version_major": 2,
       "version_minor": 0
      },
      "text/plain": [
       "HBox(children=(FloatProgress(value=0.0, description='MCDO Simulation', max=20.0, style=ProgressStyle(descripti…"
      ]
     },
     "metadata": {},
     "output_type": "display_data"
    },
    {
     "name": "stdout",
     "output_type": "stream",
     "text": [
      "\n"
     ]
    },
    {
     "data": {
      "application/vnd.jupyter.widget-view+json": {
       "model_id": "f7539d5852b540c8819f741a0e62d283",
       "version_major": 2,
       "version_minor": 0
      },
      "text/plain": [
       "HBox(children=(FloatProgress(value=0.0, description='MCDO+ScenarioForecasting', max=20.0, style=ProgressStyle(…"
      ]
     },
     "metadata": {},
     "output_type": "display_data"
    },
    {
     "name": "stdout",
     "output_type": "stream",
     "text": [
      "\n"
     ]
    },
    {
     "data": {
      "application/vnd.jupyter.widget-view+json": {
       "model_id": "42faf4a2f139475fa213a8ff431d1992",
       "version_major": 2,
       "version_minor": 0
      },
      "text/plain": [
       "HBox(children=(FloatProgress(value=0.0, description='LTS to RV', max=48.0, style=ProgressStyle(description_wid…"
      ]
     },
     "metadata": {},
     "output_type": "display_data"
    },
    {
     "name": "stdout",
     "output_type": "stream",
     "text": [
      "\n"
     ]
    },
    {
     "data": {
      "application/vnd.jupyter.widget-view+json": {
       "model_id": "0ae213485e58402b8395f47110e153ce",
       "version_major": 2,
       "version_minor": 0
      },
      "text/plain": [
       "HBox(children=(FloatProgress(value=0.0, description='MCDO Simulation', max=20.0, style=ProgressStyle(descripti…"
      ]
     },
     "metadata": {},
     "output_type": "display_data"
    },
    {
     "name": "stdout",
     "output_type": "stream",
     "text": [
      "\n"
     ]
    },
    {
     "data": {
      "application/vnd.jupyter.widget-view+json": {
       "model_id": "904dea317f6343729f0cb44720c16cde",
       "version_major": 2,
       "version_minor": 0
      },
      "text/plain": [
       "HBox(children=(FloatProgress(value=0.0, description='MCDO+ScenarioForecasting', max=20.0, style=ProgressStyle(…"
      ]
     },
     "metadata": {},
     "output_type": "display_data"
    },
    {
     "name": "stdout",
     "output_type": "stream",
     "text": [
      "\n"
     ]
    },
    {
     "data": {
      "application/vnd.jupyter.widget-view+json": {
       "model_id": "1ecfa9ec64eb4ae5b93468c3d39d2680",
       "version_major": 2,
       "version_minor": 0
      },
      "text/plain": [
       "HBox(children=(FloatProgress(value=0.0, description='LTS to RV', max=48.0, style=ProgressStyle(description_wid…"
      ]
     },
     "metadata": {},
     "output_type": "display_data"
    },
    {
     "name": "stdout",
     "output_type": "stream",
     "text": [
      "\n"
     ]
    },
    {
     "data": {
      "application/vnd.jupyter.widget-view+json": {
       "model_id": "53507fb49d7442c18e3eb26dc9339699",
       "version_major": 2,
       "version_minor": 0
      },
      "text/plain": [
       "HBox(children=(FloatProgress(value=0.0, description='MCDO Simulation', max=20.0, style=ProgressStyle(descripti…"
      ]
     },
     "metadata": {},
     "output_type": "display_data"
    },
    {
     "name": "stdout",
     "output_type": "stream",
     "text": [
      "\n"
     ]
    },
    {
     "data": {
      "application/vnd.jupyter.widget-view+json": {
       "model_id": "a3618d40bf614d31882a74b18fd3949f",
       "version_major": 2,
       "version_minor": 0
      },
      "text/plain": [
       "HBox(children=(FloatProgress(value=0.0, description='MCDO+ScenarioForecasting', max=20.0, style=ProgressStyle(…"
      ]
     },
     "metadata": {},
     "output_type": "display_data"
    },
    {
     "name": "stdout",
     "output_type": "stream",
     "text": [
      "\n"
     ]
    },
    {
     "data": {
      "application/vnd.jupyter.widget-view+json": {
       "model_id": "a5b669b97af4498cbdb27d9ff174b13f",
       "version_major": 2,
       "version_minor": 0
      },
      "text/plain": [
       "HBox(children=(FloatProgress(value=0.0, description='LTS to RV', max=48.0, style=ProgressStyle(description_wid…"
      ]
     },
     "metadata": {},
     "output_type": "display_data"
    },
    {
     "name": "stdout",
     "output_type": "stream",
     "text": [
      "\n"
     ]
    },
    {
     "data": {
      "application/vnd.jupyter.widget-view+json": {
       "model_id": "bc2fcdc3926f43cc9545461eafb51350",
       "version_major": 2,
       "version_minor": 0
      },
      "text/plain": [
       "HBox(children=(FloatProgress(value=0.0, description='MCDO Simulation', max=20.0, style=ProgressStyle(descripti…"
      ]
     },
     "metadata": {},
     "output_type": "display_data"
    },
    {
     "name": "stdout",
     "output_type": "stream",
     "text": [
      "\n"
     ]
    },
    {
     "data": {
      "application/vnd.jupyter.widget-view+json": {
       "model_id": "c55c62c34a1a4713b73dff9fd7901ca2",
       "version_major": 2,
       "version_minor": 0
      },
      "text/plain": [
       "HBox(children=(FloatProgress(value=0.0, description='MCDO+ScenarioForecasting', max=20.0, style=ProgressStyle(…"
      ]
     },
     "metadata": {},
     "output_type": "display_data"
    },
    {
     "name": "stdout",
     "output_type": "stream",
     "text": [
      "\n"
     ]
    },
    {
     "data": {
      "application/vnd.jupyter.widget-view+json": {
       "model_id": "cacff695f57e4e4fbfad51c9cafb5d5b",
       "version_major": 2,
       "version_minor": 0
      },
      "text/plain": [
       "HBox(children=(FloatProgress(value=0.0, description='LTS to RV', max=48.0, style=ProgressStyle(description_wid…"
      ]
     },
     "metadata": {},
     "output_type": "display_data"
    },
    {
     "name": "stdout",
     "output_type": "stream",
     "text": [
      "\n"
     ]
    },
    {
     "data": {
      "application/vnd.jupyter.widget-view+json": {
       "model_id": "bf511da3633e4e5fa65e62b53fa63b99",
       "version_major": 2,
       "version_minor": 0
      },
      "text/plain": [
       "HBox(children=(FloatProgress(value=0.0, description='MCDO Simulation', max=20.0, style=ProgressStyle(descripti…"
      ]
     },
     "metadata": {},
     "output_type": "display_data"
    },
    {
     "name": "stdout",
     "output_type": "stream",
     "text": [
      "\n"
     ]
    },
    {
     "data": {
      "application/vnd.jupyter.widget-view+json": {
       "model_id": "8c7ec45ef48848d390f99323da28eeee",
       "version_major": 2,
       "version_minor": 0
      },
      "text/plain": [
       "HBox(children=(FloatProgress(value=0.0, description='MCDO+ScenarioForecasting', max=20.0, style=ProgressStyle(…"
      ]
     },
     "metadata": {},
     "output_type": "display_data"
    },
    {
     "name": "stdout",
     "output_type": "stream",
     "text": [
      "\n"
     ]
    },
    {
     "data": {
      "application/vnd.jupyter.widget-view+json": {
       "model_id": "47b1aea2d7ae4707ae4ffb22c0f74e90",
       "version_major": 2,
       "version_minor": 0
      },
      "text/plain": [
       "HBox(children=(FloatProgress(value=0.0, description='LTS to RV', max=48.0, style=ProgressStyle(description_wid…"
      ]
     },
     "metadata": {},
     "output_type": "display_data"
    },
    {
     "name": "stdout",
     "output_type": "stream",
     "text": [
      "\n"
     ]
    },
    {
     "data": {
      "application/vnd.jupyter.widget-view+json": {
       "model_id": "813447189b934a7bb406824c34ccb1ad",
       "version_major": 2,
       "version_minor": 0
      },
      "text/plain": [
       "HBox(children=(FloatProgress(value=0.0, description='MCDO Simulation', max=20.0, style=ProgressStyle(descripti…"
      ]
     },
     "metadata": {},
     "output_type": "display_data"
    },
    {
     "name": "stdout",
     "output_type": "stream",
     "text": [
      "\n"
     ]
    },
    {
     "data": {
      "application/vnd.jupyter.widget-view+json": {
       "model_id": "fc41f815ed1e4f62a543d49e33c45238",
       "version_major": 2,
       "version_minor": 0
      },
      "text/plain": [
       "HBox(children=(FloatProgress(value=0.0, description='MCDO+ScenarioForecasting', max=20.0, style=ProgressStyle(…"
      ]
     },
     "metadata": {},
     "output_type": "display_data"
    },
    {
     "name": "stdout",
     "output_type": "stream",
     "text": [
      "\n"
     ]
    },
    {
     "data": {
      "application/vnd.jupyter.widget-view+json": {
       "model_id": "1381ab6fccd345dd90661597ffff56ed",
       "version_major": 2,
       "version_minor": 0
      },
      "text/plain": [
       "HBox(children=(FloatProgress(value=0.0, description='LTS to RV', max=48.0, style=ProgressStyle(description_wid…"
      ]
     },
     "metadata": {},
     "output_type": "display_data"
    },
    {
     "name": "stdout",
     "output_type": "stream",
     "text": [
      "\n"
     ]
    },
    {
     "data": {
      "application/vnd.jupyter.widget-view+json": {
       "model_id": "3dae25cafe124170a24ca73877793ff6",
       "version_major": 2,
       "version_minor": 0
      },
      "text/plain": [
       "HBox(children=(FloatProgress(value=0.0, description='MCDO Simulation', max=20.0, style=ProgressStyle(descripti…"
      ]
     },
     "metadata": {},
     "output_type": "display_data"
    },
    {
     "name": "stdout",
     "output_type": "stream",
     "text": [
      "\n"
     ]
    },
    {
     "data": {
      "application/vnd.jupyter.widget-view+json": {
       "model_id": "74ee185535d9455cbaf2a462ebc78cc8",
       "version_major": 2,
       "version_minor": 0
      },
      "text/plain": [
       "HBox(children=(FloatProgress(value=0.0, description='MCDO+ScenarioForecasting', max=20.0, style=ProgressStyle(…"
      ]
     },
     "metadata": {},
     "output_type": "display_data"
    },
    {
     "name": "stdout",
     "output_type": "stream",
     "text": [
      "\n"
     ]
    },
    {
     "data": {
      "application/vnd.jupyter.widget-view+json": {
       "model_id": "e3a3e3c71243420f832243bf40f8f35e",
       "version_major": 2,
       "version_minor": 0
      },
      "text/plain": [
       "HBox(children=(FloatProgress(value=0.0, description='LTS to RV', max=48.0, style=ProgressStyle(description_wid…"
      ]
     },
     "metadata": {},
     "output_type": "display_data"
    },
    {
     "name": "stdout",
     "output_type": "stream",
     "text": [
      "\n"
     ]
    },
    {
     "data": {
      "application/vnd.jupyter.widget-view+json": {
       "model_id": "5c959d81bb2346ee88a37e7297d10f76",
       "version_major": 2,
       "version_minor": 0
      },
      "text/plain": [
       "HBox(children=(FloatProgress(value=0.0, description='MCDO Simulation', max=20.0, style=ProgressStyle(descripti…"
      ]
     },
     "metadata": {},
     "output_type": "display_data"
    },
    {
     "name": "stdout",
     "output_type": "stream",
     "text": [
      "\n"
     ]
    },
    {
     "data": {
      "application/vnd.jupyter.widget-view+json": {
       "model_id": "7174693f0c524c1eaef149062d4886dd",
       "version_major": 2,
       "version_minor": 0
      },
      "text/plain": [
       "HBox(children=(FloatProgress(value=0.0, description='MCDO+ScenarioForecasting', max=20.0, style=ProgressStyle(…"
      ]
     },
     "metadata": {},
     "output_type": "display_data"
    },
    {
     "name": "stdout",
     "output_type": "stream",
     "text": [
      "\n"
     ]
    },
    {
     "data": {
      "application/vnd.jupyter.widget-view+json": {
       "model_id": "04afb4cdec1f41fc87c5c03334455063",
       "version_major": 2,
       "version_minor": 0
      },
      "text/plain": [
       "HBox(children=(FloatProgress(value=0.0, description='LTS to RV', max=48.0, style=ProgressStyle(description_wid…"
      ]
     },
     "metadata": {},
     "output_type": "display_data"
    },
    {
     "name": "stdout",
     "output_type": "stream",
     "text": [
      "\n"
     ]
    },
    {
     "data": {
      "application/vnd.jupyter.widget-view+json": {
       "model_id": "8f21f965f122477bbf7033545dafbd00",
       "version_major": 2,
       "version_minor": 0
      },
      "text/plain": [
       "HBox(children=(FloatProgress(value=0.0, description='MCDO Simulation', max=20.0, style=ProgressStyle(descripti…"
      ]
     },
     "metadata": {},
     "output_type": "display_data"
    },
    {
     "name": "stdout",
     "output_type": "stream",
     "text": [
      "\n"
     ]
    },
    {
     "data": {
      "application/vnd.jupyter.widget-view+json": {
       "model_id": "e3e6789d83a742b0aab585c66458d563",
       "version_major": 2,
       "version_minor": 0
      },
      "text/plain": [
       "HBox(children=(FloatProgress(value=0.0, description='MCDO+ScenarioForecasting', max=20.0, style=ProgressStyle(…"
      ]
     },
     "metadata": {},
     "output_type": "display_data"
    },
    {
     "name": "stdout",
     "output_type": "stream",
     "text": [
      "\n"
     ]
    },
    {
     "data": {
      "application/vnd.jupyter.widget-view+json": {
       "model_id": "30113880022a48edb7986ae3bafbaadd",
       "version_major": 2,
       "version_minor": 0
      },
      "text/plain": [
       "HBox(children=(FloatProgress(value=0.0, description='LTS to RV', max=48.0, style=ProgressStyle(description_wid…"
      ]
     },
     "metadata": {},
     "output_type": "display_data"
    },
    {
     "name": "stdout",
     "output_type": "stream",
     "text": [
      "\n"
     ]
    },
    {
     "data": {
      "application/vnd.jupyter.widget-view+json": {
       "model_id": "976141fe6fbc4236a88857989a6b2e63",
       "version_major": 2,
       "version_minor": 0
      },
      "text/plain": [
       "HBox(children=(FloatProgress(value=0.0, description='MCDO Simulation', max=20.0, style=ProgressStyle(descripti…"
      ]
     },
     "metadata": {},
     "output_type": "display_data"
    },
    {
     "name": "stdout",
     "output_type": "stream",
     "text": [
      "\n"
     ]
    },
    {
     "data": {
      "application/vnd.jupyter.widget-view+json": {
       "model_id": "4216939dab9342a09cc3759f4debe0a5",
       "version_major": 2,
       "version_minor": 0
      },
      "text/plain": [
       "HBox(children=(FloatProgress(value=0.0, description='MCDO+ScenarioForecasting', max=20.0, style=ProgressStyle(…"
      ]
     },
     "metadata": {},
     "output_type": "display_data"
    },
    {
     "name": "stdout",
     "output_type": "stream",
     "text": [
      "\n"
     ]
    },
    {
     "data": {
      "application/vnd.jupyter.widget-view+json": {
       "model_id": "d20206df9dc843439405e0a5f664ac35",
       "version_major": 2,
       "version_minor": 0
      },
      "text/plain": [
       "HBox(children=(FloatProgress(value=0.0, description='LTS to RV', max=48.0, style=ProgressStyle(description_wid…"
      ]
     },
     "metadata": {},
     "output_type": "display_data"
    },
    {
     "name": "stdout",
     "output_type": "stream",
     "text": [
      "\n"
     ]
    },
    {
     "data": {
      "application/vnd.jupyter.widget-view+json": {
       "model_id": "5f9f5a5012f2418d967c0a3e817e83af",
       "version_major": 2,
       "version_minor": 0
      },
      "text/plain": [
       "HBox(children=(FloatProgress(value=0.0, description='MCDO Simulation', max=20.0, style=ProgressStyle(descripti…"
      ]
     },
     "metadata": {},
     "output_type": "display_data"
    },
    {
     "name": "stdout",
     "output_type": "stream",
     "text": [
      "\n"
     ]
    },
    {
     "data": {
      "application/vnd.jupyter.widget-view+json": {
       "model_id": "80449628621c460580b450ef20b0ef2a",
       "version_major": 2,
       "version_minor": 0
      },
      "text/plain": [
       "HBox(children=(FloatProgress(value=0.0, description='MCDO+ScenarioForecasting', max=20.0, style=ProgressStyle(…"
      ]
     },
     "metadata": {},
     "output_type": "display_data"
    },
    {
     "name": "stdout",
     "output_type": "stream",
     "text": [
      "\n"
     ]
    },
    {
     "data": {
      "application/vnd.jupyter.widget-view+json": {
       "model_id": "bb8e58a25afc43718ad3e64103c251da",
       "version_major": 2,
       "version_minor": 0
      },
      "text/plain": [
       "HBox(children=(FloatProgress(value=0.0, description='LTS to RV', max=48.0, style=ProgressStyle(description_wid…"
      ]
     },
     "metadata": {},
     "output_type": "display_data"
    },
    {
     "name": "stdout",
     "output_type": "stream",
     "text": [
      "\n"
     ]
    },
    {
     "data": {
      "application/vnd.jupyter.widget-view+json": {
       "model_id": "6a8af5e5e2f84b639ff1d3bfa84aef8b",
       "version_major": 2,
       "version_minor": 0
      },
      "text/plain": [
       "HBox(children=(FloatProgress(value=0.0, description='MCDO Simulation', max=20.0, style=ProgressStyle(descripti…"
      ]
     },
     "metadata": {},
     "output_type": "display_data"
    },
    {
     "name": "stdout",
     "output_type": "stream",
     "text": [
      "\n"
     ]
    },
    {
     "data": {
      "application/vnd.jupyter.widget-view+json": {
       "model_id": "b098504e3183489aa0cf378c3d6dc54e",
       "version_major": 2,
       "version_minor": 0
      },
      "text/plain": [
       "HBox(children=(FloatProgress(value=0.0, description='MCDO+ScenarioForecasting', max=20.0, style=ProgressStyle(…"
      ]
     },
     "metadata": {},
     "output_type": "display_data"
    },
    {
     "name": "stdout",
     "output_type": "stream",
     "text": [
      "\n"
     ]
    },
    {
     "data": {
      "application/vnd.jupyter.widget-view+json": {
       "model_id": "f5dbc4b8f9284608a3986372f0c852d0",
       "version_major": 2,
       "version_minor": 0
      },
      "text/plain": [
       "HBox(children=(FloatProgress(value=0.0, description='LTS to RV', max=48.0, style=ProgressStyle(description_wid…"
      ]
     },
     "metadata": {},
     "output_type": "display_data"
    },
    {
     "name": "stdout",
     "output_type": "stream",
     "text": [
      "\n"
     ]
    },
    {
     "data": {
      "application/vnd.jupyter.widget-view+json": {
       "model_id": "6fd1eb3bfbd94a59b1bf3442b05b7c7f",
       "version_major": 2,
       "version_minor": 0
      },
      "text/plain": [
       "HBox(children=(FloatProgress(value=0.0, description='MCDO Simulation', max=20.0, style=ProgressStyle(descripti…"
      ]
     },
     "metadata": {},
     "output_type": "display_data"
    },
    {
     "name": "stdout",
     "output_type": "stream",
     "text": [
      "\n"
     ]
    },
    {
     "data": {
      "application/vnd.jupyter.widget-view+json": {
       "model_id": "099ee38d03434029a4bfa61f05f465e9",
       "version_major": 2,
       "version_minor": 0
      },
      "text/plain": [
       "HBox(children=(FloatProgress(value=0.0, description='MCDO+ScenarioForecasting', max=20.0, style=ProgressStyle(…"
      ]
     },
     "metadata": {},
     "output_type": "display_data"
    },
    {
     "name": "stdout",
     "output_type": "stream",
     "text": [
      "\n"
     ]
    },
    {
     "data": {
      "application/vnd.jupyter.widget-view+json": {
       "model_id": "06ab8c2e47cb473fab141c61bf52ceb9",
       "version_major": 2,
       "version_minor": 0
      },
      "text/plain": [
       "HBox(children=(FloatProgress(value=0.0, description='LTS to RV', max=48.0, style=ProgressStyle(description_wid…"
      ]
     },
     "metadata": {},
     "output_type": "display_data"
    },
    {
     "name": "stdout",
     "output_type": "stream",
     "text": [
      "\n"
     ]
    },
    {
     "data": {
      "application/vnd.jupyter.widget-view+json": {
       "model_id": "07002c1b25eb4daca89addb32b7e4257",
       "version_major": 2,
       "version_minor": 0
      },
      "text/plain": [
       "HBox(children=(FloatProgress(value=0.0, description='MCDO Simulation', max=20.0, style=ProgressStyle(descripti…"
      ]
     },
     "metadata": {},
     "output_type": "display_data"
    },
    {
     "name": "stdout",
     "output_type": "stream",
     "text": [
      "\n"
     ]
    },
    {
     "data": {
      "application/vnd.jupyter.widget-view+json": {
       "model_id": "4d0037879f5948a5a2ba6b0ea47c6221",
       "version_major": 2,
       "version_minor": 0
      },
      "text/plain": [
       "HBox(children=(FloatProgress(value=0.0, description='MCDO+ScenarioForecasting', max=20.0, style=ProgressStyle(…"
      ]
     },
     "metadata": {},
     "output_type": "display_data"
    },
    {
     "name": "stdout",
     "output_type": "stream",
     "text": [
      "\n"
     ]
    },
    {
     "data": {
      "application/vnd.jupyter.widget-view+json": {
       "model_id": "9c72a124c41445d7bd7b2124ba86672c",
       "version_major": 2,
       "version_minor": 0
      },
      "text/plain": [
       "HBox(children=(FloatProgress(value=0.0, description='LTS to RV', max=48.0, style=ProgressStyle(description_wid…"
      ]
     },
     "metadata": {},
     "output_type": "display_data"
    },
    {
     "name": "stdout",
     "output_type": "stream",
     "text": [
      "\n"
     ]
    },
    {
     "data": {
      "application/vnd.jupyter.widget-view+json": {
       "model_id": "75c168c9f4e24d01bba466a5a1888f14",
       "version_major": 2,
       "version_minor": 0
      },
      "text/plain": [
       "HBox(children=(FloatProgress(value=0.0, description='MCDO Simulation', max=20.0, style=ProgressStyle(descripti…"
      ]
     },
     "metadata": {},
     "output_type": "display_data"
    },
    {
     "name": "stdout",
     "output_type": "stream",
     "text": [
      "\n"
     ]
    },
    {
     "data": {
      "application/vnd.jupyter.widget-view+json": {
       "model_id": "58457d3383904c069dadc594a25b3fe9",
       "version_major": 2,
       "version_minor": 0
      },
      "text/plain": [
       "HBox(children=(FloatProgress(value=0.0, description='MCDO+ScenarioForecasting', max=20.0, style=ProgressStyle(…"
      ]
     },
     "metadata": {},
     "output_type": "display_data"
    },
    {
     "name": "stdout",
     "output_type": "stream",
     "text": [
      "\n"
     ]
    },
    {
     "data": {
      "application/vnd.jupyter.widget-view+json": {
       "model_id": "67347c67b1d2401ca8c2d6e8926dbb8a",
       "version_major": 2,
       "version_minor": 0
      },
      "text/plain": [
       "HBox(children=(FloatProgress(value=0.0, description='LTS to RV', max=48.0, style=ProgressStyle(description_wid…"
      ]
     },
     "metadata": {},
     "output_type": "display_data"
    },
    {
     "name": "stdout",
     "output_type": "stream",
     "text": [
      "\n"
     ]
    },
    {
     "data": {
      "application/vnd.jupyter.widget-view+json": {
       "model_id": "f628f97d4ee34668819a7bbf7dec787e",
       "version_major": 2,
       "version_minor": 0
      },
      "text/plain": [
       "HBox(children=(FloatProgress(value=0.0, description='MCDO Simulation', max=20.0, style=ProgressStyle(descripti…"
      ]
     },
     "metadata": {},
     "output_type": "display_data"
    },
    {
     "name": "stdout",
     "output_type": "stream",
     "text": [
      "\n"
     ]
    },
    {
     "data": {
      "application/vnd.jupyter.widget-view+json": {
       "model_id": "be90c6d72b17486d967ca54d234ccdb8",
       "version_major": 2,
       "version_minor": 0
      },
      "text/plain": [
       "HBox(children=(FloatProgress(value=0.0, description='MCDO+ScenarioForecasting', max=20.0, style=ProgressStyle(…"
      ]
     },
     "metadata": {},
     "output_type": "display_data"
    },
    {
     "name": "stdout",
     "output_type": "stream",
     "text": [
      "\n"
     ]
    },
    {
     "data": {
      "application/vnd.jupyter.widget-view+json": {
       "model_id": "beaf340403f74ee59d13fd005a2331b8",
       "version_major": 2,
       "version_minor": 0
      },
      "text/plain": [
       "HBox(children=(FloatProgress(value=0.0, description='LTS to RV', max=48.0, style=ProgressStyle(description_wid…"
      ]
     },
     "metadata": {},
     "output_type": "display_data"
    },
    {
     "name": "stdout",
     "output_type": "stream",
     "text": [
      "\n"
     ]
    },
    {
     "data": {
      "application/vnd.jupyter.widget-view+json": {
       "model_id": "59ee9375d5ec40d49b5bcba954595bb1",
       "version_major": 2,
       "version_minor": 0
      },
      "text/plain": [
       "HBox(children=(FloatProgress(value=0.0, description='MCDO Simulation', max=20.0, style=ProgressStyle(descripti…"
      ]
     },
     "metadata": {},
     "output_type": "display_data"
    },
    {
     "name": "stdout",
     "output_type": "stream",
     "text": [
      "\n"
     ]
    },
    {
     "data": {
      "application/vnd.jupyter.widget-view+json": {
       "model_id": "59f582be3c8644c8bf05d48a289084b5",
       "version_major": 2,
       "version_minor": 0
      },
      "text/plain": [
       "HBox(children=(FloatProgress(value=0.0, description='MCDO+ScenarioForecasting', max=20.0, style=ProgressStyle(…"
      ]
     },
     "metadata": {},
     "output_type": "display_data"
    },
    {
     "name": "stdout",
     "output_type": "stream",
     "text": [
      "\n"
     ]
    },
    {
     "data": {
      "application/vnd.jupyter.widget-view+json": {
       "model_id": "0a82c326b5bd4a869fe82bdb8c431a0c",
       "version_major": 2,
       "version_minor": 0
      },
      "text/plain": [
       "HBox(children=(FloatProgress(value=0.0, description='LTS to RV', max=48.0, style=ProgressStyle(description_wid…"
      ]
     },
     "metadata": {},
     "output_type": "display_data"
    },
    {
     "name": "stdout",
     "output_type": "stream",
     "text": [
      "\n"
     ]
    },
    {
     "data": {
      "application/vnd.jupyter.widget-view+json": {
       "model_id": "736eeb049cf44aeaa3ac18cf8a346150",
       "version_major": 2,
       "version_minor": 0
      },
      "text/plain": [
       "HBox(children=(FloatProgress(value=0.0, description='MCDO Simulation', max=20.0, style=ProgressStyle(descripti…"
      ]
     },
     "metadata": {},
     "output_type": "display_data"
    },
    {
     "name": "stdout",
     "output_type": "stream",
     "text": [
      "\n"
     ]
    },
    {
     "data": {
      "application/vnd.jupyter.widget-view+json": {
       "model_id": "85805bc22401479385414a079e60286b",
       "version_major": 2,
       "version_minor": 0
      },
      "text/plain": [
       "HBox(children=(FloatProgress(value=0.0, description='MCDO+ScenarioForecasting', max=20.0, style=ProgressStyle(…"
      ]
     },
     "metadata": {},
     "output_type": "display_data"
    },
    {
     "name": "stdout",
     "output_type": "stream",
     "text": [
      "\n"
     ]
    },
    {
     "data": {
      "application/vnd.jupyter.widget-view+json": {
       "model_id": "1a3c71631c4a4ab3ab9899812457428b",
       "version_major": 2,
       "version_minor": 0
      },
      "text/plain": [
       "HBox(children=(FloatProgress(value=0.0, description='LTS to RV', max=48.0, style=ProgressStyle(description_wid…"
      ]
     },
     "metadata": {},
     "output_type": "display_data"
    },
    {
     "name": "stdout",
     "output_type": "stream",
     "text": [
      "\n"
     ]
    },
    {
     "data": {
      "application/vnd.jupyter.widget-view+json": {
       "model_id": "dfcaeef0fb134cde96f68e441441ceca",
       "version_major": 2,
       "version_minor": 0
      },
      "text/plain": [
       "HBox(children=(FloatProgress(value=0.0, description='MCDO Simulation', max=20.0, style=ProgressStyle(descripti…"
      ]
     },
     "metadata": {},
     "output_type": "display_data"
    },
    {
     "name": "stdout",
     "output_type": "stream",
     "text": [
      "\n"
     ]
    },
    {
     "data": {
      "application/vnd.jupyter.widget-view+json": {
       "model_id": "8a81b2bc17f14e2bb3c7dc9f92d2e069",
       "version_major": 2,
       "version_minor": 0
      },
      "text/plain": [
       "HBox(children=(FloatProgress(value=0.0, description='MCDO+ScenarioForecasting', max=20.0, style=ProgressStyle(…"
      ]
     },
     "metadata": {},
     "output_type": "display_data"
    },
    {
     "name": "stdout",
     "output_type": "stream",
     "text": [
      "\n"
     ]
    },
    {
     "data": {
      "application/vnd.jupyter.widget-view+json": {
       "model_id": "813ec7d44260448f9747ee776d3b3fe2",
       "version_major": 2,
       "version_minor": 0
      },
      "text/plain": [
       "HBox(children=(FloatProgress(value=0.0, description='LTS to RV', max=48.0, style=ProgressStyle(description_wid…"
      ]
     },
     "metadata": {},
     "output_type": "display_data"
    },
    {
     "name": "stdout",
     "output_type": "stream",
     "text": [
      "\n"
     ]
    },
    {
     "data": {
      "application/vnd.jupyter.widget-view+json": {
       "model_id": "0a925d62e7e440c3bbb95f82ca5af6e8",
       "version_major": 2,
       "version_minor": 0
      },
      "text/plain": [
       "HBox(children=(FloatProgress(value=0.0, description='MCDO Simulation', max=20.0, style=ProgressStyle(descripti…"
      ]
     },
     "metadata": {},
     "output_type": "display_data"
    },
    {
     "name": "stdout",
     "output_type": "stream",
     "text": [
      "\n"
     ]
    },
    {
     "data": {
      "application/vnd.jupyter.widget-view+json": {
       "model_id": "68b83fbd4f5045028caf9c8480e6577c",
       "version_major": 2,
       "version_minor": 0
      },
      "text/plain": [
       "HBox(children=(FloatProgress(value=0.0, description='MCDO+ScenarioForecasting', max=20.0, style=ProgressStyle(…"
      ]
     },
     "metadata": {},
     "output_type": "display_data"
    },
    {
     "name": "stdout",
     "output_type": "stream",
     "text": [
      "\n"
     ]
    },
    {
     "data": {
      "application/vnd.jupyter.widget-view+json": {
       "model_id": "17594944803540bc9388f3d4e0dbcf0b",
       "version_major": 2,
       "version_minor": 0
      },
      "text/plain": [
       "HBox(children=(FloatProgress(value=0.0, description='LTS to RV', max=48.0, style=ProgressStyle(description_wid…"
      ]
     },
     "metadata": {},
     "output_type": "display_data"
    },
    {
     "name": "stdout",
     "output_type": "stream",
     "text": [
      "\n"
     ]
    },
    {
     "data": {
      "application/vnd.jupyter.widget-view+json": {
       "model_id": "3fd9d75662a84248b0e0e421494dfaaf",
       "version_major": 2,
       "version_minor": 0
      },
      "text/plain": [
       "HBox(children=(FloatProgress(value=0.0, description='MCDO Simulation', max=20.0, style=ProgressStyle(descripti…"
      ]
     },
     "metadata": {},
     "output_type": "display_data"
    },
    {
     "name": "stdout",
     "output_type": "stream",
     "text": [
      "\n"
     ]
    },
    {
     "data": {
      "application/vnd.jupyter.widget-view+json": {
       "model_id": "6e590c39df6244a7ac105e3f56238713",
       "version_major": 2,
       "version_minor": 0
      },
      "text/plain": [
       "HBox(children=(FloatProgress(value=0.0, description='MCDO+ScenarioForecasting', max=20.0, style=ProgressStyle(…"
      ]
     },
     "metadata": {},
     "output_type": "display_data"
    },
    {
     "name": "stdout",
     "output_type": "stream",
     "text": [
      "\n"
     ]
    },
    {
     "data": {
      "application/vnd.jupyter.widget-view+json": {
       "model_id": "4874fb115d7f411d9e6e3dd0de41806f",
       "version_major": 2,
       "version_minor": 0
      },
      "text/plain": [
       "HBox(children=(FloatProgress(value=0.0, description='LTS to RV', max=48.0, style=ProgressStyle(description_wid…"
      ]
     },
     "metadata": {},
     "output_type": "display_data"
    },
    {
     "name": "stdout",
     "output_type": "stream",
     "text": [
      "\n"
     ]
    },
    {
     "data": {
      "application/vnd.jupyter.widget-view+json": {
       "model_id": "ab91bddbf21c481bbc3b569a366cf756",
       "version_major": 2,
       "version_minor": 0
      },
      "text/plain": [
       "HBox(children=(FloatProgress(value=0.0, description='MCDO Simulation', max=20.0, style=ProgressStyle(descripti…"
      ]
     },
     "metadata": {},
     "output_type": "display_data"
    },
    {
     "name": "stdout",
     "output_type": "stream",
     "text": [
      "\n"
     ]
    },
    {
     "data": {
      "application/vnd.jupyter.widget-view+json": {
       "model_id": "9fdf712a45cd40dca5d1cacecc1505ae",
       "version_major": 2,
       "version_minor": 0
      },
      "text/plain": [
       "HBox(children=(FloatProgress(value=0.0, description='MCDO+ScenarioForecasting', max=20.0, style=ProgressStyle(…"
      ]
     },
     "metadata": {},
     "output_type": "display_data"
    },
    {
     "name": "stdout",
     "output_type": "stream",
     "text": [
      "\n"
     ]
    },
    {
     "data": {
      "application/vnd.jupyter.widget-view+json": {
       "model_id": "36fb38f8cc5e40329a5324131c87902c",
       "version_major": 2,
       "version_minor": 0
      },
      "text/plain": [
       "HBox(children=(FloatProgress(value=0.0, description='LTS to RV', max=48.0, style=ProgressStyle(description_wid…"
      ]
     },
     "metadata": {},
     "output_type": "display_data"
    },
    {
     "name": "stdout",
     "output_type": "stream",
     "text": [
      "\n"
     ]
    },
    {
     "data": {
      "application/vnd.jupyter.widget-view+json": {
       "model_id": "a0c9e759d468402184c4c2362b63b92e",
       "version_major": 2,
       "version_minor": 0
      },
      "text/plain": [
       "HBox(children=(FloatProgress(value=0.0, description='MCDO Simulation', max=20.0, style=ProgressStyle(descripti…"
      ]
     },
     "metadata": {},
     "output_type": "display_data"
    },
    {
     "name": "stdout",
     "output_type": "stream",
     "text": [
      "\n"
     ]
    },
    {
     "data": {
      "application/vnd.jupyter.widget-view+json": {
       "model_id": "672a176525b0464ebbb0a483157fe730",
       "version_major": 2,
       "version_minor": 0
      },
      "text/plain": [
       "HBox(children=(FloatProgress(value=0.0, description='MCDO+ScenarioForecasting', max=20.0, style=ProgressStyle(…"
      ]
     },
     "metadata": {},
     "output_type": "display_data"
    },
    {
     "name": "stdout",
     "output_type": "stream",
     "text": [
      "\n"
     ]
    },
    {
     "data": {
      "application/vnd.jupyter.widget-view+json": {
       "model_id": "7d489a228244410e8b9d87ee5a58690d",
       "version_major": 2,
       "version_minor": 0
      },
      "text/plain": [
       "HBox(children=(FloatProgress(value=0.0, description='LTS to RV', max=48.0, style=ProgressStyle(description_wid…"
      ]
     },
     "metadata": {},
     "output_type": "display_data"
    },
    {
     "name": "stdout",
     "output_type": "stream",
     "text": [
      "\n"
     ]
    },
    {
     "data": {
      "application/vnd.jupyter.widget-view+json": {
       "model_id": "e5d998ddc3a049248786aeb2c8d8b7cc",
       "version_major": 2,
       "version_minor": 0
      },
      "text/plain": [
       "HBox(children=(FloatProgress(value=0.0, description='MCDO Simulation', max=20.0, style=ProgressStyle(descripti…"
      ]
     },
     "metadata": {},
     "output_type": "display_data"
    },
    {
     "name": "stdout",
     "output_type": "stream",
     "text": [
      "\n"
     ]
    },
    {
     "data": {
      "application/vnd.jupyter.widget-view+json": {
       "model_id": "9843c749e1de48f8b2b448979677aec5",
       "version_major": 2,
       "version_minor": 0
      },
      "text/plain": [
       "HBox(children=(FloatProgress(value=0.0, description='MCDO+ScenarioForecasting', max=20.0, style=ProgressStyle(…"
      ]
     },
     "metadata": {},
     "output_type": "display_data"
    },
    {
     "name": "stdout",
     "output_type": "stream",
     "text": [
      "\n"
     ]
    },
    {
     "data": {
      "application/vnd.jupyter.widget-view+json": {
       "model_id": "9139df4166b8466e9d8cdbc0f7e7228d",
       "version_major": 2,
       "version_minor": 0
      },
      "text/plain": [
       "HBox(children=(FloatProgress(value=0.0, description='LTS to RV', max=48.0, style=ProgressStyle(description_wid…"
      ]
     },
     "metadata": {},
     "output_type": "display_data"
    },
    {
     "name": "stdout",
     "output_type": "stream",
     "text": [
      "\n"
     ]
    },
    {
     "data": {
      "application/vnd.jupyter.widget-view+json": {
       "model_id": "5a0ac320e19749a48fc7898048d012ad",
       "version_major": 2,
       "version_minor": 0
      },
      "text/plain": [
       "HBox(children=(FloatProgress(value=0.0, description='MCDO Simulation', max=20.0, style=ProgressStyle(descripti…"
      ]
     },
     "metadata": {},
     "output_type": "display_data"
    },
    {
     "name": "stdout",
     "output_type": "stream",
     "text": [
      "\n"
     ]
    },
    {
     "data": {
      "application/vnd.jupyter.widget-view+json": {
       "model_id": "114a60fac53a4ed481cb06f20877e621",
       "version_major": 2,
       "version_minor": 0
      },
      "text/plain": [
       "HBox(children=(FloatProgress(value=0.0, description='MCDO+ScenarioForecasting', max=20.0, style=ProgressStyle(…"
      ]
     },
     "metadata": {},
     "output_type": "display_data"
    },
    {
     "name": "stdout",
     "output_type": "stream",
     "text": [
      "\n"
     ]
    },
    {
     "data": {
      "application/vnd.jupyter.widget-view+json": {
       "model_id": "dc69853864164a2db9c5c1fbd9ce4340",
       "version_major": 2,
       "version_minor": 0
      },
      "text/plain": [
       "HBox(children=(FloatProgress(value=0.0, description='LTS to RV', max=48.0, style=ProgressStyle(description_wid…"
      ]
     },
     "metadata": {},
     "output_type": "display_data"
    },
    {
     "name": "stdout",
     "output_type": "stream",
     "text": [
      "\n"
     ]
    },
    {
     "data": {
      "application/vnd.jupyter.widget-view+json": {
       "model_id": "e8551af1fccb44348750a3d1c85f4a45",
       "version_major": 2,
       "version_minor": 0
      },
      "text/plain": [
       "HBox(children=(FloatProgress(value=0.0, description='MCDO Simulation', max=20.0, style=ProgressStyle(descripti…"
      ]
     },
     "metadata": {},
     "output_type": "display_data"
    },
    {
     "name": "stdout",
     "output_type": "stream",
     "text": [
      "\n"
     ]
    },
    {
     "data": {
      "application/vnd.jupyter.widget-view+json": {
       "model_id": "25bc316a15bb4d0aa2c0f04e0262cd4e",
       "version_major": 2,
       "version_minor": 0
      },
      "text/plain": [
       "HBox(children=(FloatProgress(value=0.0, description='MCDO+ScenarioForecasting', max=20.0, style=ProgressStyle(…"
      ]
     },
     "metadata": {},
     "output_type": "display_data"
    },
    {
     "name": "stdout",
     "output_type": "stream",
     "text": [
      "\n"
     ]
    },
    {
     "data": {
      "application/vnd.jupyter.widget-view+json": {
       "model_id": "d0e12a0626764ce9a3b12eab33afb9e1",
       "version_major": 2,
       "version_minor": 0
      },
      "text/plain": [
       "HBox(children=(FloatProgress(value=0.0, description='LTS to RV', max=48.0, style=ProgressStyle(description_wid…"
      ]
     },
     "metadata": {},
     "output_type": "display_data"
    },
    {
     "name": "stdout",
     "output_type": "stream",
     "text": [
      "\n"
     ]
    },
    {
     "data": {
      "application/vnd.jupyter.widget-view+json": {
       "model_id": "4979c834b5e34e00b72470ec07d2e051",
       "version_major": 2,
       "version_minor": 0
      },
      "text/plain": [
       "HBox(children=(FloatProgress(value=0.0, description='MCDO Simulation', max=20.0, style=ProgressStyle(descripti…"
      ]
     },
     "metadata": {},
     "output_type": "display_data"
    },
    {
     "name": "stdout",
     "output_type": "stream",
     "text": [
      "\n"
     ]
    },
    {
     "data": {
      "application/vnd.jupyter.widget-view+json": {
       "model_id": "c19bcd1c6d574eafac21cf4c4a41c087",
       "version_major": 2,
       "version_minor": 0
      },
      "text/plain": [
       "HBox(children=(FloatProgress(value=0.0, description='MCDO+ScenarioForecasting', max=20.0, style=ProgressStyle(…"
      ]
     },
     "metadata": {},
     "output_type": "display_data"
    },
    {
     "name": "stdout",
     "output_type": "stream",
     "text": [
      "\n"
     ]
    },
    {
     "data": {
      "application/vnd.jupyter.widget-view+json": {
       "model_id": "aedd7bb3711e4eb9bbd8dca0679b9d3c",
       "version_major": 2,
       "version_minor": 0
      },
      "text/plain": [
       "HBox(children=(FloatProgress(value=0.0, description='LTS to RV', max=48.0, style=ProgressStyle(description_wid…"
      ]
     },
     "metadata": {},
     "output_type": "display_data"
    },
    {
     "name": "stdout",
     "output_type": "stream",
     "text": [
      "\n"
     ]
    },
    {
     "data": {
      "application/vnd.jupyter.widget-view+json": {
       "model_id": "bf5a3624cac5427f9b983e1c2d83cd6e",
       "version_major": 2,
       "version_minor": 0
      },
      "text/plain": [
       "HBox(children=(FloatProgress(value=0.0, description='MCDO Simulation', max=20.0, style=ProgressStyle(descripti…"
      ]
     },
     "metadata": {},
     "output_type": "display_data"
    },
    {
     "name": "stdout",
     "output_type": "stream",
     "text": [
      "\n"
     ]
    },
    {
     "data": {
      "application/vnd.jupyter.widget-view+json": {
       "model_id": "48d48bc5c98a4d758e4e4fe4217bd1f0",
       "version_major": 2,
       "version_minor": 0
      },
      "text/plain": [
       "HBox(children=(FloatProgress(value=0.0, description='MCDO+ScenarioForecasting', max=20.0, style=ProgressStyle(…"
      ]
     },
     "metadata": {},
     "output_type": "display_data"
    },
    {
     "name": "stdout",
     "output_type": "stream",
     "text": [
      "\n"
     ]
    },
    {
     "data": {
      "application/vnd.jupyter.widget-view+json": {
       "model_id": "aa526db6e0a141d8aff6a4d573c8716c",
       "version_major": 2,
       "version_minor": 0
      },
      "text/plain": [
       "HBox(children=(FloatProgress(value=0.0, description='LTS to RV', max=48.0, style=ProgressStyle(description_wid…"
      ]
     },
     "metadata": {},
     "output_type": "display_data"
    },
    {
     "name": "stdout",
     "output_type": "stream",
     "text": [
      "\n"
     ]
    },
    {
     "data": {
      "application/vnd.jupyter.widget-view+json": {
       "model_id": "1b196024b444479bb0af468a84bf6685",
       "version_major": 2,
       "version_minor": 0
      },
      "text/plain": [
       "HBox(children=(FloatProgress(value=0.0, description='MCDO Simulation', max=20.0, style=ProgressStyle(descripti…"
      ]
     },
     "metadata": {},
     "output_type": "display_data"
    },
    {
     "name": "stdout",
     "output_type": "stream",
     "text": [
      "\n"
     ]
    },
    {
     "data": {
      "application/vnd.jupyter.widget-view+json": {
       "model_id": "d104a997e9bb41d2b415853e9570f3fe",
       "version_major": 2,
       "version_minor": 0
      },
      "text/plain": [
       "HBox(children=(FloatProgress(value=0.0, description='MCDO+ScenarioForecasting', max=20.0, style=ProgressStyle(…"
      ]
     },
     "metadata": {},
     "output_type": "display_data"
    },
    {
     "name": "stdout",
     "output_type": "stream",
     "text": [
      "\n"
     ]
    },
    {
     "data": {
      "application/vnd.jupyter.widget-view+json": {
       "model_id": "f75b3647ad7544f88f09dea96270fb0f",
       "version_major": 2,
       "version_minor": 0
      },
      "text/plain": [
       "HBox(children=(FloatProgress(value=0.0, description='LTS to RV', max=48.0, style=ProgressStyle(description_wid…"
      ]
     },
     "metadata": {},
     "output_type": "display_data"
    },
    {
     "name": "stdout",
     "output_type": "stream",
     "text": [
      "\n"
     ]
    },
    {
     "data": {
      "application/vnd.jupyter.widget-view+json": {
       "model_id": "f50f114c54a44b309eeb6ed2dce0e4d5",
       "version_major": 2,
       "version_minor": 0
      },
      "text/plain": [
       "HBox(children=(FloatProgress(value=0.0, description='MCDO Simulation', max=20.0, style=ProgressStyle(descripti…"
      ]
     },
     "metadata": {},
     "output_type": "display_data"
    },
    {
     "name": "stdout",
     "output_type": "stream",
     "text": [
      "\n"
     ]
    },
    {
     "data": {
      "application/vnd.jupyter.widget-view+json": {
       "model_id": "a75e46ff87f243c5a950185cf4a7c131",
       "version_major": 2,
       "version_minor": 0
      },
      "text/plain": [
       "HBox(children=(FloatProgress(value=0.0, description='MCDO+ScenarioForecasting', max=20.0, style=ProgressStyle(…"
      ]
     },
     "metadata": {},
     "output_type": "display_data"
    },
    {
     "name": "stdout",
     "output_type": "stream",
     "text": [
      "\n"
     ]
    },
    {
     "data": {
      "application/vnd.jupyter.widget-view+json": {
       "model_id": "8a08643b72294b068c5b8d998afc0ca6",
       "version_major": 2,
       "version_minor": 0
      },
      "text/plain": [
       "HBox(children=(FloatProgress(value=0.0, description='LTS to RV', max=48.0, style=ProgressStyle(description_wid…"
      ]
     },
     "metadata": {},
     "output_type": "display_data"
    },
    {
     "name": "stdout",
     "output_type": "stream",
     "text": [
      "\n"
     ]
    },
    {
     "data": {
      "application/vnd.jupyter.widget-view+json": {
       "model_id": "affac49318e04cbebb9568fa61aa6b9d",
       "version_major": 2,
       "version_minor": 0
      },
      "text/plain": [
       "HBox(children=(FloatProgress(value=0.0, description='MCDO Simulation', max=20.0, style=ProgressStyle(descripti…"
      ]
     },
     "metadata": {},
     "output_type": "display_data"
    },
    {
     "name": "stdout",
     "output_type": "stream",
     "text": [
      "\n"
     ]
    },
    {
     "data": {
      "application/vnd.jupyter.widget-view+json": {
       "model_id": "1747f26c5c804ec49231365a4821868d",
       "version_major": 2,
       "version_minor": 0
      },
      "text/plain": [
       "HBox(children=(FloatProgress(value=0.0, description='MCDO+ScenarioForecasting', max=20.0, style=ProgressStyle(…"
      ]
     },
     "metadata": {},
     "output_type": "display_data"
    },
    {
     "name": "stdout",
     "output_type": "stream",
     "text": [
      "\n"
     ]
    },
    {
     "data": {
      "application/vnd.jupyter.widget-view+json": {
       "model_id": "d3e6d1a05f9d49829b20e8d9471bb8a3",
       "version_major": 2,
       "version_minor": 0
      },
      "text/plain": [
       "HBox(children=(FloatProgress(value=0.0, description='LTS to RV', max=48.0, style=ProgressStyle(description_wid…"
      ]
     },
     "metadata": {},
     "output_type": "display_data"
    },
    {
     "name": "stdout",
     "output_type": "stream",
     "text": [
      "\n"
     ]
    },
    {
     "data": {
      "application/vnd.jupyter.widget-view+json": {
       "model_id": "5b8d21c567754eb2849c75ea96968b24",
       "version_major": 2,
       "version_minor": 0
      },
      "text/plain": [
       "HBox(children=(FloatProgress(value=0.0, description='MCDO Simulation', max=20.0, style=ProgressStyle(descripti…"
      ]
     },
     "metadata": {},
     "output_type": "display_data"
    },
    {
     "name": "stdout",
     "output_type": "stream",
     "text": [
      "\n"
     ]
    },
    {
     "data": {
      "application/vnd.jupyter.widget-view+json": {
       "model_id": "b744a11dbf5b40738931e5c8d0e422da",
       "version_major": 2,
       "version_minor": 0
      },
      "text/plain": [
       "HBox(children=(FloatProgress(value=0.0, description='MCDO+ScenarioForecasting', max=20.0, style=ProgressStyle(…"
      ]
     },
     "metadata": {},
     "output_type": "display_data"
    },
    {
     "name": "stdout",
     "output_type": "stream",
     "text": [
      "\n"
     ]
    },
    {
     "data": {
      "application/vnd.jupyter.widget-view+json": {
       "model_id": "cec1d33ef2274335a7f2ca7b16467ee6",
       "version_major": 2,
       "version_minor": 0
      },
      "text/plain": [
       "HBox(children=(FloatProgress(value=0.0, description='LTS to RV', max=48.0, style=ProgressStyle(description_wid…"
      ]
     },
     "metadata": {},
     "output_type": "display_data"
    },
    {
     "name": "stdout",
     "output_type": "stream",
     "text": [
      "\n"
     ]
    },
    {
     "data": {
      "application/vnd.jupyter.widget-view+json": {
       "model_id": "f59d01fef85844f9b8250c489f9d5d02",
       "version_major": 2,
       "version_minor": 0
      },
      "text/plain": [
       "HBox(children=(FloatProgress(value=0.0, description='MCDO Simulation', max=20.0, style=ProgressStyle(descripti…"
      ]
     },
     "metadata": {},
     "output_type": "display_data"
    },
    {
     "name": "stdout",
     "output_type": "stream",
     "text": [
      "\n"
     ]
    },
    {
     "data": {
      "application/vnd.jupyter.widget-view+json": {
       "model_id": "5b11534a83914258976c7e75e99fa51e",
       "version_major": 2,
       "version_minor": 0
      },
      "text/plain": [
       "HBox(children=(FloatProgress(value=0.0, description='MCDO+ScenarioForecasting', max=20.0, style=ProgressStyle(…"
      ]
     },
     "metadata": {},
     "output_type": "display_data"
    },
    {
     "name": "stdout",
     "output_type": "stream",
     "text": [
      "\n"
     ]
    },
    {
     "data": {
      "application/vnd.jupyter.widget-view+json": {
       "model_id": "ddf748fbeaeb46ad88af8b3764c43868",
       "version_major": 2,
       "version_minor": 0
      },
      "text/plain": [
       "HBox(children=(FloatProgress(value=0.0, description='LTS to RV', max=48.0, style=ProgressStyle(description_wid…"
      ]
     },
     "metadata": {},
     "output_type": "display_data"
    },
    {
     "name": "stdout",
     "output_type": "stream",
     "text": [
      "\n"
     ]
    },
    {
     "data": {
      "application/vnd.jupyter.widget-view+json": {
       "model_id": "9aca483061184114b9ede3bcddd59faa",
       "version_major": 2,
       "version_minor": 0
      },
      "text/plain": [
       "HBox(children=(FloatProgress(value=0.0, description='MCDO Simulation', max=20.0, style=ProgressStyle(descripti…"
      ]
     },
     "metadata": {},
     "output_type": "display_data"
    },
    {
     "name": "stdout",
     "output_type": "stream",
     "text": [
      "\n"
     ]
    },
    {
     "data": {
      "application/vnd.jupyter.widget-view+json": {
       "model_id": "5dcdf4b215154ec3b4702446eb4963ae",
       "version_major": 2,
       "version_minor": 0
      },
      "text/plain": [
       "HBox(children=(FloatProgress(value=0.0, description='MCDO+ScenarioForecasting', max=20.0, style=ProgressStyle(…"
      ]
     },
     "metadata": {},
     "output_type": "display_data"
    },
    {
     "name": "stdout",
     "output_type": "stream",
     "text": [
      "\n"
     ]
    },
    {
     "data": {
      "application/vnd.jupyter.widget-view+json": {
       "model_id": "af09507e1feb4f6482555e1902dbeb9e",
       "version_major": 2,
       "version_minor": 0
      },
      "text/plain": [
       "HBox(children=(FloatProgress(value=0.0, description='LTS to RV', max=48.0, style=ProgressStyle(description_wid…"
      ]
     },
     "metadata": {},
     "output_type": "display_data"
    },
    {
     "name": "stdout",
     "output_type": "stream",
     "text": [
      "\n"
     ]
    },
    {
     "data": {
      "application/vnd.jupyter.widget-view+json": {
       "model_id": "869cfdb3b4654b86a6f1f12bf51689fe",
       "version_major": 2,
       "version_minor": 0
      },
      "text/plain": [
       "HBox(children=(FloatProgress(value=0.0, description='MCDO Simulation', max=20.0, style=ProgressStyle(descripti…"
      ]
     },
     "metadata": {},
     "output_type": "display_data"
    },
    {
     "name": "stdout",
     "output_type": "stream",
     "text": [
      "\n"
     ]
    },
    {
     "data": {
      "application/vnd.jupyter.widget-view+json": {
       "model_id": "621c124a0bff4761b6203ed7b8812280",
       "version_major": 2,
       "version_minor": 0
      },
      "text/plain": [
       "HBox(children=(FloatProgress(value=0.0, description='MCDO+ScenarioForecasting', max=20.0, style=ProgressStyle(…"
      ]
     },
     "metadata": {},
     "output_type": "display_data"
    },
    {
     "name": "stdout",
     "output_type": "stream",
     "text": [
      "\n"
     ]
    },
    {
     "data": {
      "application/vnd.jupyter.widget-view+json": {
       "model_id": "608ce9b250c44076914d80b78f12f8dc",
       "version_major": 2,
       "version_minor": 0
      },
      "text/plain": [
       "HBox(children=(FloatProgress(value=0.0, description='LTS to RV', max=48.0, style=ProgressStyle(description_wid…"
      ]
     },
     "metadata": {},
     "output_type": "display_data"
    },
    {
     "name": "stdout",
     "output_type": "stream",
     "text": [
      "\n"
     ]
    },
    {
     "data": {
      "application/vnd.jupyter.widget-view+json": {
       "model_id": "20b8f22e07544ba18f5bd9bcf691c93e",
       "version_major": 2,
       "version_minor": 0
      },
      "text/plain": [
       "HBox(children=(FloatProgress(value=0.0, description='MCDO Simulation', max=20.0, style=ProgressStyle(descripti…"
      ]
     },
     "metadata": {},
     "output_type": "display_data"
    },
    {
     "name": "stdout",
     "output_type": "stream",
     "text": [
      "\n"
     ]
    },
    {
     "data": {
      "application/vnd.jupyter.widget-view+json": {
       "model_id": "ccf5814f02dc4cf88cbf576d2eae0713",
       "version_major": 2,
       "version_minor": 0
      },
      "text/plain": [
       "HBox(children=(FloatProgress(value=0.0, description='MCDO+ScenarioForecasting', max=20.0, style=ProgressStyle(…"
      ]
     },
     "metadata": {},
     "output_type": "display_data"
    },
    {
     "name": "stdout",
     "output_type": "stream",
     "text": [
      "\n"
     ]
    },
    {
     "data": {
      "application/vnd.jupyter.widget-view+json": {
       "model_id": "42e3544f727c46c09fccb1a5a12277af",
       "version_major": 2,
       "version_minor": 0
      },
      "text/plain": [
       "HBox(children=(FloatProgress(value=0.0, description='LTS to RV', max=48.0, style=ProgressStyle(description_wid…"
      ]
     },
     "metadata": {},
     "output_type": "display_data"
    },
    {
     "name": "stdout",
     "output_type": "stream",
     "text": [
      "\n"
     ]
    },
    {
     "data": {
      "application/vnd.jupyter.widget-view+json": {
       "model_id": "e9d7f9e0e0cf4a418514ecfc8d0ff601",
       "version_major": 2,
       "version_minor": 0
      },
      "text/plain": [
       "HBox(children=(FloatProgress(value=0.0, description='MCDO Simulation', max=20.0, style=ProgressStyle(descripti…"
      ]
     },
     "metadata": {},
     "output_type": "display_data"
    },
    {
     "name": "stdout",
     "output_type": "stream",
     "text": [
      "\n"
     ]
    },
    {
     "data": {
      "application/vnd.jupyter.widget-view+json": {
       "model_id": "f8594cf0c21847f0b498b4f231f06c1c",
       "version_major": 2,
       "version_minor": 0
      },
      "text/plain": [
       "HBox(children=(FloatProgress(value=0.0, description='MCDO+ScenarioForecasting', max=20.0, style=ProgressStyle(…"
      ]
     },
     "metadata": {},
     "output_type": "display_data"
    },
    {
     "name": "stdout",
     "output_type": "stream",
     "text": [
      "\n"
     ]
    },
    {
     "data": {
      "application/vnd.jupyter.widget-view+json": {
       "model_id": "6dfb0bb7a4e24c84808b3cc66a8138ec",
       "version_major": 2,
       "version_minor": 0
      },
      "text/plain": [
       "HBox(children=(FloatProgress(value=0.0, description='LTS to RV', max=48.0, style=ProgressStyle(description_wid…"
      ]
     },
     "metadata": {},
     "output_type": "display_data"
    },
    {
     "name": "stdout",
     "output_type": "stream",
     "text": [
      "\n"
     ]
    },
    {
     "data": {
      "application/vnd.jupyter.widget-view+json": {
       "model_id": "028191a891aa4d469b3eed11febd601e",
       "version_major": 2,
       "version_minor": 0
      },
      "text/plain": [
       "HBox(children=(FloatProgress(value=0.0, description='MCDO Simulation', max=20.0, style=ProgressStyle(descripti…"
      ]
     },
     "metadata": {},
     "output_type": "display_data"
    },
    {
     "name": "stdout",
     "output_type": "stream",
     "text": [
      "\n"
     ]
    },
    {
     "data": {
      "application/vnd.jupyter.widget-view+json": {
       "model_id": "836c9d422ace49cfbeb1530323746aa5",
       "version_major": 2,
       "version_minor": 0
      },
      "text/plain": [
       "HBox(children=(FloatProgress(value=0.0, description='MCDO+ScenarioForecasting', max=20.0, style=ProgressStyle(…"
      ]
     },
     "metadata": {},
     "output_type": "display_data"
    },
    {
     "name": "stdout",
     "output_type": "stream",
     "text": [
      "\n"
     ]
    },
    {
     "data": {
      "application/vnd.jupyter.widget-view+json": {
       "model_id": "5252887ec8324e7bb20d834c730ccc35",
       "version_major": 2,
       "version_minor": 0
      },
      "text/plain": [
       "HBox(children=(FloatProgress(value=0.0, description='LTS to RV', max=48.0, style=ProgressStyle(description_wid…"
      ]
     },
     "metadata": {},
     "output_type": "display_data"
    },
    {
     "name": "stdout",
     "output_type": "stream",
     "text": [
      "\n"
     ]
    },
    {
     "data": {
      "application/vnd.jupyter.widget-view+json": {
       "model_id": "b14a270c7e8d42f4bfc4f454da7ae62f",
       "version_major": 2,
       "version_minor": 0
      },
      "text/plain": [
       "HBox(children=(FloatProgress(value=0.0, description='MCDO Simulation', max=20.0, style=ProgressStyle(descripti…"
      ]
     },
     "metadata": {},
     "output_type": "display_data"
    },
    {
     "name": "stdout",
     "output_type": "stream",
     "text": [
      "\n"
     ]
    },
    {
     "data": {
      "application/vnd.jupyter.widget-view+json": {
       "model_id": "83137f93eafa4b58b10b8ed3c40d9f77",
       "version_major": 2,
       "version_minor": 0
      },
      "text/plain": [
       "HBox(children=(FloatProgress(value=0.0, description='MCDO+ScenarioForecasting', max=20.0, style=ProgressStyle(…"
      ]
     },
     "metadata": {},
     "output_type": "display_data"
    },
    {
     "name": "stdout",
     "output_type": "stream",
     "text": [
      "\n"
     ]
    },
    {
     "data": {
      "application/vnd.jupyter.widget-view+json": {
       "model_id": "616f22eed9d348ddb90fe1b8a542f055",
       "version_major": 2,
       "version_minor": 0
      },
      "text/plain": [
       "HBox(children=(FloatProgress(value=0.0, description='LTS to RV', max=48.0, style=ProgressStyle(description_wid…"
      ]
     },
     "metadata": {},
     "output_type": "display_data"
    },
    {
     "name": "stdout",
     "output_type": "stream",
     "text": [
      "\n"
     ]
    },
    {
     "data": {
      "application/vnd.jupyter.widget-view+json": {
       "model_id": "0688d6c6556643508546e05d64894490",
       "version_major": 2,
       "version_minor": 0
      },
      "text/plain": [
       "HBox(children=(FloatProgress(value=0.0, description='MCDO Simulation', max=20.0, style=ProgressStyle(descripti…"
      ]
     },
     "metadata": {},
     "output_type": "display_data"
    },
    {
     "name": "stdout",
     "output_type": "stream",
     "text": [
      "\n"
     ]
    },
    {
     "data": {
      "application/vnd.jupyter.widget-view+json": {
       "model_id": "d6ac31af78674c2e92c3431b049a5111",
       "version_major": 2,
       "version_minor": 0
      },
      "text/plain": [
       "HBox(children=(FloatProgress(value=0.0, description='MCDO+ScenarioForecasting', max=20.0, style=ProgressStyle(…"
      ]
     },
     "metadata": {},
     "output_type": "display_data"
    },
    {
     "name": "stdout",
     "output_type": "stream",
     "text": [
      "\n"
     ]
    },
    {
     "data": {
      "application/vnd.jupyter.widget-view+json": {
       "model_id": "fe4f52315e3d472eac10676d74379a27",
       "version_major": 2,
       "version_minor": 0
      },
      "text/plain": [
       "HBox(children=(FloatProgress(value=0.0, description='LTS to RV', max=48.0, style=ProgressStyle(description_wid…"
      ]
     },
     "metadata": {},
     "output_type": "display_data"
    },
    {
     "name": "stdout",
     "output_type": "stream",
     "text": [
      "\n"
     ]
    },
    {
     "data": {
      "application/vnd.jupyter.widget-view+json": {
       "model_id": "5fb9c43a51254a97b206e57796cb7f9f",
       "version_major": 2,
       "version_minor": 0
      },
      "text/plain": [
       "HBox(children=(FloatProgress(value=0.0, description='MCDO Simulation', max=20.0, style=ProgressStyle(descripti…"
      ]
     },
     "metadata": {},
     "output_type": "display_data"
    },
    {
     "name": "stdout",
     "output_type": "stream",
     "text": [
      "\n"
     ]
    },
    {
     "data": {
      "application/vnd.jupyter.widget-view+json": {
       "model_id": "073f556e881b4c20b898b8db90a4fd46",
       "version_major": 2,
       "version_minor": 0
      },
      "text/plain": [
       "HBox(children=(FloatProgress(value=0.0, description='MCDO+ScenarioForecasting', max=20.0, style=ProgressStyle(…"
      ]
     },
     "metadata": {},
     "output_type": "display_data"
    },
    {
     "name": "stdout",
     "output_type": "stream",
     "text": [
      "\n"
     ]
    },
    {
     "data": {
      "application/vnd.jupyter.widget-view+json": {
       "model_id": "f08f28518b0046f19baf5e3fa445f7dc",
       "version_major": 2,
       "version_minor": 0
      },
      "text/plain": [
       "HBox(children=(FloatProgress(value=0.0, description='LTS to RV', max=48.0, style=ProgressStyle(description_wid…"
      ]
     },
     "metadata": {},
     "output_type": "display_data"
    },
    {
     "name": "stdout",
     "output_type": "stream",
     "text": [
      "\n"
     ]
    },
    {
     "data": {
      "application/vnd.jupyter.widget-view+json": {
       "model_id": "6204bc7306e54a7fb34189710f5631b0",
       "version_major": 2,
       "version_minor": 0
      },
      "text/plain": [
       "HBox(children=(FloatProgress(value=0.0, description='MCDO Simulation', max=20.0, style=ProgressStyle(descripti…"
      ]
     },
     "metadata": {},
     "output_type": "display_data"
    },
    {
     "name": "stdout",
     "output_type": "stream",
     "text": [
      "\n"
     ]
    },
    {
     "data": {
      "application/vnd.jupyter.widget-view+json": {
       "model_id": "8ba69be9c1824816b0fcc30f2b0d8a18",
       "version_major": 2,
       "version_minor": 0
      },
      "text/plain": [
       "HBox(children=(FloatProgress(value=0.0, description='MCDO+ScenarioForecasting', max=20.0, style=ProgressStyle(…"
      ]
     },
     "metadata": {},
     "output_type": "display_data"
    },
    {
     "name": "stdout",
     "output_type": "stream",
     "text": [
      "\n"
     ]
    },
    {
     "data": {
      "application/vnd.jupyter.widget-view+json": {
       "model_id": "19451bb2ec154a20923052e39c503965",
       "version_major": 2,
       "version_minor": 0
      },
      "text/plain": [
       "HBox(children=(FloatProgress(value=0.0, description='LTS to RV', max=48.0, style=ProgressStyle(description_wid…"
      ]
     },
     "metadata": {},
     "output_type": "display_data"
    },
    {
     "name": "stdout",
     "output_type": "stream",
     "text": [
      "\n"
     ]
    },
    {
     "data": {
      "application/vnd.jupyter.widget-view+json": {
       "model_id": "22844c2af9e94f8abf9f6d208fbab6c7",
       "version_major": 2,
       "version_minor": 0
      },
      "text/plain": [
       "HBox(children=(FloatProgress(value=0.0, description='MCDO Simulation', max=20.0, style=ProgressStyle(descripti…"
      ]
     },
     "metadata": {},
     "output_type": "display_data"
    },
    {
     "name": "stdout",
     "output_type": "stream",
     "text": [
      "\n"
     ]
    },
    {
     "data": {
      "application/vnd.jupyter.widget-view+json": {
       "model_id": "dd07fe4eecbf4d8d945a254f57922278",
       "version_major": 2,
       "version_minor": 0
      },
      "text/plain": [
       "HBox(children=(FloatProgress(value=0.0, description='MCDO+ScenarioForecasting', max=20.0, style=ProgressStyle(…"
      ]
     },
     "metadata": {},
     "output_type": "display_data"
    },
    {
     "name": "stdout",
     "output_type": "stream",
     "text": [
      "\n"
     ]
    },
    {
     "data": {
      "application/vnd.jupyter.widget-view+json": {
       "model_id": "0beb890584e544efac2a4a5041e6f0cb",
       "version_major": 2,
       "version_minor": 0
      },
      "text/plain": [
       "HBox(children=(FloatProgress(value=0.0, description='LTS to RV', max=48.0, style=ProgressStyle(description_wid…"
      ]
     },
     "metadata": {},
     "output_type": "display_data"
    },
    {
     "name": "stdout",
     "output_type": "stream",
     "text": [
      "\n"
     ]
    },
    {
     "data": {
      "application/vnd.jupyter.widget-view+json": {
       "model_id": "920c2d6f4cf24e728c64b5ca8e44278b",
       "version_major": 2,
       "version_minor": 0
      },
      "text/plain": [
       "HBox(children=(FloatProgress(value=0.0, description='MCDO Simulation', max=20.0, style=ProgressStyle(descripti…"
      ]
     },
     "metadata": {},
     "output_type": "display_data"
    },
    {
     "name": "stdout",
     "output_type": "stream",
     "text": [
      "\n"
     ]
    },
    {
     "data": {
      "application/vnd.jupyter.widget-view+json": {
       "model_id": "19b2406632184d7a995b8ee4a0d956b5",
       "version_major": 2,
       "version_minor": 0
      },
      "text/plain": [
       "HBox(children=(FloatProgress(value=0.0, description='MCDO+ScenarioForecasting', max=20.0, style=ProgressStyle(…"
      ]
     },
     "metadata": {},
     "output_type": "display_data"
    },
    {
     "name": "stdout",
     "output_type": "stream",
     "text": [
      "\n"
     ]
    },
    {
     "data": {
      "application/vnd.jupyter.widget-view+json": {
       "model_id": "9db3dbd3ae214dafbcea31a4a676aa6b",
       "version_major": 2,
       "version_minor": 0
      },
      "text/plain": [
       "HBox(children=(FloatProgress(value=0.0, description='LTS to RV', max=48.0, style=ProgressStyle(description_wid…"
      ]
     },
     "metadata": {},
     "output_type": "display_data"
    },
    {
     "name": "stdout",
     "output_type": "stream",
     "text": [
      "\n"
     ]
    },
    {
     "data": {
      "application/vnd.jupyter.widget-view+json": {
       "model_id": "6709b4d45f2e4f2488499bed62cc9ef6",
       "version_major": 2,
       "version_minor": 0
      },
      "text/plain": [
       "HBox(children=(FloatProgress(value=0.0, description='MCDO Simulation', max=20.0, style=ProgressStyle(descripti…"
      ]
     },
     "metadata": {},
     "output_type": "display_data"
    },
    {
     "name": "stdout",
     "output_type": "stream",
     "text": [
      "\n"
     ]
    },
    {
     "data": {
      "application/vnd.jupyter.widget-view+json": {
       "model_id": "eb514f2a5684406091ff9102ee341626",
       "version_major": 2,
       "version_minor": 0
      },
      "text/plain": [
       "HBox(children=(FloatProgress(value=0.0, description='MCDO+ScenarioForecasting', max=20.0, style=ProgressStyle(…"
      ]
     },
     "metadata": {},
     "output_type": "display_data"
    },
    {
     "name": "stdout",
     "output_type": "stream",
     "text": [
      "\n"
     ]
    },
    {
     "data": {
      "application/vnd.jupyter.widget-view+json": {
       "model_id": "b98af6b57a2b453fa07d2bc9191b72d3",
       "version_major": 2,
       "version_minor": 0
      },
      "text/plain": [
       "HBox(children=(FloatProgress(value=0.0, description='LTS to RV', max=48.0, style=ProgressStyle(description_wid…"
      ]
     },
     "metadata": {},
     "output_type": "display_data"
    },
    {
     "name": "stdout",
     "output_type": "stream",
     "text": [
      "\n"
     ]
    },
    {
     "data": {
      "application/vnd.jupyter.widget-view+json": {
       "model_id": "06fbdac9f5e846f8a70f06f532bcbf72",
       "version_major": 2,
       "version_minor": 0
      },
      "text/plain": [
       "HBox(children=(FloatProgress(value=0.0, description='MCDO Simulation', max=20.0, style=ProgressStyle(descripti…"
      ]
     },
     "metadata": {},
     "output_type": "display_data"
    },
    {
     "name": "stdout",
     "output_type": "stream",
     "text": [
      "\n"
     ]
    },
    {
     "data": {
      "application/vnd.jupyter.widget-view+json": {
       "model_id": "7b21ccd1bcf948d38c92bdedfb9235b3",
       "version_major": 2,
       "version_minor": 0
      },
      "text/plain": [
       "HBox(children=(FloatProgress(value=0.0, description='MCDO+ScenarioForecasting', max=20.0, style=ProgressStyle(…"
      ]
     },
     "metadata": {},
     "output_type": "display_data"
    },
    {
     "name": "stdout",
     "output_type": "stream",
     "text": [
      "\n"
     ]
    },
    {
     "data": {
      "application/vnd.jupyter.widget-view+json": {
       "model_id": "9188de5784a64023a32890f024c6114f",
       "version_major": 2,
       "version_minor": 0
      },
      "text/plain": [
       "HBox(children=(FloatProgress(value=0.0, description='LTS to RV', max=48.0, style=ProgressStyle(description_wid…"
      ]
     },
     "metadata": {},
     "output_type": "display_data"
    },
    {
     "name": "stdout",
     "output_type": "stream",
     "text": [
      "\n"
     ]
    },
    {
     "data": {
      "application/vnd.jupyter.widget-view+json": {
       "model_id": "630d521ba1e94b34aae999c2797b4b6f",
       "version_major": 2,
       "version_minor": 0
      },
      "text/plain": [
       "HBox(children=(FloatProgress(value=0.0, description='MCDO Simulation', max=20.0, style=ProgressStyle(descripti…"
      ]
     },
     "metadata": {},
     "output_type": "display_data"
    },
    {
     "name": "stdout",
     "output_type": "stream",
     "text": [
      "\n"
     ]
    },
    {
     "data": {
      "application/vnd.jupyter.widget-view+json": {
       "model_id": "147a2515056845cf862864418f344ed9",
       "version_major": 2,
       "version_minor": 0
      },
      "text/plain": [
       "HBox(children=(FloatProgress(value=0.0, description='MCDO+ScenarioForecasting', max=20.0, style=ProgressStyle(…"
      ]
     },
     "metadata": {},
     "output_type": "display_data"
    },
    {
     "name": "stdout",
     "output_type": "stream",
     "text": [
      "\n"
     ]
    },
    {
     "data": {
      "application/vnd.jupyter.widget-view+json": {
       "model_id": "58d8f6fae5b8480f90bf81e100cdbd41",
       "version_major": 2,
       "version_minor": 0
      },
      "text/plain": [
       "HBox(children=(FloatProgress(value=0.0, description='LTS to RV', max=48.0, style=ProgressStyle(description_wid…"
      ]
     },
     "metadata": {},
     "output_type": "display_data"
    },
    {
     "name": "stdout",
     "output_type": "stream",
     "text": [
      "\n"
     ]
    },
    {
     "data": {
      "application/vnd.jupyter.widget-view+json": {
       "model_id": "9c8c3e2d53cb43cb88ee62cb2041035e",
       "version_major": 2,
       "version_minor": 0
      },
      "text/plain": [
       "HBox(children=(FloatProgress(value=0.0, description='MCDO Simulation', max=20.0, style=ProgressStyle(descripti…"
      ]
     },
     "metadata": {},
     "output_type": "display_data"
    },
    {
     "name": "stdout",
     "output_type": "stream",
     "text": [
      "\n"
     ]
    },
    {
     "data": {
      "application/vnd.jupyter.widget-view+json": {
       "model_id": "746bb1cc53c04c52ad495a70dac28d1d",
       "version_major": 2,
       "version_minor": 0
      },
      "text/plain": [
       "HBox(children=(FloatProgress(value=0.0, description='MCDO+ScenarioForecasting', max=20.0, style=ProgressStyle(…"
      ]
     },
     "metadata": {},
     "output_type": "display_data"
    },
    {
     "name": "stdout",
     "output_type": "stream",
     "text": [
      "\n"
     ]
    },
    {
     "data": {
      "application/vnd.jupyter.widget-view+json": {
       "model_id": "f5ccb9eb637a4f1598a2e7cc7a54ad2a",
       "version_major": 2,
       "version_minor": 0
      },
      "text/plain": [
       "HBox(children=(FloatProgress(value=0.0, description='LTS to RV', max=48.0, style=ProgressStyle(description_wid…"
      ]
     },
     "metadata": {},
     "output_type": "display_data"
    },
    {
     "name": "stdout",
     "output_type": "stream",
     "text": [
      "\n"
     ]
    },
    {
     "data": {
      "application/vnd.jupyter.widget-view+json": {
       "model_id": "ab11f56edcce4040a779a45135d90903",
       "version_major": 2,
       "version_minor": 0
      },
      "text/plain": [
       "HBox(children=(FloatProgress(value=0.0, description='MCDO Simulation', max=20.0, style=ProgressStyle(descripti…"
      ]
     },
     "metadata": {},
     "output_type": "display_data"
    },
    {
     "name": "stdout",
     "output_type": "stream",
     "text": [
      "\n"
     ]
    },
    {
     "data": {
      "application/vnd.jupyter.widget-view+json": {
       "model_id": "4fd6ecbf27ab41229833b85ed230fe26",
       "version_major": 2,
       "version_minor": 0
      },
      "text/plain": [
       "HBox(children=(FloatProgress(value=0.0, description='MCDO+ScenarioForecasting', max=20.0, style=ProgressStyle(…"
      ]
     },
     "metadata": {},
     "output_type": "display_data"
    },
    {
     "name": "stdout",
     "output_type": "stream",
     "text": [
      "\n"
     ]
    },
    {
     "data": {
      "application/vnd.jupyter.widget-view+json": {
       "model_id": "6803e3f0b6df4fe0a9f38bff5110310c",
       "version_major": 2,
       "version_minor": 0
      },
      "text/plain": [
       "HBox(children=(FloatProgress(value=0.0, description='LTS to RV', max=48.0, style=ProgressStyle(description_wid…"
      ]
     },
     "metadata": {},
     "output_type": "display_data"
    },
    {
     "name": "stdout",
     "output_type": "stream",
     "text": [
      "\n"
     ]
    },
    {
     "data": {
      "application/vnd.jupyter.widget-view+json": {
       "model_id": "9145afafdcea4d538361e93c02ebca33",
       "version_major": 2,
       "version_minor": 0
      },
      "text/plain": [
       "HBox(children=(FloatProgress(value=0.0, description='MCDO Simulation', max=20.0, style=ProgressStyle(descripti…"
      ]
     },
     "metadata": {},
     "output_type": "display_data"
    },
    {
     "name": "stdout",
     "output_type": "stream",
     "text": [
      "\n"
     ]
    },
    {
     "data": {
      "application/vnd.jupyter.widget-view+json": {
       "model_id": "a0adcdb270e049abaf5e0faff076b477",
       "version_major": 2,
       "version_minor": 0
      },
      "text/plain": [
       "HBox(children=(FloatProgress(value=0.0, description='MCDO+ScenarioForecasting', max=20.0, style=ProgressStyle(…"
      ]
     },
     "metadata": {},
     "output_type": "display_data"
    },
    {
     "name": "stdout",
     "output_type": "stream",
     "text": [
      "\n"
     ]
    },
    {
     "data": {
      "application/vnd.jupyter.widget-view+json": {
       "model_id": "40f56704f9c0494a81d8a3ec63751619",
       "version_major": 2,
       "version_minor": 0
      },
      "text/plain": [
       "HBox(children=(FloatProgress(value=0.0, description='LTS to RV', max=48.0, style=ProgressStyle(description_wid…"
      ]
     },
     "metadata": {},
     "output_type": "display_data"
    },
    {
     "name": "stdout",
     "output_type": "stream",
     "text": [
      "\n"
     ]
    },
    {
     "data": {
      "application/vnd.jupyter.widget-view+json": {
       "model_id": "d177be2926ff400ba8f589453efea815",
       "version_major": 2,
       "version_minor": 0
      },
      "text/plain": [
       "HBox(children=(FloatProgress(value=0.0, description='MCDO Simulation', max=20.0, style=ProgressStyle(descripti…"
      ]
     },
     "metadata": {},
     "output_type": "display_data"
    },
    {
     "name": "stdout",
     "output_type": "stream",
     "text": [
      "\n"
     ]
    },
    {
     "data": {
      "application/vnd.jupyter.widget-view+json": {
       "model_id": "e0ead0c90a5d4c65b1b25d828a45602e",
       "version_major": 2,
       "version_minor": 0
      },
      "text/plain": [
       "HBox(children=(FloatProgress(value=0.0, description='MCDO+ScenarioForecasting', max=20.0, style=ProgressStyle(…"
      ]
     },
     "metadata": {},
     "output_type": "display_data"
    },
    {
     "name": "stdout",
     "output_type": "stream",
     "text": [
      "\n"
     ]
    },
    {
     "data": {
      "application/vnd.jupyter.widget-view+json": {
       "model_id": "297bb4cdc02c419193c6f9ecadcc4481",
       "version_major": 2,
       "version_minor": 0
      },
      "text/plain": [
       "HBox(children=(FloatProgress(value=0.0, description='LTS to RV', max=48.0, style=ProgressStyle(description_wid…"
      ]
     },
     "metadata": {},
     "output_type": "display_data"
    },
    {
     "name": "stdout",
     "output_type": "stream",
     "text": [
      "\n"
     ]
    },
    {
     "data": {
      "application/vnd.jupyter.widget-view+json": {
       "model_id": "7a79f79db76841ad877f9cfa1e1c74dd",
       "version_major": 2,
       "version_minor": 0
      },
      "text/plain": [
       "HBox(children=(FloatProgress(value=0.0, description='MCDO Simulation', max=20.0, style=ProgressStyle(descripti…"
      ]
     },
     "metadata": {},
     "output_type": "display_data"
    },
    {
     "name": "stdout",
     "output_type": "stream",
     "text": [
      "\n"
     ]
    },
    {
     "data": {
      "application/vnd.jupyter.widget-view+json": {
       "model_id": "a7f9b964bb9b42d3b84761a54310e029",
       "version_major": 2,
       "version_minor": 0
      },
      "text/plain": [
       "HBox(children=(FloatProgress(value=0.0, description='MCDO+ScenarioForecasting', max=20.0, style=ProgressStyle(…"
      ]
     },
     "metadata": {},
     "output_type": "display_data"
    },
    {
     "name": "stdout",
     "output_type": "stream",
     "text": [
      "\n"
     ]
    },
    {
     "data": {
      "application/vnd.jupyter.widget-view+json": {
       "model_id": "9e54fd4d9bf74b4d81a1d10c9bdcba32",
       "version_major": 2,
       "version_minor": 0
      },
      "text/plain": [
       "HBox(children=(FloatProgress(value=0.0, description='LTS to RV', max=48.0, style=ProgressStyle(description_wid…"
      ]
     },
     "metadata": {},
     "output_type": "display_data"
    },
    {
     "name": "stdout",
     "output_type": "stream",
     "text": [
      "\n"
     ]
    },
    {
     "data": {
      "application/vnd.jupyter.widget-view+json": {
       "model_id": "428441916176432c978b0d0793d208dc",
       "version_major": 2,
       "version_minor": 0
      },
      "text/plain": [
       "HBox(children=(FloatProgress(value=0.0, description='MCDO Simulation', max=20.0, style=ProgressStyle(descripti…"
      ]
     },
     "metadata": {},
     "output_type": "display_data"
    },
    {
     "name": "stdout",
     "output_type": "stream",
     "text": [
      "\n"
     ]
    },
    {
     "data": {
      "application/vnd.jupyter.widget-view+json": {
       "model_id": "54d17bce6b6342ffb02feea1e81751df",
       "version_major": 2,
       "version_minor": 0
      },
      "text/plain": [
       "HBox(children=(FloatProgress(value=0.0, description='MCDO+ScenarioForecasting', max=20.0, style=ProgressStyle(…"
      ]
     },
     "metadata": {},
     "output_type": "display_data"
    },
    {
     "name": "stdout",
     "output_type": "stream",
     "text": [
      "\n"
     ]
    },
    {
     "data": {
      "application/vnd.jupyter.widget-view+json": {
       "model_id": "4c795994f4e14b85b597fc982e2e9f46",
       "version_major": 2,
       "version_minor": 0
      },
      "text/plain": [
       "HBox(children=(FloatProgress(value=0.0, description='LTS to RV', max=48.0, style=ProgressStyle(description_wid…"
      ]
     },
     "metadata": {},
     "output_type": "display_data"
    },
    {
     "name": "stdout",
     "output_type": "stream",
     "text": [
      "\n"
     ]
    },
    {
     "data": {
      "application/vnd.jupyter.widget-view+json": {
       "model_id": "23a85b243b98487bb546cf64936189fc",
       "version_major": 2,
       "version_minor": 0
      },
      "text/plain": [
       "HBox(children=(FloatProgress(value=0.0, description='MCDO Simulation', max=20.0, style=ProgressStyle(descripti…"
      ]
     },
     "metadata": {},
     "output_type": "display_data"
    },
    {
     "name": "stdout",
     "output_type": "stream",
     "text": [
      "\n"
     ]
    },
    {
     "data": {
      "application/vnd.jupyter.widget-view+json": {
       "model_id": "7ba5ac9fa78c45ec9832a26d52632145",
       "version_major": 2,
       "version_minor": 0
      },
      "text/plain": [
       "HBox(children=(FloatProgress(value=0.0, description='MCDO+ScenarioForecasting', max=20.0, style=ProgressStyle(…"
      ]
     },
     "metadata": {},
     "output_type": "display_data"
    },
    {
     "name": "stdout",
     "output_type": "stream",
     "text": [
      "\n"
     ]
    },
    {
     "data": {
      "application/vnd.jupyter.widget-view+json": {
       "model_id": "d54e00ad972e40e4a3e6bd76d5169c1e",
       "version_major": 2,
       "version_minor": 0
      },
      "text/plain": [
       "HBox(children=(FloatProgress(value=0.0, description='LTS to RV', max=48.0, style=ProgressStyle(description_wid…"
      ]
     },
     "metadata": {},
     "output_type": "display_data"
    },
    {
     "name": "stdout",
     "output_type": "stream",
     "text": [
      "\n"
     ]
    },
    {
     "data": {
      "application/vnd.jupyter.widget-view+json": {
       "model_id": "354674c9435f4aab880b7d6bbeba4b09",
       "version_major": 2,
       "version_minor": 0
      },
      "text/plain": [
       "HBox(children=(FloatProgress(value=0.0, description='MCDO Simulation', max=20.0, style=ProgressStyle(descripti…"
      ]
     },
     "metadata": {},
     "output_type": "display_data"
    },
    {
     "name": "stdout",
     "output_type": "stream",
     "text": [
      "\n"
     ]
    },
    {
     "data": {
      "application/vnd.jupyter.widget-view+json": {
       "model_id": "cfc2c59be98c416780ef5a345b464bb5",
       "version_major": 2,
       "version_minor": 0
      },
      "text/plain": [
       "HBox(children=(FloatProgress(value=0.0, description='MCDO+ScenarioForecasting', max=20.0, style=ProgressStyle(…"
      ]
     },
     "metadata": {},
     "output_type": "display_data"
    },
    {
     "name": "stdout",
     "output_type": "stream",
     "text": [
      "\n"
     ]
    },
    {
     "data": {
      "application/vnd.jupyter.widget-view+json": {
       "model_id": "340c270b7e02471b936529482d7f0fd9",
       "version_major": 2,
       "version_minor": 0
      },
      "text/plain": [
       "HBox(children=(FloatProgress(value=0.0, description='LTS to RV', max=48.0, style=ProgressStyle(description_wid…"
      ]
     },
     "metadata": {},
     "output_type": "display_data"
    },
    {
     "name": "stdout",
     "output_type": "stream",
     "text": [
      "\n"
     ]
    },
    {
     "data": {
      "application/vnd.jupyter.widget-view+json": {
       "model_id": "cc051a1b8dc7436b9ef8481c185df2f6",
       "version_major": 2,
       "version_minor": 0
      },
      "text/plain": [
       "HBox(children=(FloatProgress(value=0.0, description='MCDO Simulation', max=20.0, style=ProgressStyle(descripti…"
      ]
     },
     "metadata": {},
     "output_type": "display_data"
    },
    {
     "name": "stdout",
     "output_type": "stream",
     "text": [
      "\n"
     ]
    },
    {
     "data": {
      "application/vnd.jupyter.widget-view+json": {
       "model_id": "bfbce02ca33b481c903e489d54f9ce71",
       "version_major": 2,
       "version_minor": 0
      },
      "text/plain": [
       "HBox(children=(FloatProgress(value=0.0, description='MCDO+ScenarioForecasting', max=20.0, style=ProgressStyle(…"
      ]
     },
     "metadata": {},
     "output_type": "display_data"
    },
    {
     "name": "stdout",
     "output_type": "stream",
     "text": [
      "\n"
     ]
    },
    {
     "data": {
      "application/vnd.jupyter.widget-view+json": {
       "model_id": "2508ed3d4a094e54b188103ad263df58",
       "version_major": 2,
       "version_minor": 0
      },
      "text/plain": [
       "HBox(children=(FloatProgress(value=0.0, description='LTS to RV', max=48.0, style=ProgressStyle(description_wid…"
      ]
     },
     "metadata": {},
     "output_type": "display_data"
    },
    {
     "name": "stdout",
     "output_type": "stream",
     "text": [
      "\n"
     ]
    },
    {
     "data": {
      "application/vnd.jupyter.widget-view+json": {
       "model_id": "8576df46798a49668eb0b49fff39ff2f",
       "version_major": 2,
       "version_minor": 0
      },
      "text/plain": [
       "HBox(children=(FloatProgress(value=0.0, description='MCDO Simulation', max=20.0, style=ProgressStyle(descripti…"
      ]
     },
     "metadata": {},
     "output_type": "display_data"
    },
    {
     "name": "stdout",
     "output_type": "stream",
     "text": [
      "\n"
     ]
    },
    {
     "data": {
      "application/vnd.jupyter.widget-view+json": {
       "model_id": "761c5a1656c046ae864d5933b9cf9465",
       "version_major": 2,
       "version_minor": 0
      },
      "text/plain": [
       "HBox(children=(FloatProgress(value=0.0, description='MCDO+ScenarioForecasting', max=20.0, style=ProgressStyle(…"
      ]
     },
     "metadata": {},
     "output_type": "display_data"
    },
    {
     "name": "stdout",
     "output_type": "stream",
     "text": [
      "\n"
     ]
    },
    {
     "data": {
      "application/vnd.jupyter.widget-view+json": {
       "model_id": "9a562a04492e4035bd2327e6eb4d5cef",
       "version_major": 2,
       "version_minor": 0
      },
      "text/plain": [
       "HBox(children=(FloatProgress(value=0.0, description='LTS to RV', max=48.0, style=ProgressStyle(description_wid…"
      ]
     },
     "metadata": {},
     "output_type": "display_data"
    },
    {
     "name": "stdout",
     "output_type": "stream",
     "text": [
      "\n"
     ]
    },
    {
     "data": {
      "application/vnd.jupyter.widget-view+json": {
       "model_id": "73f6f9e3c92648d893b1bfe16bd4b313",
       "version_major": 2,
       "version_minor": 0
      },
      "text/plain": [
       "HBox(children=(FloatProgress(value=0.0, description='MCDO Simulation', max=20.0, style=ProgressStyle(descripti…"
      ]
     },
     "metadata": {},
     "output_type": "display_data"
    },
    {
     "name": "stdout",
     "output_type": "stream",
     "text": [
      "\n"
     ]
    },
    {
     "data": {
      "application/vnd.jupyter.widget-view+json": {
       "model_id": "9db5989734e0412e800d8c13e232cffc",
       "version_major": 2,
       "version_minor": 0
      },
      "text/plain": [
       "HBox(children=(FloatProgress(value=0.0, description='MCDO+ScenarioForecasting', max=20.0, style=ProgressStyle(…"
      ]
     },
     "metadata": {},
     "output_type": "display_data"
    },
    {
     "name": "stdout",
     "output_type": "stream",
     "text": [
      "\n"
     ]
    },
    {
     "data": {
      "application/vnd.jupyter.widget-view+json": {
       "model_id": "1a8c53da98c743a9a0c579a41fd255aa",
       "version_major": 2,
       "version_minor": 0
      },
      "text/plain": [
       "HBox(children=(FloatProgress(value=0.0, description='LTS to RV', max=48.0, style=ProgressStyle(description_wid…"
      ]
     },
     "metadata": {},
     "output_type": "display_data"
    },
    {
     "name": "stdout",
     "output_type": "stream",
     "text": [
      "\n"
     ]
    },
    {
     "data": {
      "application/vnd.jupyter.widget-view+json": {
       "model_id": "617ae27d21004755bffede3ed5e4a9ba",
       "version_major": 2,
       "version_minor": 0
      },
      "text/plain": [
       "HBox(children=(FloatProgress(value=0.0, description='MCDO Simulation', max=20.0, style=ProgressStyle(descripti…"
      ]
     },
     "metadata": {},
     "output_type": "display_data"
    },
    {
     "name": "stdout",
     "output_type": "stream",
     "text": [
      "\n"
     ]
    },
    {
     "data": {
      "application/vnd.jupyter.widget-view+json": {
       "model_id": "1c51aa51b503411aaf65dd42c2d425a8",
       "version_major": 2,
       "version_minor": 0
      },
      "text/plain": [
       "HBox(children=(FloatProgress(value=0.0, description='MCDO+ScenarioForecasting', max=20.0, style=ProgressStyle(…"
      ]
     },
     "metadata": {},
     "output_type": "display_data"
    },
    {
     "name": "stdout",
     "output_type": "stream",
     "text": [
      "\n"
     ]
    },
    {
     "data": {
      "application/vnd.jupyter.widget-view+json": {
       "model_id": "743055efd30a4907b1e30d4d563e2e16",
       "version_major": 2,
       "version_minor": 0
      },
      "text/plain": [
       "HBox(children=(FloatProgress(value=0.0, description='LTS to RV', max=48.0, style=ProgressStyle(description_wid…"
      ]
     },
     "metadata": {},
     "output_type": "display_data"
    },
    {
     "name": "stdout",
     "output_type": "stream",
     "text": [
      "\n",
      "\n"
     ]
    }
   ],
   "source": [
    "import time \n",
    "from models.baselines.quantile_naive import QuantileNaive\n",
    "from sklearn.model_selection import TimeSeriesSplit\n",
    "from utility.evaluation import evaluate\n",
    "plt.rcParams['figure.figsize'] = [10, 3]\n",
    "\n",
    "horizon = 48\n",
    "n_sims = 20\n",
    "n_splits = 20\n",
    "tscv = TimeSeriesSplit(n_splits=n_splits)\n",
    "methods = ['qnaiveW', 'qnaiveX', 'nonbayesian', 'al', 'sfal', 'ep', 'sfep', 'alep', 'sfalep']\n",
    "mse = {m:[] for m in methods}\n",
    "nmae = {m:[] for m in methods}\n",
    "ncrps = {m:[] for m in methods}\n",
    "es_scores = {m:[] for m in methods}\n",
    "forecasts = {m:[] for m in methods}\n",
    "forecast_time = {m:[] for m in methods}\n",
    "y_real = []\n",
    "\n",
    "for tr_idx, te_idx in tqdm(tscv.split(dev), total=n_splits):\n",
    "    X = dev.values[tr_idx,:]\n",
    "    y = dev.values[tr_idx[-1]+1:tr_idx[-1]+1+horizon,:]\n",
    "#     y_nonoise = dev_sig[tr_idx[-1]+1:tr_idx[-1]+1+horizon]\n",
    "    y_real.append(y[:,0])\n",
    "    \n",
    "    # no noise signal\n",
    "    start = time.time()\n",
    "#     mse['nonoise'].append(mean_squared_error(y, y_nonoise))\n",
    "#     forecast_time['nonoise'].append(time.time()-start)\n",
    "    \n",
    "    # quantile naive with X\n",
    "    start = time.time()\n",
    "    quantileNaive = QuantileNaive(horizon=horizon, forecast_with_warmup=False)\n",
    "    quantileNaive.fit(X, y)\n",
    "    y_qnaiveX = quantileNaive.forecast_probabilistic(warmup=X[:,0], test=y[:,0])\n",
    "    #assert len(y_qnaiveX) == len(y)\n",
    "    forecasts['qnaiveX'].append(y_qnaiveX)\n",
    "    mse['qnaiveX'].append(mean_squared_error(y[:,0], y_qnaiveX.median()))\n",
    "    ncrps_qnaiveX, nmae_qnaiveX = evaluate(y[:,0], [y_qnaiveX], period=horizon)\n",
    "    nmae['qnaiveX'].append(nmae_qnaiveX)\n",
    "    ncrps['qnaiveX'].append(ncrps_qnaiveX)\n",
    "    forecast_time['qnaiveX'].append(time.time()-start)\n",
    "    \n",
    "    # quantile naive with Warmup\n",
    "    start = time.time()\n",
    "    quantileNaive = QuantileNaive(horizon=horizon, forecast_with_warmup=True)\n",
    "    y_qnaiveW = quantileNaive.forecast_probabilistic(warmup=X[-n_input:,0], test=y[:,0])\n",
    "    #assert len(y_qnaiveW.foreca) == len(y)\n",
    "    forecasts['qnaiveW'].append(y_qnaiveW)\n",
    "    mse['qnaiveW'].append(mean_squared_error(y[:,0], y_qnaiveW.median()))\n",
    "    ncrps_qnaiveW, nmae_qnaiveW = evaluate(y[:,0], [y_qnaiveW], period=horizon)\n",
    "    nmae['qnaiveW'].append(nmae_qnaiveW)\n",
    "    ncrps['qnaiveW'].append(ncrps_qnaiveW)\n",
    "    forecast_time['qnaiveW'].append(time.time()-start)\n",
    "    \n",
    "    # non-bayesian model\n",
    "    start = time.time()\n",
    "    y_old = modelRNNNonBayesian.forecast(warmup=X[-n_input:], test=y)\n",
    "    assert len(y_old) == len(y)\n",
    "    forecasts['nonbayesian'].append(y_old)\n",
    "    mse['nonbayesian'].append(mean_squared_error(y[:,0], y_old))\n",
    "    nmae['nonbayesian'].append(mean_absolute_error(y[:,0], y_old))\n",
    "    ncrps['nonbayesian'].append(0)\n",
    "    forecast_time['nonbayesian'].append(time.time()-start)\n",
    "    \n",
    "    # old model ES\n",
    "#     start = time.time()\n",
    "#     y_old_es = modelOldES.forecast(warmup=X[-n_input:], test=y)\n",
    "#     assert len(y_old_es) == len(y)\n",
    "#     forecasts['old_es'].append(y_old_es)\n",
    "#     mse['old_es'].append(mean_squared_error(y[:,0], y_old_es))\n",
    "#     nmae['old_es'].append(mean_absolute_error(y[:,0], y_old_es))\n",
    "#     ncrps['old_es'].append(0)\n",
    "#     forecast_time['old_es'].append(time.time()-start)\n",
    "    \n",
    "    # aleatoric (AL)\n",
    "    start = time.time()\n",
    "    y_al = modelRNNAleatoric.forecast(warmup=X[-n_input:], test=y)\n",
    "    assert len(y_al.median()) == len(y)\n",
    "    forecasts['al'].append(y_al)\n",
    "    mse['al'].append(mean_squared_error(y[:,0], y_al.median()))\n",
    "    ncrps_al, nmae_al = evaluate(y[:,0], [y_al], period=horizon)\n",
    "    nmae['al'].append(nmae_al)\n",
    "    ncrps['al'].append(ncrps_al)\n",
    "    forecast_time['al'].append(time.time()-start)\n",
    "\n",
    "    # Scenario Forecasting (SF) + AL\n",
    "    start = time.time()\n",
    "    y_sfal = modelRNNAleatoric.scenario_forecast(test_warmup=X[-n_input:], test=y, horizon=horizon, n_sims=n_sims)\n",
    "    trajs_means = retrieve_trajectories(modelRNNAleatoric)\n",
    "    es_scores['sfal'].append( energy_score_new(y[:,0].reshape(-1,1), trajs_means.T) )\n",
    "    assert len(y_sfal.median()) == len(y)\n",
    "    forecasts['sfal'].append(y_sfal)\n",
    "    mse['sfal'].append(mean_squared_error(y[:,0], y_sfal.median()))\n",
    "    ncrps_sfal, nmae_sfal = evaluate(y[:,0], [y_sfal], period=horizon)\n",
    "    nmae['sfal'].append(nmae_sfal)\n",
    "    ncrps['sfal'].append(ncrps_sfal)\n",
    "    forecast_time['sfal'].append(time.time()-start)\n",
    "\n",
    "    \n",
    "    # epistemic (EP)\n",
    "    start = time.time()\n",
    "    y_ep = modelRNNEpistemic.forecast(warmup=X[-n_input:], test=y)\n",
    "    assert len(y_ep.median()) == len(y)\n",
    "    forecasts['ep'].append(y_ep)\n",
    "    mse['ep'].append(mean_squared_error(y[:,0], y_ep.median()))    \n",
    "    ncrps_ep, nmae_ep = evaluate(y[:,0], [y_ep], period=horizon)\n",
    "    nmae['ep'].append(nmae_ep)\n",
    "    ncrps['ep'].append(ncrps_ep)\n",
    "    forecast_time['ep'].append(time.time()-start)\n",
    "\n",
    "    # Scenario Forecasting (SF) + EP\n",
    "    start = time.time()\n",
    "    y_sfep = modelRNNEpistemic.scenario_forecast(test_warmup=X[-n_input:], test=y, horizon=horizon, n_sims=n_sims)\n",
    "    trajs_means = retrieve_trajectories(modelRNNEpistemic)\n",
    "    es_scores['sfep'].append( energy_score_new(y[:,0].reshape(-1,1), trajs_means.T) )\n",
    "    assert len(y_sfep.median()) == len(y)\n",
    "    forecasts['sfep'].append(y_sfep)\n",
    "    mse['sfep'].append(mean_squared_error(y[:,0], y_sfep.median()))\n",
    "    ncrps_sfep, nmae_sfep = evaluate(y[:,0], [y_sfep], period=horizon)\n",
    "    nmae['sfep'].append(nmae_sfep)\n",
    "    ncrps['sfep'].append(ncrps_sfep)\n",
    "    forecast_time['sfep'].append(time.time()-start)\n",
    "    \n",
    "    # ALEP: AL+EP\n",
    "    start = time.time()\n",
    "    y_alep = modelRNNALEP.forecast(warmup=X[-n_input:], test=y)\n",
    "    assert len(y_alep.median()) == len(y)\n",
    "    forecasts['alep'].append(y_alep)\n",
    "    mse['alep'].append(mean_squared_error(y[:,0], y_alep.median()))\n",
    "    ncrps_alep, nmae_alep = evaluate(y[:,0], [y_alep], period=horizon)\n",
    "    nmae['alep'].append(nmae_alep)\n",
    "    ncrps['alep'].append(ncrps_alep)\n",
    "    forecast_time['alep'].append(time.time()-start)\n",
    "    \n",
    "    # Scenario Forecasting (SF) + ALEP\n",
    "    start = time.time()\n",
    "    y_sfalep = modelRNNALEP.scenario_forecast(test_warmup=X[-n_input:], test=y, horizon=horizon, n_sims=n_sims)\n",
    "    trajs_means = retrieve_trajectories(modelRNNALEP)\n",
    "    es_scores['sfalep'].append( energy_score_new(y[:,0].reshape(-1,1), trajs_means.T) )\n",
    "    assert len(y_sfalep.median()) == len(y)\n",
    "    forecasts['sfalep'].append(y_sfalep)\n",
    "    mse['sfalep'].append(mean_squared_error(y[:,0], y_sfalep.median()))\n",
    "    ncrps_sfalep, nmae_sfalep = evaluate(y[:,0], [y_sfalep], period=horizon)\n",
    "    nmae['sfalep'].append(nmae_sfalep)\n",
    "    ncrps['sfalep'].append(ncrps_sfalep)\n",
    "    forecast_time['sfalep'].append(time.time()-start)\n",
    "    \n",
    "#     errors_alep2.append(mean_squared_error(y, pforecast.median()))\n",
    "#     yreal_dev.append(y)\n",
    "    #print(\"%i -> %2.3f\" % (i, errors[-1]))\n",
    "    #i+=1\n",
    "    \n",
    "# plt.figure(figsize=(6,4))\n",
    "# plt.boxplot(errors_alep2)\n",
    "# plt.title('MSE average: %2.4f' % np.mean(errors_alep2))\n",
    "# plt.show()\n",
    "#"
   ]
  },
  {
   "cell_type": "code",
   "execution_count": 18,
   "metadata": {},
   "outputs": [],
   "source": [
    "np.save(\"results\", [mse, nmae, ncrps, es_scores, forecasts, forecast_time, y_real])"
   ]
  },
  {
   "cell_type": "code",
   "execution_count": null,
   "metadata": {},
   "outputs": [],
   "source": [
    "# loaded_results = np.load(\"results.npy\", allow_pickle=True)\n",
    "# loaded_results"
   ]
  },
  {
   "cell_type": "code",
   "execution_count": 19,
   "metadata": {},
   "outputs": [],
   "source": [
    "def dict_subset(dic, keys=[]):\n",
    "    return {k:dic[k] for k in keys} if keys is not [] else None"
   ]
  },
  {
   "cell_type": "code",
   "execution_count": 20,
   "metadata": {},
   "outputs": [
    {
     "data": {
      "image/png": "[encoded data removed]",
      "text/plain": [
       "<Figure size 720x288 with 1 Axes>"
      ]
     },
     "metadata": {
      "needs_background": "light"
     },
     "output_type": "display_data"
    }
   ],
   "source": [
    "mse_subset = dict_subset(es_scores, keys=['qnaiveW', 'qnaiveX', 'nonbayesian', 'al', 'sfal', 'ep', 'sfep', 'alep', 'sfalep'])\n",
    "plt.figure(figsize=(10,4))\n",
    "plt.boxplot(mse.values())\n",
    "plt.xticks(range(1, len(mse.keys())+1),mse.keys())\n",
    "for i, txt in enumerate(np.array([np.round(np.mean(v),4) for v in mse.values()]).astype('str')):\n",
    "    # np.max(list(mse.values()))[i]\n",
    "    plt.text(i+0.7, 0.51, s=txt)\n",
    "plt.grid()\n",
    "plt.ylim([-0.025,.5])\n",
    "plt.ylabel('MSE')\n",
    "plt.show()"
   ]
  },
  {
   "cell_type": "code",
   "execution_count": 21,
   "metadata": {},
   "outputs": [
    {
     "data": {
      "image/png": "[encoded data removed]",
      "text/plain": [
       "<Figure size 720x288 with 1 Axes>"
      ]
     },
     "metadata": {
      "needs_background": "light"
     },
     "output_type": "display_data"
    }
   ],
   "source": [
    "nmae_avg = []\n",
    "nmae_models = ['qnaiveW', 'qnaiveX', 'nonbayesian', 'al', 'sfal', 'ep', 'sfep', 'alep', 'sfalep']\n",
    "for k in nmae_models:\n",
    "    if k == 'nonbayesian':\n",
    "        nmae_avg.append(np.array(nmae[k]))\n",
    "    else:\n",
    "        nmae_avg.append(np.array(nmae[k]).mean(axis=2).flatten())\n",
    "\n",
    "plt.figure(figsize=(10,4))\n",
    "plt.boxplot(nmae_avg)\n",
    "plt.xticks(range(1, len(nmae_models)+1),nmae_models)\n",
    "for i, txt in enumerate(np.array([np.round(np.mean(v),4) for v in nmae_avg]).astype('str')):\n",
    "    # np.max(list(mse.values()))[i]\n",
    "    plt.text(i+0.7, 0.7, s=txt)\n",
    "plt.grid()\n",
    "plt.ylim([0,.68])\n",
    "plt.ylabel('MAE')\n",
    "plt.show()"
   ]
  },
  {
   "cell_type": "code",
   "execution_count": 22,
   "metadata": {
    "scrolled": true
   },
   "outputs": [
    {
     "data": {
      "image/png": "[encoded data removed]",
      "text/plain": [
       "<Figure size 720x288 with 1 Axes>"
      ]
     },
     "metadata": {
      "needs_background": "light"
     },
     "output_type": "display_data"
    }
   ],
   "source": [
    "ncrps_avg = []\n",
    "ncrps_models = ['qnaiveW', 'qnaiveX', 'al', 'sfal', 'ep', 'sfep', 'alep', 'sfalep']\n",
    "for k in ncrps_models:\n",
    "    ncrps_avg.append(np.array(ncrps[k]).mean(axis=2).flatten())\n",
    "\n",
    "plt.figure(figsize=(10,4))\n",
    "plt.boxplot(ncrps_avg)\n",
    "plt.xticks(range(1, len(ncrps_models)+1),ncrps_models)\n",
    "for i, txt in enumerate(np.array([np.round(np.mean(v),4) for v in ncrps_avg]).astype('str')):\n",
    "    # np.max(list(mse.values()))[i]\n",
    "    plt.text(i+0.7, 0.7, s=txt)\n",
    "plt.grid()\n",
    "plt.ylim([0,.68])\n",
    "plt.ylabel('CRPS')\n",
    "plt.show()"
   ]
  },
  {
   "cell_type": "code",
   "execution_count": 23,
   "metadata": {},
   "outputs": [
    {
     "data": {
      "image/png": "[encoded data removed]",
      "text/plain": [
       "<Figure size 432x288 with 1 Axes>"
      ]
     },
     "metadata": {
      "needs_background": "light"
     },
     "output_type": "display_data"
    }
   ],
   "source": [
    "es_scores_subset = dict_subset(es_scores, keys=['sfep', 'sfal', 'sfalep'])\n",
    "plt.figure(figsize=(6,4))\n",
    "plt.boxplot(es_scores_subset.values())\n",
    "plt.xticks(range(1, len(es_scores_subset.keys())+1),es_scores_subset.keys())\n",
    "for i, txt in enumerate(np.array([np.round(np.mean(v),4) for v in es_scores_subset.values()]).astype('str')):\n",
    "    # np.max(list(mse.values()))[i]\n",
    "    plt.text(i+0.85, 2.7, s=txt)\n",
    "plt.grid()\n",
    "plt.ylim([0,2.6])\n",
    "plt.ylabel('ES')\n",
    "plt.show()"
   ]
  }
 ],
 "metadata": {
  "kernelspec": {
   "display_name": "Python [conda env:thesis]",
   "language": "python",
   "name": "conda-env-thesis-py"
  },
  "language_info": {
   "codemirror_mode": {
    "name": "ipython",
    "version": 3
   },
   "file_extension": ".py",
   "mimetype": "text/x-python",
   "name": "python",
   "nbconvert_exporter": "python",
   "pygments_lexer": "ipython3",
   "version": "3.7.7"
  }
 },
 "nbformat": 4,
 "nbformat_minor": 2
}
